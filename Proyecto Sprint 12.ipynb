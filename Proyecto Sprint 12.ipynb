{
 "cells": [
  {
   "cell_type": "markdown",
   "metadata": {},
   "source": [
    "<b>¡Hola Esteban!</b>\n",
    "\n",
    "Mi nombre es Alejandro Abia y tengo el gusto de revisar tu proyecto.\n",
    "\n",
    "A continuación, encontrarás mis comentarios en celdas pintadas de tres colores (verde, amarillo y rojo), a manera de semáforo. Por favor, <b>no las borres ni muevas de posición</b> mientras dure el proceso de revisión.\n",
    "\n",
    "<div class=\"alert alert-block alert-success\">\n",
    "<b>Éxito</b> <a class=\"tocSkip\"></a>\n",
    "En celdas verdes encontrarás comentarios en relación a tus aciertos y fortalezas.\n",
    "</div>\n",
    "<div class=\"alert alert-block alert-warning\">\n",
    "<b>Antención</b> <a class=\"tocSkip\"></a>\n",
    "Utilizaré el color amarillo para llamar tu atención, expresar algo importante o compartirte alguna idea de valor.\n",
    "</div>\n",
    "<div class=\"alert alert-block alert-danger\">\n",
    "<b>A resolver</b> <a class=\"tocSkip\"></a>\n",
    "En rojo emitiré aquellos puntos que deberás atender para aprobar la revisión.\n",
    "</div>\n",
    "<div class=\"alert alert-block alert-info\">\n",
    "<b>Comentario estudiante</b><a class=\"tocSkip\"></a>\n",
    "Es factible que, a lo largo del proceso de revisión, quieras dejarme comentarios. Si es el caso, por favor realízalo dentro de celdas azules como esta.\n",
    "</div>\n",
    "Respecto del proceso de revisión, tu proyecto será aceptado una vez que los comentarios en rojo hayan sido atendidos.\n",
    "¡Empecemos!"
   ]
  },
  {
   "cell_type": "markdown",
   "metadata": {},
   "source": [
    "El servicio de venta de autos usados Rusty Bargain está desarrollando una aplicación para atraer nuevos clientes. Gracias a esa app, puedes averiguar rápidamente el valor de mercado de tu coche. Tienes acceso al historial: especificaciones técnicas, versiones de equipamiento y precios. Tienes que crear un modelo que determine el valor de mercado.\n",
    "A Rusty Bargain le interesa:\n",
    "- la calidad de la predicción;\n",
    "- la velocidad de la predicción;\n",
    "- el tiempo requerido para el entrenamiento"
   ]
  },
  {
   "cell_type": "markdown",
   "metadata": {},
   "source": [
    "## Introducción\n",
    "\n",
    "A continuación se realizará el entrenamiento y prueba de cuatro modelos de aprendizaje automático para resolver la tarea de predicción de precio de venta de autos usados para la empresa RustyBargain. Los modelos a realizar son los siguientes:\n",
    "* Regresión Lineal\n",
    "* Árbol de decisión (Decision Tree)\n",
    "* Bosque aleatorio (Random Forest)\n",
    "* Árbol con potenciación de gradiente (Gradient Boosted Tree)\n",
    "\n",
    "El modelo de regresión lineal se utilizará como base para comparar los otros tres modelos, por lo que deben poseer como mínimo un valor del RMSE más bajo para ser considerados satisfactorios."
   ]
  },
  {
   "cell_type": "markdown",
   "metadata": {},
   "source": [
    "## Preparación de datos"
   ]
  },
  {
   "cell_type": "markdown",
   "metadata": {},
   "source": [
    "### Importación de librerías"
   ]
  },
  {
   "cell_type": "code",
   "execution_count": 1,
   "metadata": {},
   "outputs": [
    {
     "name": "stdout",
     "output_type": "stream",
     "text": [
      "CPU times: user 541 ms, sys: 277 ms, total: 819 ms\n",
      "Wall time: 797 ms\n"
     ]
    }
   ],
   "source": [
    "%%time\n",
    "import numpy as np\n",
    "import pandas as pd\n",
    "from sklearn.linear_model import LinearRegression\n",
    "import warnings\n",
    "warnings.filterwarnings('ignore')\n",
    "warnings.simplefilter('ignore')\n",
    "\n",
    "rs = 12345 #random state\n",
    "ts = 0.2 #test size"
   ]
  },
  {
   "cell_type": "markdown",
   "metadata": {},
   "source": [
    "<div class=\"alert alert-block alert-success\">\n",
    "<b>Éxito</b> <a class=\"tocSkip\"></a>\n",
    "Las librerías necesarias se han importado correctamente, cubriendo las necesidades del proyecto.</div>\n"
   ]
  },
  {
   "cell_type": "markdown",
   "metadata": {},
   "source": [
    "### Importación y descripción de datos"
   ]
  },
  {
   "cell_type": "markdown",
   "metadata": {},
   "source": [
    "<div class=\"alert alert-block alert-success\">\n",
    "<b>Éxito</b> <a class=\"tocSkip\"></a>\n",
    "Los datos han sido importados correctamente y has proporcionado una descripción clara de las primeras filas y de las características numéricas del dataset.</div>\n"
   ]
  },
  {
   "cell_type": "code",
   "execution_count": 2,
   "metadata": {},
   "outputs": [
    {
     "data": {
      "text/html": [
       "<div>\n",
       "<style scoped>\n",
       "    .dataframe tbody tr th:only-of-type {\n",
       "        vertical-align: middle;\n",
       "    }\n",
       "\n",
       "    .dataframe tbody tr th {\n",
       "        vertical-align: top;\n",
       "    }\n",
       "\n",
       "    .dataframe thead th {\n",
       "        text-align: right;\n",
       "    }\n",
       "</style>\n",
       "<table border=\"1\" class=\"dataframe\">\n",
       "  <thead>\n",
       "    <tr style=\"text-align: right;\">\n",
       "      <th></th>\n",
       "      <th>DateCrawled</th>\n",
       "      <th>Price</th>\n",
       "      <th>VehicleType</th>\n",
       "      <th>RegistrationYear</th>\n",
       "      <th>Gearbox</th>\n",
       "      <th>Power</th>\n",
       "      <th>Model</th>\n",
       "      <th>Mileage</th>\n",
       "      <th>RegistrationMonth</th>\n",
       "      <th>FuelType</th>\n",
       "      <th>Brand</th>\n",
       "      <th>NotRepaired</th>\n",
       "      <th>DateCreated</th>\n",
       "      <th>NumberOfPictures</th>\n",
       "      <th>PostalCode</th>\n",
       "      <th>LastSeen</th>\n",
       "    </tr>\n",
       "  </thead>\n",
       "  <tbody>\n",
       "    <tr>\n",
       "      <th>0</th>\n",
       "      <td>24/03/2016 11:52</td>\n",
       "      <td>480</td>\n",
       "      <td>NaN</td>\n",
       "      <td>1993</td>\n",
       "      <td>manual</td>\n",
       "      <td>0</td>\n",
       "      <td>golf</td>\n",
       "      <td>150000</td>\n",
       "      <td>0</td>\n",
       "      <td>petrol</td>\n",
       "      <td>volkswagen</td>\n",
       "      <td>NaN</td>\n",
       "      <td>24/03/2016 00:00</td>\n",
       "      <td>0</td>\n",
       "      <td>70435</td>\n",
       "      <td>07/04/2016 03:16</td>\n",
       "    </tr>\n",
       "    <tr>\n",
       "      <th>1</th>\n",
       "      <td>24/03/2016 10:58</td>\n",
       "      <td>18300</td>\n",
       "      <td>coupe</td>\n",
       "      <td>2011</td>\n",
       "      <td>manual</td>\n",
       "      <td>190</td>\n",
       "      <td>NaN</td>\n",
       "      <td>125000</td>\n",
       "      <td>5</td>\n",
       "      <td>gasoline</td>\n",
       "      <td>audi</td>\n",
       "      <td>yes</td>\n",
       "      <td>24/03/2016 00:00</td>\n",
       "      <td>0</td>\n",
       "      <td>66954</td>\n",
       "      <td>07/04/2016 01:46</td>\n",
       "    </tr>\n",
       "    <tr>\n",
       "      <th>2</th>\n",
       "      <td>14/03/2016 12:52</td>\n",
       "      <td>9800</td>\n",
       "      <td>suv</td>\n",
       "      <td>2004</td>\n",
       "      <td>auto</td>\n",
       "      <td>163</td>\n",
       "      <td>grand</td>\n",
       "      <td>125000</td>\n",
       "      <td>8</td>\n",
       "      <td>gasoline</td>\n",
       "      <td>jeep</td>\n",
       "      <td>NaN</td>\n",
       "      <td>14/03/2016 00:00</td>\n",
       "      <td>0</td>\n",
       "      <td>90480</td>\n",
       "      <td>05/04/2016 12:47</td>\n",
       "    </tr>\n",
       "    <tr>\n",
       "      <th>3</th>\n",
       "      <td>17/03/2016 16:54</td>\n",
       "      <td>1500</td>\n",
       "      <td>small</td>\n",
       "      <td>2001</td>\n",
       "      <td>manual</td>\n",
       "      <td>75</td>\n",
       "      <td>golf</td>\n",
       "      <td>150000</td>\n",
       "      <td>6</td>\n",
       "      <td>petrol</td>\n",
       "      <td>volkswagen</td>\n",
       "      <td>no</td>\n",
       "      <td>17/03/2016 00:00</td>\n",
       "      <td>0</td>\n",
       "      <td>91074</td>\n",
       "      <td>17/03/2016 17:40</td>\n",
       "    </tr>\n",
       "    <tr>\n",
       "      <th>4</th>\n",
       "      <td>31/03/2016 17:25</td>\n",
       "      <td>3600</td>\n",
       "      <td>small</td>\n",
       "      <td>2008</td>\n",
       "      <td>manual</td>\n",
       "      <td>69</td>\n",
       "      <td>fabia</td>\n",
       "      <td>90000</td>\n",
       "      <td>7</td>\n",
       "      <td>gasoline</td>\n",
       "      <td>skoda</td>\n",
       "      <td>no</td>\n",
       "      <td>31/03/2016 00:00</td>\n",
       "      <td>0</td>\n",
       "      <td>60437</td>\n",
       "      <td>06/04/2016 10:17</td>\n",
       "    </tr>\n",
       "  </tbody>\n",
       "</table>\n",
       "</div>"
      ],
      "text/plain": [
       "        DateCrawled  Price VehicleType  RegistrationYear Gearbox  Power  \\\n",
       "0  24/03/2016 11:52    480         NaN              1993  manual      0   \n",
       "1  24/03/2016 10:58  18300       coupe              2011  manual    190   \n",
       "2  14/03/2016 12:52   9800         suv              2004    auto    163   \n",
       "3  17/03/2016 16:54   1500       small              2001  manual     75   \n",
       "4  31/03/2016 17:25   3600       small              2008  manual     69   \n",
       "\n",
       "   Model  Mileage  RegistrationMonth  FuelType       Brand NotRepaired  \\\n",
       "0   golf   150000                  0    petrol  volkswagen         NaN   \n",
       "1    NaN   125000                  5  gasoline        audi         yes   \n",
       "2  grand   125000                  8  gasoline        jeep         NaN   \n",
       "3   golf   150000                  6    petrol  volkswagen          no   \n",
       "4  fabia    90000                  7  gasoline       skoda          no   \n",
       "\n",
       "        DateCreated  NumberOfPictures  PostalCode          LastSeen  \n",
       "0  24/03/2016 00:00                 0       70435  07/04/2016 03:16  \n",
       "1  24/03/2016 00:00                 0       66954  07/04/2016 01:46  \n",
       "2  14/03/2016 00:00                 0       90480  05/04/2016 12:47  \n",
       "3  17/03/2016 00:00                 0       91074  17/03/2016 17:40  \n",
       "4  31/03/2016 00:00                 0       60437  06/04/2016 10:17  "
      ]
     },
     "execution_count": 2,
     "metadata": {},
     "output_type": "execute_result"
    }
   ],
   "source": [
    "df = pd.read_csv(\"https://practicum-content.s3.us-west-1.amazonaws.com/datasets/car_data.csv\")\n",
    "df.head()"
   ]
  },
  {
   "cell_type": "code",
   "execution_count": 3,
   "metadata": {},
   "outputs": [
    {
     "data": {
      "text/html": [
       "<div>\n",
       "<style scoped>\n",
       "    .dataframe tbody tr th:only-of-type {\n",
       "        vertical-align: middle;\n",
       "    }\n",
       "\n",
       "    .dataframe tbody tr th {\n",
       "        vertical-align: top;\n",
       "    }\n",
       "\n",
       "    .dataframe thead th {\n",
       "        text-align: right;\n",
       "    }\n",
       "</style>\n",
       "<table border=\"1\" class=\"dataframe\">\n",
       "  <thead>\n",
       "    <tr style=\"text-align: right;\">\n",
       "      <th></th>\n",
       "      <th>Price</th>\n",
       "      <th>RegistrationYear</th>\n",
       "      <th>Power</th>\n",
       "      <th>Mileage</th>\n",
       "      <th>RegistrationMonth</th>\n",
       "      <th>NumberOfPictures</th>\n",
       "      <th>PostalCode</th>\n",
       "    </tr>\n",
       "  </thead>\n",
       "  <tbody>\n",
       "    <tr>\n",
       "      <th>count</th>\n",
       "      <td>354369.000000</td>\n",
       "      <td>354369.000000</td>\n",
       "      <td>354369.000000</td>\n",
       "      <td>354369.000000</td>\n",
       "      <td>354369.000000</td>\n",
       "      <td>354369.0</td>\n",
       "      <td>354369.000000</td>\n",
       "    </tr>\n",
       "    <tr>\n",
       "      <th>mean</th>\n",
       "      <td>4416.656776</td>\n",
       "      <td>2004.234448</td>\n",
       "      <td>110.094337</td>\n",
       "      <td>128211.172535</td>\n",
       "      <td>5.714645</td>\n",
       "      <td>0.0</td>\n",
       "      <td>50508.689087</td>\n",
       "    </tr>\n",
       "    <tr>\n",
       "      <th>std</th>\n",
       "      <td>4514.158514</td>\n",
       "      <td>90.227958</td>\n",
       "      <td>189.850405</td>\n",
       "      <td>37905.341530</td>\n",
       "      <td>3.726421</td>\n",
       "      <td>0.0</td>\n",
       "      <td>25783.096248</td>\n",
       "    </tr>\n",
       "    <tr>\n",
       "      <th>min</th>\n",
       "      <td>0.000000</td>\n",
       "      <td>1000.000000</td>\n",
       "      <td>0.000000</td>\n",
       "      <td>5000.000000</td>\n",
       "      <td>0.000000</td>\n",
       "      <td>0.0</td>\n",
       "      <td>1067.000000</td>\n",
       "    </tr>\n",
       "    <tr>\n",
       "      <th>25%</th>\n",
       "      <td>1050.000000</td>\n",
       "      <td>1999.000000</td>\n",
       "      <td>69.000000</td>\n",
       "      <td>125000.000000</td>\n",
       "      <td>3.000000</td>\n",
       "      <td>0.0</td>\n",
       "      <td>30165.000000</td>\n",
       "    </tr>\n",
       "    <tr>\n",
       "      <th>50%</th>\n",
       "      <td>2700.000000</td>\n",
       "      <td>2003.000000</td>\n",
       "      <td>105.000000</td>\n",
       "      <td>150000.000000</td>\n",
       "      <td>6.000000</td>\n",
       "      <td>0.0</td>\n",
       "      <td>49413.000000</td>\n",
       "    </tr>\n",
       "    <tr>\n",
       "      <th>75%</th>\n",
       "      <td>6400.000000</td>\n",
       "      <td>2008.000000</td>\n",
       "      <td>143.000000</td>\n",
       "      <td>150000.000000</td>\n",
       "      <td>9.000000</td>\n",
       "      <td>0.0</td>\n",
       "      <td>71083.000000</td>\n",
       "    </tr>\n",
       "    <tr>\n",
       "      <th>max</th>\n",
       "      <td>20000.000000</td>\n",
       "      <td>9999.000000</td>\n",
       "      <td>20000.000000</td>\n",
       "      <td>150000.000000</td>\n",
       "      <td>12.000000</td>\n",
       "      <td>0.0</td>\n",
       "      <td>99998.000000</td>\n",
       "    </tr>\n",
       "  </tbody>\n",
       "</table>\n",
       "</div>"
      ],
      "text/plain": [
       "               Price  RegistrationYear          Power        Mileage  \\\n",
       "count  354369.000000     354369.000000  354369.000000  354369.000000   \n",
       "mean     4416.656776       2004.234448     110.094337  128211.172535   \n",
       "std      4514.158514         90.227958     189.850405   37905.341530   \n",
       "min         0.000000       1000.000000       0.000000    5000.000000   \n",
       "25%      1050.000000       1999.000000      69.000000  125000.000000   \n",
       "50%      2700.000000       2003.000000     105.000000  150000.000000   \n",
       "75%      6400.000000       2008.000000     143.000000  150000.000000   \n",
       "max     20000.000000       9999.000000   20000.000000  150000.000000   \n",
       "\n",
       "       RegistrationMonth  NumberOfPictures     PostalCode  \n",
       "count      354369.000000          354369.0  354369.000000  \n",
       "mean            5.714645               0.0   50508.689087  \n",
       "std             3.726421               0.0   25783.096248  \n",
       "min             0.000000               0.0    1067.000000  \n",
       "25%             3.000000               0.0   30165.000000  \n",
       "50%             6.000000               0.0   49413.000000  \n",
       "75%             9.000000               0.0   71083.000000  \n",
       "max            12.000000               0.0   99998.000000  "
      ]
     },
     "execution_count": 3,
     "metadata": {},
     "output_type": "execute_result"
    }
   ],
   "source": [
    "# Breve descripción de la distribución de las columnas numéricas.\n",
    "df.describe()"
   ]
  },
  {
   "cell_type": "code",
   "execution_count": 4,
   "metadata": {},
   "outputs": [
    {
     "name": "stdout",
     "output_type": "stream",
     "text": [
      "<class 'pandas.core.frame.DataFrame'>\n",
      "RangeIndex: 354369 entries, 0 to 354368\n",
      "Data columns (total 16 columns):\n",
      " #   Column             Non-Null Count   Dtype \n",
      "---  ------             --------------   ----- \n",
      " 0   DateCrawled        354369 non-null  object\n",
      " 1   Price              354369 non-null  int64 \n",
      " 2   VehicleType        316879 non-null  object\n",
      " 3   RegistrationYear   354369 non-null  int64 \n",
      " 4   Gearbox            334536 non-null  object\n",
      " 5   Power              354369 non-null  int64 \n",
      " 6   Model              334664 non-null  object\n",
      " 7   Mileage            354369 non-null  int64 \n",
      " 8   RegistrationMonth  354369 non-null  int64 \n",
      " 9   FuelType           321474 non-null  object\n",
      " 10  Brand              354369 non-null  object\n",
      " 11  NotRepaired        283215 non-null  object\n",
      " 12  DateCreated        354369 non-null  object\n",
      " 13  NumberOfPictures   354369 non-null  int64 \n",
      " 14  PostalCode         354369 non-null  int64 \n",
      " 15  LastSeen           354369 non-null  object\n",
      "dtypes: int64(7), object(9)\n",
      "memory usage: 43.3+ MB\n"
     ]
    }
   ],
   "source": [
    "# Descripción de las columnas.\n",
    "df.info()"
   ]
  },
  {
   "cell_type": "markdown",
   "metadata": {},
   "source": [
    "Podemos ver que hay valores faltantes en las columnas:\n",
    "* VehicleType\n",
    "* Gearbox\n",
    "* Model\n",
    "* FuelType\n",
    "* NotRepaired"
   ]
  },
  {
   "cell_type": "markdown",
   "metadata": {},
   "source": [
    "### Procesamiento de columnas"
   ]
  },
  {
   "cell_type": "markdown",
   "metadata": {},
   "source": [
    "<div class=\"alert alert-block alert-success\">\n",
    "<b>Éxito</b> <a class=\"tocSkip\"></a>\n",
    "Los valores faltantes han sido manejados correctamente, evitando la eliminación innecesaria de datos y preservando la mayor cantidad de información posible.</div>\n"
   ]
  },
  {
   "cell_type": "code",
   "execution_count": 5,
   "metadata": {},
   "outputs": [
    {
     "data": {
      "text/plain": [
       "Index(['datecrawled', 'price', 'vehicletype', 'registrationyear', 'gearbox',\n",
       "       'power', 'model', 'mileage', 'registrationmonth', 'fueltype', 'brand',\n",
       "       'notrepaired', 'datecreated', 'numberofpictures', 'postalcode',\n",
       "       'lastseen'],\n",
       "      dtype='object')"
      ]
     },
     "execution_count": 5,
     "metadata": {},
     "output_type": "execute_result"
    }
   ],
   "source": [
    "# Convertimos los nombres de las columnas a minúsculas\n",
    "df.columns = df.columns.str.lower()\n",
    "df.columns"
   ]
  },
  {
   "cell_type": "code",
   "execution_count": 6,
   "metadata": {},
   "outputs": [
    {
     "name": "stdout",
     "output_type": "stream",
     "text": [
      "CPU times: user 36.5 s, sys: 37.1 ms, total: 36.6 s\n",
      "Wall time: 36.7 s\n"
     ]
    },
    {
     "data": {
      "text/html": [
       "<div>\n",
       "<style scoped>\n",
       "    .dataframe tbody tr th:only-of-type {\n",
       "        vertical-align: middle;\n",
       "    }\n",
       "\n",
       "    .dataframe tbody tr th {\n",
       "        vertical-align: top;\n",
       "    }\n",
       "\n",
       "    .dataframe thead th {\n",
       "        text-align: right;\n",
       "    }\n",
       "</style>\n",
       "<table border=\"1\" class=\"dataframe\">\n",
       "  <thead>\n",
       "    <tr style=\"text-align: right;\">\n",
       "      <th></th>\n",
       "      <th>datecrawled</th>\n",
       "      <th>price</th>\n",
       "      <th>vehicletype</th>\n",
       "      <th>registrationyear</th>\n",
       "      <th>gearbox</th>\n",
       "      <th>power</th>\n",
       "      <th>model</th>\n",
       "      <th>mileage</th>\n",
       "      <th>registrationmonth</th>\n",
       "      <th>fueltype</th>\n",
       "      <th>brand</th>\n",
       "      <th>notrepaired</th>\n",
       "      <th>datecreated</th>\n",
       "      <th>numberofpictures</th>\n",
       "      <th>postalcode</th>\n",
       "      <th>lastseen</th>\n",
       "    </tr>\n",
       "  </thead>\n",
       "  <tbody>\n",
       "    <tr>\n",
       "      <th>0</th>\n",
       "      <td>1458820320000000000</td>\n",
       "      <td>480</td>\n",
       "      <td>NaN</td>\n",
       "      <td>1993</td>\n",
       "      <td>manual</td>\n",
       "      <td>0</td>\n",
       "      <td>golf</td>\n",
       "      <td>150000</td>\n",
       "      <td>0</td>\n",
       "      <td>petrol</td>\n",
       "      <td>volkswagen</td>\n",
       "      <td>NaN</td>\n",
       "      <td>1458777600000000000</td>\n",
       "      <td>0</td>\n",
       "      <td>70435</td>\n",
       "      <td>1467602160000000000</td>\n",
       "    </tr>\n",
       "    <tr>\n",
       "      <th>1</th>\n",
       "      <td>1458817080000000000</td>\n",
       "      <td>18300</td>\n",
       "      <td>coupe</td>\n",
       "      <td>2011</td>\n",
       "      <td>manual</td>\n",
       "      <td>190</td>\n",
       "      <td>NaN</td>\n",
       "      <td>125000</td>\n",
       "      <td>5</td>\n",
       "      <td>gasoline</td>\n",
       "      <td>audi</td>\n",
       "      <td>yes</td>\n",
       "      <td>1458777600000000000</td>\n",
       "      <td>0</td>\n",
       "      <td>66954</td>\n",
       "      <td>1467596760000000000</td>\n",
       "    </tr>\n",
       "    <tr>\n",
       "      <th>2</th>\n",
       "      <td>1457959920000000000</td>\n",
       "      <td>9800</td>\n",
       "      <td>suv</td>\n",
       "      <td>2004</td>\n",
       "      <td>auto</td>\n",
       "      <td>163</td>\n",
       "      <td>grand</td>\n",
       "      <td>125000</td>\n",
       "      <td>8</td>\n",
       "      <td>gasoline</td>\n",
       "      <td>jeep</td>\n",
       "      <td>NaN</td>\n",
       "      <td>1457913600000000000</td>\n",
       "      <td>0</td>\n",
       "      <td>90480</td>\n",
       "      <td>1462366020000000000</td>\n",
       "    </tr>\n",
       "    <tr>\n",
       "      <th>3</th>\n",
       "      <td>1458233640000000000</td>\n",
       "      <td>1500</td>\n",
       "      <td>small</td>\n",
       "      <td>2001</td>\n",
       "      <td>manual</td>\n",
       "      <td>75</td>\n",
       "      <td>golf</td>\n",
       "      <td>150000</td>\n",
       "      <td>6</td>\n",
       "      <td>petrol</td>\n",
       "      <td>volkswagen</td>\n",
       "      <td>no</td>\n",
       "      <td>1458172800000000000</td>\n",
       "      <td>0</td>\n",
       "      <td>91074</td>\n",
       "      <td>1458236400000000000</td>\n",
       "    </tr>\n",
       "    <tr>\n",
       "      <th>4</th>\n",
       "      <td>1459445100000000000</td>\n",
       "      <td>3600</td>\n",
       "      <td>small</td>\n",
       "      <td>2008</td>\n",
       "      <td>manual</td>\n",
       "      <td>69</td>\n",
       "      <td>fabia</td>\n",
       "      <td>90000</td>\n",
       "      <td>7</td>\n",
       "      <td>gasoline</td>\n",
       "      <td>skoda</td>\n",
       "      <td>no</td>\n",
       "      <td>1459382400000000000</td>\n",
       "      <td>0</td>\n",
       "      <td>60437</td>\n",
       "      <td>1465035420000000000</td>\n",
       "    </tr>\n",
       "  </tbody>\n",
       "</table>\n",
       "</div>"
      ],
      "text/plain": [
       "           datecrawled  price vehicletype  registrationyear gearbox  power  \\\n",
       "0  1458820320000000000    480         NaN              1993  manual      0   \n",
       "1  1458817080000000000  18300       coupe              2011  manual    190   \n",
       "2  1457959920000000000   9800         suv              2004    auto    163   \n",
       "3  1458233640000000000   1500       small              2001  manual     75   \n",
       "4  1459445100000000000   3600       small              2008  manual     69   \n",
       "\n",
       "   model  mileage  registrationmonth  fueltype       brand notrepaired  \\\n",
       "0   golf   150000                  0    petrol  volkswagen         NaN   \n",
       "1    NaN   125000                  5  gasoline        audi         yes   \n",
       "2  grand   125000                  8  gasoline        jeep         NaN   \n",
       "3   golf   150000                  6    petrol  volkswagen          no   \n",
       "4  fabia    90000                  7  gasoline       skoda          no   \n",
       "\n",
       "           datecreated  numberofpictures  postalcode             lastseen  \n",
       "0  1458777600000000000                 0       70435  1467602160000000000  \n",
       "1  1458777600000000000                 0       66954  1467596760000000000  \n",
       "2  1457913600000000000                 0       90480  1462366020000000000  \n",
       "3  1458172800000000000                 0       91074  1458236400000000000  \n",
       "4  1459382400000000000                 0       60437  1465035420000000000  "
      ]
     },
     "execution_count": 6,
     "metadata": {},
     "output_type": "execute_result"
    }
   ],
   "source": [
    "%%time\n",
    "# Convertimos las fechas a numérico.\n",
    "dates = [\"datecrawled\",\"datecreated\",\"lastseen\"]\n",
    "for d in dates:\n",
    "    df[d] = pd.to_numeric(pd.to_datetime(df[d]))\n",
    "df.head()"
   ]
  },
  {
   "cell_type": "markdown",
   "metadata": {},
   "source": [
    "### Tratamiento de valores faltantes"
   ]
  },
  {
   "cell_type": "markdown",
   "metadata": {},
   "source": [
    "<div class=\"alert alert-block alert-success\">\n",
    "<b>Éxito</b> <a class=\"tocSkip\"></a>\n",
    "Los valores faltantes han sido manejados correctamente, evitando la eliminación innecesaria de datos y preservando la mayor cantidad de información posible.</div>\n"
   ]
  },
  {
   "cell_type": "code",
   "execution_count": 7,
   "metadata": {},
   "outputs": [
    {
     "data": {
      "text/plain": [
       "sedan          91457\n",
       "small          79831\n",
       "wagon          65166\n",
       "other          40778\n",
       "bus            28775\n",
       "convertible    20203\n",
       "coupe          16163\n",
       "suv            11996\n",
       "Name: vehicletype, dtype: int64"
      ]
     },
     "execution_count": 7,
     "metadata": {},
     "output_type": "execute_result"
    }
   ],
   "source": [
    "df.vehicletype.fillna(\"other\",inplace=True)\n",
    "df.vehicletype.value_counts(dropna=False)"
   ]
  },
  {
   "cell_type": "code",
   "execution_count": 8,
   "metadata": {},
   "outputs": [
    {
     "data": {
      "text/plain": [
       "manual    268251\n",
       "auto       66285\n",
       "other      19833\n",
       "Name: gearbox, dtype: int64"
      ]
     },
     "execution_count": 8,
     "metadata": {},
     "output_type": "execute_result"
    }
   ],
   "source": [
    "df.gearbox.fillna(\"other\",inplace=True)\n",
    "df.gearbox.value_counts(dropna=False)"
   ]
  },
  {
   "cell_type": "code",
   "execution_count": 9,
   "metadata": {},
   "outputs": [
    {
     "data": {
      "text/plain": [
       "other                 44126\n",
       "golf                  29232\n",
       "3er                   19761\n",
       "polo                  13066\n",
       "corsa                 12570\n",
       "                      ...  \n",
       "serie_2                   8\n",
       "serie_3                   4\n",
       "rangerover                4\n",
       "serie_1                   2\n",
       "range_rover_evoque        2\n",
       "Name: model, Length: 250, dtype: int64"
      ]
     },
     "execution_count": 9,
     "metadata": {},
     "output_type": "execute_result"
    }
   ],
   "source": [
    "df.model.fillna(\"other\",inplace=True)\n",
    "df.model.value_counts(dropna=False)"
   ]
  },
  {
   "cell_type": "code",
   "execution_count": 10,
   "metadata": {},
   "outputs": [
    {
     "data": {
      "text/plain": [
       "petrol      216352\n",
       "gasoline     98720\n",
       "other        33099\n",
       "lpg           5310\n",
       "cng            565\n",
       "hybrid         233\n",
       "electric        90\n",
       "Name: fueltype, dtype: int64"
      ]
     },
     "execution_count": 10,
     "metadata": {},
     "output_type": "execute_result"
    }
   ],
   "source": [
    "df.fueltype.fillna(\"other\",inplace=True)\n",
    "df.fueltype.value_counts(dropna=False)"
   ]
  },
  {
   "cell_type": "code",
   "execution_count": 11,
   "metadata": {},
   "outputs": [
    {
     "data": {
      "text/plain": [
       "no       247161\n",
       "other     71154\n",
       "yes       36054\n",
       "Name: notrepaired, dtype: int64"
      ]
     },
     "execution_count": 11,
     "metadata": {},
     "output_type": "execute_result"
    }
   ],
   "source": [
    "df.notrepaired.fillna(\"other\",inplace=True)\n",
    "df.notrepaired.value_counts(dropna=False)"
   ]
  },
  {
   "cell_type": "markdown",
   "metadata": {},
   "source": [
    "### Separar objetivo"
   ]
  },
  {
   "cell_type": "code",
   "execution_count": 12,
   "metadata": {},
   "outputs": [],
   "source": [
    "X = df.drop(\"price\",axis=1)\n",
    "y = df[\"price\"]"
   ]
  },
  {
   "cell_type": "markdown",
   "metadata": {},
   "source": [
    "<div class=\"alert alert-block alert-success\">\n",
    "<b>Éxito</b> <a class=\"tocSkip\"></a>\n",
    "La variable objetivo ha sido correctamente separada, lo cual es esencial para el entrenamiento de los modelos.</div>\n"
   ]
  },
  {
   "cell_type": "markdown",
   "metadata": {},
   "source": [
    "### One-Hot Encoding para los datos"
   ]
  },
  {
   "cell_type": "markdown",
   "metadata": {},
   "source": [
    "<div class=\"alert alert-block alert-success\">\n",
    "<b>Éxito</b> <a class=\"tocSkip\"></a>\n",
    "Las características numéricas han sido escaladas correctamente, lo que ayuda a mejorar el rendimiento de ciertos modelos.</div>\n"
   ]
  },
  {
   "cell_type": "markdown",
   "metadata": {},
   "source": [
    "<div class=\"alert alert-block alert-warning\">\n",
    "<b>Atención</b> <a class=\"tocSkip\"></a>\n",
    "No te recomiendo usar el código postal como una variable numérica porque no tiene un orden natural de mayor a menor. Por ejemplo, un código postal de 50000 no es \"mayor\" o \"mejor\" que uno de 30000. En lugar de eso, podrías considerar otra forma de utilizar los códigos postales. En otros proyectos, por ejemplo, podrías agruparlos por regiones (como estados o zonas geográficas) usando los primeros dígitos del código postal. Así, en vez de tener una variable para cada colonia, podrías tener una variable para cada estado o región. Aunque esta técnica es útil en otros contextos, no es necesaria en este proyecto.</div>\n"
   ]
  },
  {
   "cell_type": "code",
   "execution_count": 13,
   "metadata": {},
   "outputs": [
    {
     "data": {
      "text/html": [
       "<div>\n",
       "<style scoped>\n",
       "    .dataframe tbody tr th:only-of-type {\n",
       "        vertical-align: middle;\n",
       "    }\n",
       "\n",
       "    .dataframe tbody tr th {\n",
       "        vertical-align: top;\n",
       "    }\n",
       "\n",
       "    .dataframe thead th {\n",
       "        text-align: right;\n",
       "    }\n",
       "</style>\n",
       "<table border=\"1\" class=\"dataframe\">\n",
       "  <thead>\n",
       "    <tr style=\"text-align: right;\">\n",
       "      <th></th>\n",
       "      <th>datecrawled</th>\n",
       "      <th>registrationyear</th>\n",
       "      <th>power</th>\n",
       "      <th>mileage</th>\n",
       "      <th>registrationmonth</th>\n",
       "      <th>datecreated</th>\n",
       "      <th>numberofpictures</th>\n",
       "      <th>postalcode</th>\n",
       "      <th>lastseen</th>\n",
       "      <th>vehicletype_bus</th>\n",
       "      <th>...</th>\n",
       "      <th>brand_sonstige_autos</th>\n",
       "      <th>brand_subaru</th>\n",
       "      <th>brand_suzuki</th>\n",
       "      <th>brand_toyota</th>\n",
       "      <th>brand_trabant</th>\n",
       "      <th>brand_volkswagen</th>\n",
       "      <th>brand_volvo</th>\n",
       "      <th>notrepaired_no</th>\n",
       "      <th>notrepaired_other</th>\n",
       "      <th>notrepaired_yes</th>\n",
       "    </tr>\n",
       "  </thead>\n",
       "  <tbody>\n",
       "    <tr>\n",
       "      <th>0</th>\n",
       "      <td>1458820320000000000</td>\n",
       "      <td>1993</td>\n",
       "      <td>0</td>\n",
       "      <td>150000</td>\n",
       "      <td>0</td>\n",
       "      <td>1458777600000000000</td>\n",
       "      <td>0</td>\n",
       "      <td>70435</td>\n",
       "      <td>1467602160000000000</td>\n",
       "      <td>0</td>\n",
       "      <td>...</td>\n",
       "      <td>0</td>\n",
       "      <td>0</td>\n",
       "      <td>0</td>\n",
       "      <td>0</td>\n",
       "      <td>0</td>\n",
       "      <td>1</td>\n",
       "      <td>0</td>\n",
       "      <td>0</td>\n",
       "      <td>1</td>\n",
       "      <td>0</td>\n",
       "    </tr>\n",
       "    <tr>\n",
       "      <th>1</th>\n",
       "      <td>1458817080000000000</td>\n",
       "      <td>2011</td>\n",
       "      <td>190</td>\n",
       "      <td>125000</td>\n",
       "      <td>5</td>\n",
       "      <td>1458777600000000000</td>\n",
       "      <td>0</td>\n",
       "      <td>66954</td>\n",
       "      <td>1467596760000000000</td>\n",
       "      <td>0</td>\n",
       "      <td>...</td>\n",
       "      <td>0</td>\n",
       "      <td>0</td>\n",
       "      <td>0</td>\n",
       "      <td>0</td>\n",
       "      <td>0</td>\n",
       "      <td>0</td>\n",
       "      <td>0</td>\n",
       "      <td>0</td>\n",
       "      <td>0</td>\n",
       "      <td>1</td>\n",
       "    </tr>\n",
       "    <tr>\n",
       "      <th>2</th>\n",
       "      <td>1457959920000000000</td>\n",
       "      <td>2004</td>\n",
       "      <td>163</td>\n",
       "      <td>125000</td>\n",
       "      <td>8</td>\n",
       "      <td>1457913600000000000</td>\n",
       "      <td>0</td>\n",
       "      <td>90480</td>\n",
       "      <td>1462366020000000000</td>\n",
       "      <td>0</td>\n",
       "      <td>...</td>\n",
       "      <td>0</td>\n",
       "      <td>0</td>\n",
       "      <td>0</td>\n",
       "      <td>0</td>\n",
       "      <td>0</td>\n",
       "      <td>0</td>\n",
       "      <td>0</td>\n",
       "      <td>0</td>\n",
       "      <td>1</td>\n",
       "      <td>0</td>\n",
       "    </tr>\n",
       "    <tr>\n",
       "      <th>3</th>\n",
       "      <td>1458233640000000000</td>\n",
       "      <td>2001</td>\n",
       "      <td>75</td>\n",
       "      <td>150000</td>\n",
       "      <td>6</td>\n",
       "      <td>1458172800000000000</td>\n",
       "      <td>0</td>\n",
       "      <td>91074</td>\n",
       "      <td>1458236400000000000</td>\n",
       "      <td>0</td>\n",
       "      <td>...</td>\n",
       "      <td>0</td>\n",
       "      <td>0</td>\n",
       "      <td>0</td>\n",
       "      <td>0</td>\n",
       "      <td>0</td>\n",
       "      <td>1</td>\n",
       "      <td>0</td>\n",
       "      <td>1</td>\n",
       "      <td>0</td>\n",
       "      <td>0</td>\n",
       "    </tr>\n",
       "    <tr>\n",
       "      <th>4</th>\n",
       "      <td>1459445100000000000</td>\n",
       "      <td>2008</td>\n",
       "      <td>69</td>\n",
       "      <td>90000</td>\n",
       "      <td>7</td>\n",
       "      <td>1459382400000000000</td>\n",
       "      <td>0</td>\n",
       "      <td>60437</td>\n",
       "      <td>1465035420000000000</td>\n",
       "      <td>0</td>\n",
       "      <td>...</td>\n",
       "      <td>0</td>\n",
       "      <td>0</td>\n",
       "      <td>0</td>\n",
       "      <td>0</td>\n",
       "      <td>0</td>\n",
       "      <td>0</td>\n",
       "      <td>0</td>\n",
       "      <td>1</td>\n",
       "      <td>0</td>\n",
       "      <td>0</td>\n",
       "    </tr>\n",
       "  </tbody>\n",
       "</table>\n",
       "<p>5 rows × 320 columns</p>\n",
       "</div>"
      ],
      "text/plain": [
       "           datecrawled  registrationyear  power  mileage  registrationmonth  \\\n",
       "0  1458820320000000000              1993      0   150000                  0   \n",
       "1  1458817080000000000              2011    190   125000                  5   \n",
       "2  1457959920000000000              2004    163   125000                  8   \n",
       "3  1458233640000000000              2001     75   150000                  6   \n",
       "4  1459445100000000000              2008     69    90000                  7   \n",
       "\n",
       "           datecreated  numberofpictures  postalcode             lastseen  \\\n",
       "0  1458777600000000000                 0       70435  1467602160000000000   \n",
       "1  1458777600000000000                 0       66954  1467596760000000000   \n",
       "2  1457913600000000000                 0       90480  1462366020000000000   \n",
       "3  1458172800000000000                 0       91074  1458236400000000000   \n",
       "4  1459382400000000000                 0       60437  1465035420000000000   \n",
       "\n",
       "   vehicletype_bus  ...  brand_sonstige_autos  brand_subaru  brand_suzuki  \\\n",
       "0                0  ...                     0             0             0   \n",
       "1                0  ...                     0             0             0   \n",
       "2                0  ...                     0             0             0   \n",
       "3                0  ...                     0             0             0   \n",
       "4                0  ...                     0             0             0   \n",
       "\n",
       "   brand_toyota  brand_trabant  brand_volkswagen  brand_volvo  notrepaired_no  \\\n",
       "0             0              0                 1            0               0   \n",
       "1             0              0                 0            0               0   \n",
       "2             0              0                 0            0               0   \n",
       "3             0              0                 1            0               1   \n",
       "4             0              0                 0            0               1   \n",
       "\n",
       "   notrepaired_other  notrepaired_yes  \n",
       "0                  1                0  \n",
       "1                  0                1  \n",
       "2                  1                0  \n",
       "3                  0                0  \n",
       "4                  0                0  \n",
       "\n",
       "[5 rows x 320 columns]"
      ]
     },
     "execution_count": 13,
     "metadata": {},
     "output_type": "execute_result"
    }
   ],
   "source": [
    "#Nota: se tomará postalcode como numérica por temas de espacio, ya que el kernel muere por explosión de dimensionalidad.\n",
    "numeric = [\"registrationyear\",\"power\",\"mileage\",\"registrationmonth\",\"numberofpictures\",\"datecrawled\",\"lastseen\",\"datecreated\",\"postalcode\"]\n",
    "categorical = [x for x in X.columns.tolist() if (x not in numeric)]\n",
    "\n",
    "Xo = pd.get_dummies(X,columns=categorical)\n",
    "Xo.head()\n",
    "#Xo_train = Xo.iloc[X_train.index]\n",
    "#Xo_test = Xo.iloc[X_test.index]"
   ]
  },
  {
   "cell_type": "markdown",
   "metadata": {},
   "source": [
    "### Dividir los datos en conjuntos de entrenamiento y prueba"
   ]
  },
  {
   "cell_type": "markdown",
   "metadata": {},
   "source": [
    "<div class=\"alert alert-block alert-success\">\n",
    "<b>Éxito</b> <a class=\"tocSkip\"></a>\n",
    "Los datos se han dividido correctamente en conjuntos de entrenamiento, validación y prueba, asegurando una evaluación robusta de los modelos.</div>\n"
   ]
  },
  {
   "cell_type": "code",
   "execution_count": 14,
   "metadata": {},
   "outputs": [],
   "source": [
    "from sklearn.model_selection import train_test_split\n",
    "\n",
    "val_size = ts / (1 - ts) # 0.2 / 0.8 = 0.25\n",
    "\n",
    "\n",
    "X_train0, X_test, y_train0, y_test = train_test_split(Xo, y, test_size=ts, random_state = rs)\n",
    "\n",
    "X_train, X_val, y_train, y_val = train_test_split(X_train0, y_train0, \n",
    "    test_size=val_size, random_state=rs)"
   ]
  },
  {
   "cell_type": "markdown",
   "metadata": {},
   "source": [
    "### Escalamiento de datos"
   ]
  },
  {
   "cell_type": "code",
   "execution_count": 15,
   "metadata": {},
   "outputs": [],
   "source": [
    "from sklearn.preprocessing import StandardScaler\n",
    "\n",
    "scaler = StandardScaler()\n",
    "scaler.fit(X_train[numeric])\n",
    "\n",
    "X_train[numeric] = scaler.transform(X_train[numeric])\n",
    "X_val[numeric] = scaler.transform(X_val[numeric])\n",
    "X_test[numeric] = scaler.transform(X_test[numeric])"
   ]
  },
  {
   "cell_type": "markdown",
   "metadata": {},
   "source": [
    "<div class=\"alert alert-block alert-success\">\n",
    "<b>Éxito</b> <a class=\"tocSkip\"></a>\n",
    "Las características numéricas han sido escaladas correctamente, lo que ayuda a mejorar el rendimiento de ciertos modelos.</div>\n"
   ]
  },
  {
   "cell_type": "markdown",
   "metadata": {},
   "source": [
    "## Entrenamiento del modelo "
   ]
  },
  {
   "cell_type": "markdown",
   "metadata": {},
   "source": [
    "### Modelo de Regresión Lineal de Base"
   ]
  },
  {
   "cell_type": "markdown",
   "metadata": {},
   "source": [
    "<div class=\"alert alert-block alert-warning\">\n",
    "<b>Atención</b> <a class=\"tocSkip\"></a>\n",
    "Aunque el modelo de regresión lineal fue entrenado correctamente, el RMSE resultante es alto, lo que es de esperarse para un modelo base.</div>\n"
   ]
  },
  {
   "cell_type": "code",
   "execution_count": 16,
   "metadata": {},
   "outputs": [],
   "source": [
    "from sklearn.metrics import mean_squared_error\n",
    "from sklearn.metrics import mean_absolute_error\n",
    "\n",
    "model = LinearRegression()"
   ]
  },
  {
   "cell_type": "code",
   "execution_count": 17,
   "metadata": {},
   "outputs": [
    {
     "name": "stdout",
     "output_type": "stream",
     "text": [
      "CPU times: user 7.68 s, sys: 1.23 s, total: 8.91 s\n",
      "Wall time: 8.9 s\n"
     ]
    },
    {
     "data": {
      "text/plain": [
       "LinearRegression()"
      ]
     },
     "execution_count": 17,
     "metadata": {},
     "output_type": "execute_result"
    }
   ],
   "source": [
    "%%time\n",
    "model.fit(X_train, y_train)"
   ]
  },
  {
   "cell_type": "code",
   "execution_count": 18,
   "metadata": {},
   "outputs": [
    {
     "name": "stdout",
     "output_type": "stream",
     "text": [
      "CPU times: user 36.8 ms, sys: 48.6 ms, total: 85.5 ms\n",
      "Wall time: 106 ms\n"
     ]
    }
   ],
   "source": [
    "%%time\n",
    "predicted_valid = model.predict(X_test)"
   ]
  },
  {
   "cell_type": "code",
   "execution_count": 19,
   "metadata": {},
   "outputs": [
    {
     "name": "stdout",
     "output_type": "stream",
     "text": [
      "Valor R2 en un conjunto de entrenamiento  0.51\n",
      "Valor R2 en un conjunto de validación:  0.51\n",
      "Linear Regression\n",
      "MSE = 10028855.24\n",
      "RMSE = 3166.84\n",
      "MAE =  2276.82 \n",
      "\n"
     ]
    }
   ],
   "source": [
    "mse = mean_squared_error(y_test, predicted_valid)\n",
    "target_score = mse **0.5\n",
    "    \n",
    "# Presentación de métricas\n",
    "print(\"Valor R2 en un conjunto de entrenamiento\", f\"{model.score(X_train, y_train):5.2f}\")\n",
    "print(\"Valor R2 en un conjunto de validación:\", f\"{model.score(X_test, y_test):5.2f}\")\n",
    "\n",
    "print('Linear Regression')\n",
    "print('MSE =', f\"{mse:5.2f}\")\n",
    "print('RMSE =', f\"{mse ** 0.5:5.2f}\")\n",
    "print(\"MAE = \",f\"{mean_absolute_error(y_test, predicted_valid):5.2f}\",\"\\n\")"
   ]
  },
  {
   "cell_type": "markdown",
   "metadata": {},
   "source": [
    "### Decision Tree Regressor"
   ]
  },
  {
   "cell_type": "markdown",
   "metadata": {},
   "source": [
    "<div class=\"alert alert-block alert-success\">\n",
    "<b>Éxito</b> <a class=\"tocSkip\"></a>\n",
    "El modelo de árbol de decisión fue correctamente entrenado y optimizado, mostrando una mejora significativa en el RMSE en comparación con la regresión lineal.</div>\n"
   ]
  },
  {
   "cell_type": "code",
   "execution_count": 20,
   "metadata": {},
   "outputs": [],
   "source": [
    "from sklearn.tree import DecisionTreeRegressor\n",
    "\n",
    "dt_best_model = None\n",
    "dt_best_result = float(\"inf\")\n",
    "dt_best_depth = 0"
   ]
  },
  {
   "cell_type": "code",
   "execution_count": 21,
   "metadata": {},
   "outputs": [
    {
     "name": "stdout",
     "output_type": "stream",
     "text": [
      "RECM del mejor modelo en el conjunto de validación (max_depth = 15): 2113.7325218126844\n",
      "CPU times: user 31.6 s, sys: 615 ms, total: 32.2 s\n",
      "Wall time: 32.3 s\n"
     ]
    }
   ],
   "source": [
    "%%time\n",
    "for depth in range(5, 40, 5): # selecciona el rango del hiperparámetro\n",
    "    model = DecisionTreeRegressor(random_state=rs,max_depth=depth) # entrena el modelo en el conjunto de entrenamiento\n",
    "    model.fit(X_train,y_train) # entrena el modelo en el conjunto de entrenamiento\n",
    "    predictions_valid = model.predict(X_val) # obtén las predicciones del modelo en el conjunto de validación\n",
    "    result = mean_squared_error(y_val,predictions_valid)**0.5 # calcula la RECM en el conjunto de validación\n",
    "    if result < dt_best_result:\n",
    "        dt_best_model = model\n",
    "        dt_best_result = result\n",
    "        dt_best_depth = depth\n",
    "\n",
    "print(f\"RECM del mejor modelo en el conjunto de validación (max_depth = {dt_best_depth}): {dt_best_result}\")"
   ]
  },
  {
   "cell_type": "code",
   "execution_count": 22,
   "metadata": {},
   "outputs": [
    {
     "name": "stdout",
     "output_type": "stream",
     "text": [
      "CPU times: user 31.3 ms, sys: 28 ms, total: 59.3 ms\n",
      "Wall time: 64.4 ms\n"
     ]
    }
   ],
   "source": [
    "%%time\n",
    "dt_final_preds = dt_best_model.predict(X_test)"
   ]
  },
  {
   "cell_type": "code",
   "execution_count": 23,
   "metadata": {},
   "outputs": [
    {
     "name": "stdout",
     "output_type": "stream",
     "text": [
      "El R2 del modelo de árbol de decisión en el conjunto de prueba (max_depth = 15): 0.776104715365453\n",
      "El RMSE del modelo de árbol de decisión en el conjunto de prueba (max_depth = 15): 2139.1063707915655\n",
      "El modelo alcanza el score objetivo.\n"
     ]
    }
   ],
   "source": [
    "dt_final_score = dt_best_model.score(X_test, y_test)\n",
    "dt_final_rmse = mean_squared_error(y_test, dt_final_preds) ** 0.5\n",
    "\n",
    "print(\"El R2 del modelo de árbol de decisión en el conjunto de prueba (max_depth = {}): {}\".\n",
    "      format(dt_best_depth,dt_final_score))\n",
    "print(\"El RMSE del modelo de árbol de decisión en el conjunto de prueba (max_depth = {}): {}\".\n",
    "      format(dt_best_depth,dt_final_rmse))\n",
    "if dt_final_rmse > target_score:\n",
    "    print(\"El modelo no supera el objetivo de {}.\".format(target_score))\n",
    "else:\n",
    "    print(\"El modelo alcanza el score objetivo.\")"
   ]
  },
  {
   "cell_type": "markdown",
   "metadata": {},
   "source": [
    "### Random Forest Regressor"
   ]
  },
  {
   "cell_type": "markdown",
   "metadata": {},
   "source": [
    "<div class=\"alert alert-block alert-success\">\n",
    "<b>Éxito</b> <a class=\"tocSkip\"></a>\n",
    "El modelo de Random Forest fue entrenado correctamente y sus resultados superan los modelos previos en términos de RMSE.</div>\n"
   ]
  },
  {
   "cell_type": "markdown",
   "metadata": {},
   "source": [
    "#### Entrenamiento"
   ]
  },
  {
   "cell_type": "code",
   "execution_count": 24,
   "metadata": {},
   "outputs": [],
   "source": [
    "from sklearn.ensemble import RandomForestRegressor\n",
    "\n",
    "rf_best_score = float(\"inf\")\n",
    "rf_best_est = 0\n",
    "rf_best_depth = 0\n",
    "rf_best_model = None"
   ]
  },
  {
   "cell_type": "code",
   "execution_count": 25,
   "metadata": {},
   "outputs": [
    {
     "name": "stdout",
     "output_type": "stream",
     "text": [
      "El RMSE del mejor modelo en el conjunto de validación (n_estimators = 60, max_depth = 25): 1720.7829354742023\n",
      "CPU times: user 12min 17s, sys: 976 ms, total: 12min 18s\n",
      "Wall time: 12min 31s\n"
     ]
    }
   ],
   "source": [
    "%%time\n",
    "# Seleccionamos el rango del hiperparámetro.\n",
    "for est in range(50, 70,10):\n",
    "    for depth in range(20,30,5):\n",
    "    \n",
    "        # Iniciamos el constructor.\n",
    "        model = RandomForestRegressor(random_state=rs, n_estimators=est, max_depth = depth)\n",
    "    \n",
    "        # Entrenamos el modelo en el conjunto de entrenamiento.\n",
    "        model.fit(X_train, y_train)\n",
    "    \n",
    "        # Realizamos predicciones en el conjunto de validación\n",
    "        preds = model.predict(X_val)\n",
    "    \n",
    "        # Calculamos la exactitud.\n",
    "        #score = model.score(features_val,target_val)\n",
    "    \n",
    "        # Calculamos el RMSE\n",
    "        score = mean_squared_error(y_val,preds) ** 0.5\n",
    "    \n",
    "        # Guardamos la cantidad de estimadores que generaron el mejor puntaje.\n",
    "        if score < rf_best_score:\n",
    "            rf_best_model = model\n",
    "            rf_best_score = score\n",
    "            rf_best_est = est\n",
    "            rf_best_depth = depth\n",
    "\n",
    "print(\"El RMSE del mejor modelo en el conjunto de validación (n_estimators = {}, max_depth = {}): {}\".format(\n",
    "    rf_best_est, rf_best_depth, rf_best_score))"
   ]
  },
  {
   "cell_type": "markdown",
   "metadata": {},
   "source": [
    "#### Prueba del modelo"
   ]
  },
  {
   "cell_type": "code",
   "execution_count": 26,
   "metadata": {
    "scrolled": true
   },
   "outputs": [
    {
     "name": "stdout",
     "output_type": "stream",
     "text": [
      "CPU times: user 1.31 s, sys: 4.02 ms, total: 1.32 s\n",
      "Wall time: 1.32 s\n"
     ]
    }
   ],
   "source": [
    "%%time\n",
    "rf_final_preds = rf_best_model.predict(X_test)"
   ]
  },
  {
   "cell_type": "code",
   "execution_count": 27,
   "metadata": {},
   "outputs": [
    {
     "name": "stdout",
     "output_type": "stream",
     "text": [
      "El R2 del modelo de bosque aleatorio en el conjunto de prueba (n_estimators = 60, max_depth = 25): 0.8470351339545505\n",
      "El RMSE del modelo de bosque aleatorio en el conjunto de prueba (n_estimators = 60, max_depth = 25): 1768.0956388494299\n",
      "El modelo alcanza el score objetivo.\n"
     ]
    }
   ],
   "source": [
    "rf_final_score = rf_best_model.score(X_test, y_test)\n",
    "rf_final_rmse = mean_squared_error(y_test, rf_final_preds) ** 0.5\n",
    "\n",
    "print(\"El R2 del modelo de bosque aleatorio en el conjunto de prueba (n_estimators = {}, max_depth = {}): {}\".\n",
    "      format(rf_best_est, rf_best_depth,rf_final_score))\n",
    "print(\"El RMSE del modelo de bosque aleatorio en el conjunto de prueba (n_estimators = {}, max_depth = {}): {}\".\n",
    "      format(rf_best_est, rf_best_depth,rf_final_rmse))\n",
    "if rf_final_rmse > target_score:\n",
    "    print(\"El modelo no supera el objetivo de {}.\".format(target_score))\n",
    "else:\n",
    "    print(\"El modelo alcanza el score objetivo.\")\n",
    "    "
   ]
  },
  {
   "cell_type": "markdown",
   "metadata": {},
   "source": [
    "### Gradient Boosting con LightGBM"
   ]
  },
  {
   "cell_type": "markdown",
   "metadata": {},
   "source": [
    "<div class=\"alert alert-block alert-success\">\n",
    "<b>Éxito</b> <a class=\"tocSkip\"></a>\n",
    "El modelo de LightGBM fue entrenado correctamente, logrando el mejor resultado en términos de RMSE, cumpliendo con los objetivos del proyecto.</div>\n"
   ]
  },
  {
   "cell_type": "code",
   "execution_count": 28,
   "metadata": {},
   "outputs": [],
   "source": [
    "#Se realiza un encoding para las columnas categóricas\n",
    "from sklearn.preprocessing import OrdinalEncoder\n",
    "lgb_categorical = ['vehicletype', 'gearbox', 'model', 'fueltype', 'brand', 'notrepaired','postalcode']\n",
    "#print(categorical)\n",
    "\n",
    "X2 = df.drop(\"price\",axis=1)\n",
    "\n",
    "oenc = OrdinalEncoder()\n",
    "X2[lgb_categorical] = oenc.fit_transform(X2[lgb_categorical])\n",
    "\n",
    "X2_train = X2.iloc[X_train.index]\n",
    "X2_val = X2.iloc[X_val.index]\n",
    "X2_test = X2.iloc[X_test.index]\n",
    "#del X2"
   ]
  },
  {
   "cell_type": "code",
   "execution_count": 29,
   "metadata": {},
   "outputs": [],
   "source": [
    "import lightgbm as lgb\n",
    "\n",
    "lgb_train = lgb.Dataset(X2_train, label = y_train, categorical_feature = lgb_categorical,free_raw_data=False)\n",
    "lgb_val =  lgb.Dataset(X2_val,  label = y_val, reference = lgb_train,free_raw_data=False)\n",
    "lgb_test = lgb.Dataset(X2_test, label= y_test, reference = lgb_train,free_raw_data=False)"
   ]
  },
  {
   "cell_type": "code",
   "execution_count": 30,
   "metadata": {},
   "outputs": [],
   "source": [
    "num_round = 300\n",
    "learning_rates = [0.08,0.095,0.1,0.11,0.2,0.5]\n",
    "models = []"
   ]
  },
  {
   "cell_type": "code",
   "execution_count": 31,
   "metadata": {},
   "outputs": [
    {
     "name": "stdout",
     "output_type": "stream",
     "text": [
      "Learning rate:  0.08\n",
      "[1]\tvalid_0's rmse: 4250.32\n",
      "Training until validation scores don't improve for 10 rounds\n",
      "[2]\tvalid_0's rmse: 4025.77\n",
      "[3]\tvalid_0's rmse: 3823.6\n",
      "[4]\tvalid_0's rmse: 3635.74\n",
      "[5]\tvalid_0's rmse: 3470.88\n",
      "[6]\tvalid_0's rmse: 3317.98\n",
      "[7]\tvalid_0's rmse: 3180.09\n",
      "[8]\tvalid_0's rmse: 3055.09\n",
      "[9]\tvalid_0's rmse: 2943.63\n",
      "[10]\tvalid_0's rmse: 2841.2\n",
      "[11]\tvalid_0's rmse: 2748.87\n",
      "[12]\tvalid_0's rmse: 2663.59\n",
      "[13]\tvalid_0's rmse: 2587.78\n",
      "[14]\tvalid_0's rmse: 2517.24\n",
      "[15]\tvalid_0's rmse: 2454.63\n",
      "[16]\tvalid_0's rmse: 2396.61\n",
      "[17]\tvalid_0's rmse: 2345.15\n",
      "[18]\tvalid_0's rmse: 2298.8\n",
      "[19]\tvalid_0's rmse: 2256.75\n",
      "[20]\tvalid_0's rmse: 2218.87\n",
      "[21]\tvalid_0's rmse: 2183.15\n",
      "[22]\tvalid_0's rmse: 2151.24\n",
      "[23]\tvalid_0's rmse: 2121.74\n",
      "[24]\tvalid_0's rmse: 2095.8\n",
      "[25]\tvalid_0's rmse: 2070.06\n",
      "[26]\tvalid_0's rmse: 2046\n",
      "[27]\tvalid_0's rmse: 2024.91\n",
      "[28]\tvalid_0's rmse: 2005.49\n",
      "[29]\tvalid_0's rmse: 1987.69\n",
      "[30]\tvalid_0's rmse: 1971.91\n",
      "[31]\tvalid_0's rmse: 1956.55\n",
      "[32]\tvalid_0's rmse: 1943.32\n",
      "[33]\tvalid_0's rmse: 1931.12\n",
      "[34]\tvalid_0's rmse: 1919.91\n",
      "[35]\tvalid_0's rmse: 1908.77\n",
      "[36]\tvalid_0's rmse: 1899.02\n",
      "[37]\tvalid_0's rmse: 1890.33\n",
      "[38]\tvalid_0's rmse: 1881.96\n",
      "[39]\tvalid_0's rmse: 1873.85\n",
      "[40]\tvalid_0's rmse: 1866.72\n",
      "[41]\tvalid_0's rmse: 1860.11\n",
      "[42]\tvalid_0's rmse: 1853.84\n",
      "[43]\tvalid_0's rmse: 1848.6\n",
      "[44]\tvalid_0's rmse: 1843.86\n",
      "[45]\tvalid_0's rmse: 1839.11\n",
      "[46]\tvalid_0's rmse: 1834.58\n",
      "[47]\tvalid_0's rmse: 1830.43\n",
      "[48]\tvalid_0's rmse: 1826.1\n",
      "[49]\tvalid_0's rmse: 1822.72\n",
      "[50]\tvalid_0's rmse: 1818.76\n",
      "[51]\tvalid_0's rmse: 1815.75\n",
      "[52]\tvalid_0's rmse: 1812.11\n",
      "[53]\tvalid_0's rmse: 1809.92\n",
      "[54]\tvalid_0's rmse: 1807.26\n",
      "[55]\tvalid_0's rmse: 1804.41\n",
      "[56]\tvalid_0's rmse: 1801.55\n",
      "[57]\tvalid_0's rmse: 1799.21\n",
      "[58]\tvalid_0's rmse: 1796.35\n",
      "[59]\tvalid_0's rmse: 1795.08\n",
      "[60]\tvalid_0's rmse: 1792.56\n",
      "[61]\tvalid_0's rmse: 1790.16\n",
      "[62]\tvalid_0's rmse: 1788.87\n",
      "[63]\tvalid_0's rmse: 1787.18\n",
      "[64]\tvalid_0's rmse: 1784.03\n",
      "[65]\tvalid_0's rmse: 1783.11\n",
      "[66]\tvalid_0's rmse: 1781.08\n",
      "[67]\tvalid_0's rmse: 1779.17\n",
      "[68]\tvalid_0's rmse: 1778.56\n",
      "[69]\tvalid_0's rmse: 1777.6\n",
      "[70]\tvalid_0's rmse: 1776.28\n",
      "[71]\tvalid_0's rmse: 1774.91\n",
      "[72]\tvalid_0's rmse: 1773.92\n",
      "[73]\tvalid_0's rmse: 1773.3\n",
      "[74]\tvalid_0's rmse: 1771.36\n",
      "[75]\tvalid_0's rmse: 1770.64\n",
      "[76]\tvalid_0's rmse: 1769.9\n",
      "[77]\tvalid_0's rmse: 1768.59\n",
      "[78]\tvalid_0's rmse: 1767.88\n",
      "[79]\tvalid_0's rmse: 1766.11\n",
      "[80]\tvalid_0's rmse: 1765.72\n",
      "[81]\tvalid_0's rmse: 1764.67\n",
      "[82]\tvalid_0's rmse: 1762.49\n",
      "[83]\tvalid_0's rmse: 1761.88\n",
      "[84]\tvalid_0's rmse: 1760.45\n",
      "[85]\tvalid_0's rmse: 1759.63\n",
      "[86]\tvalid_0's rmse: 1757.93\n",
      "[87]\tvalid_0's rmse: 1757.84\n",
      "[88]\tvalid_0's rmse: 1756.73\n",
      "[89]\tvalid_0's rmse: 1754.91\n",
      "[90]\tvalid_0's rmse: 1754.19\n",
      "[91]\tvalid_0's rmse: 1753.72\n",
      "[92]\tvalid_0's rmse: 1752.56\n",
      "[93]\tvalid_0's rmse: 1752.44\n",
      "[94]\tvalid_0's rmse: 1751.67\n",
      "[95]\tvalid_0's rmse: 1750.66\n",
      "[96]\tvalid_0's rmse: 1750.57\n",
      "[97]\tvalid_0's rmse: 1749.5\n",
      "[98]\tvalid_0's rmse: 1748.36\n",
      "[99]\tvalid_0's rmse: 1746.9\n",
      "[100]\tvalid_0's rmse: 1746.03\n",
      "[101]\tvalid_0's rmse: 1745.54\n",
      "[102]\tvalid_0's rmse: 1745.36\n",
      "[103]\tvalid_0's rmse: 1744.69\n",
      "[104]\tvalid_0's rmse: 1743.93\n",
      "[105]\tvalid_0's rmse: 1743.4\n",
      "[106]\tvalid_0's rmse: 1743.37\n",
      "[107]\tvalid_0's rmse: 1742.95\n",
      "[108]\tvalid_0's rmse: 1741.97\n",
      "[109]\tvalid_0's rmse: 1741.32\n",
      "[110]\tvalid_0's rmse: 1741.05\n",
      "[111]\tvalid_0's rmse: 1740.74\n",
      "[112]\tvalid_0's rmse: 1740.05\n",
      "[113]\tvalid_0's rmse: 1739.8\n",
      "[114]\tvalid_0's rmse: 1739.6\n",
      "[115]\tvalid_0's rmse: 1739.05\n",
      "[116]\tvalid_0's rmse: 1738.36\n",
      "[117]\tvalid_0's rmse: 1737.95\n",
      "[118]\tvalid_0's rmse: 1738.02\n",
      "[119]\tvalid_0's rmse: 1737.27\n",
      "[120]\tvalid_0's rmse: 1736.79\n",
      "[121]\tvalid_0's rmse: 1736.41\n",
      "[122]\tvalid_0's rmse: 1736.31\n",
      "[123]\tvalid_0's rmse: 1736.18\n",
      "[124]\tvalid_0's rmse: 1735.68\n",
      "[125]\tvalid_0's rmse: 1735.08\n",
      "[126]\tvalid_0's rmse: 1734.73\n",
      "[127]\tvalid_0's rmse: 1734.36\n",
      "[128]\tvalid_0's rmse: 1734.15\n",
      "[129]\tvalid_0's rmse: 1733.93\n",
      "[130]\tvalid_0's rmse: 1733.96\n",
      "[131]\tvalid_0's rmse: 1733.57\n",
      "[132]\tvalid_0's rmse: 1733.27\n",
      "[133]\tvalid_0's rmse: 1732.98\n",
      "[134]\tvalid_0's rmse: 1733.12\n",
      "[135]\tvalid_0's rmse: 1731.96\n",
      "[136]\tvalid_0's rmse: 1731.65\n",
      "[137]\tvalid_0's rmse: 1731.32\n",
      "[138]\tvalid_0's rmse: 1731.15\n",
      "[139]\tvalid_0's rmse: 1731.17\n",
      "[140]\tvalid_0's rmse: 1730.63\n",
      "[141]\tvalid_0's rmse: 1730.24\n",
      "[142]\tvalid_0's rmse: 1730.09\n",
      "[143]\tvalid_0's rmse: 1729.87\n",
      "[144]\tvalid_0's rmse: 1729.88\n",
      "[145]\tvalid_0's rmse: 1729.68\n",
      "[146]\tvalid_0's rmse: 1729.45\n",
      "[147]\tvalid_0's rmse: 1729.23\n",
      "[148]\tvalid_0's rmse: 1729.03\n",
      "[149]\tvalid_0's rmse: 1728.93\n",
      "[150]\tvalid_0's rmse: 1728.23\n",
      "[151]\tvalid_0's rmse: 1728.01\n",
      "[152]\tvalid_0's rmse: 1727.8\n",
      "[153]\tvalid_0's rmse: 1727.64\n",
      "[154]\tvalid_0's rmse: 1727.35\n",
      "[155]\tvalid_0's rmse: 1726.95\n",
      "[156]\tvalid_0's rmse: 1726.7\n",
      "[157]\tvalid_0's rmse: 1726.5\n",
      "[158]\tvalid_0's rmse: 1725.87\n",
      "[159]\tvalid_0's rmse: 1725.41\n",
      "[160]\tvalid_0's rmse: 1725.36\n",
      "[161]\tvalid_0's rmse: 1725.09\n",
      "[162]\tvalid_0's rmse: 1725.01\n",
      "[163]\tvalid_0's rmse: 1724.82\n",
      "[164]\tvalid_0's rmse: 1724.3\n",
      "[165]\tvalid_0's rmse: 1724.1\n",
      "[166]\tvalid_0's rmse: 1723.96\n",
      "[167]\tvalid_0's rmse: 1723.82\n",
      "[168]\tvalid_0's rmse: 1723.53\n",
      "[169]\tvalid_0's rmse: 1722.9\n",
      "[170]\tvalid_0's rmse: 1722.85\n",
      "[171]\tvalid_0's rmse: 1722.73\n",
      "[172]\tvalid_0's rmse: 1722.41\n",
      "[173]\tvalid_0's rmse: 1722.15\n",
      "[174]\tvalid_0's rmse: 1721.99\n",
      "[175]\tvalid_0's rmse: 1722.05\n",
      "[176]\tvalid_0's rmse: 1721.58\n",
      "[177]\tvalid_0's rmse: 1721.3\n",
      "[178]\tvalid_0's rmse: 1721.05\n",
      "[179]\tvalid_0's rmse: 1721.06\n",
      "[180]\tvalid_0's rmse: 1720.8\n",
      "[181]\tvalid_0's rmse: 1720.38\n",
      "[182]\tvalid_0's rmse: 1720.45\n",
      "[183]\tvalid_0's rmse: 1720.27\n",
      "[184]\tvalid_0's rmse: 1720.17\n",
      "[185]\tvalid_0's rmse: 1719.99\n",
      "[186]\tvalid_0's rmse: 1719.86\n",
      "[187]\tvalid_0's rmse: 1719.66\n",
      "[188]\tvalid_0's rmse: 1719.73\n",
      "[189]\tvalid_0's rmse: 1719.57\n",
      "[190]\tvalid_0's rmse: 1719.49\n",
      "[191]\tvalid_0's rmse: 1719.38\n",
      "[192]\tvalid_0's rmse: 1718.47\n",
      "[193]\tvalid_0's rmse: 1718.29\n",
      "[194]\tvalid_0's rmse: 1717.89\n",
      "[195]\tvalid_0's rmse: 1717.65\n",
      "[196]\tvalid_0's rmse: 1717.58\n",
      "[197]\tvalid_0's rmse: 1717.57\n",
      "[198]\tvalid_0's rmse: 1717.32\n",
      "[199]\tvalid_0's rmse: 1717.06\n",
      "[200]\tvalid_0's rmse: 1716.98\n",
      "[201]\tvalid_0's rmse: 1716.77\n",
      "[202]\tvalid_0's rmse: 1716.62\n",
      "[203]\tvalid_0's rmse: 1716.6\n",
      "[204]\tvalid_0's rmse: 1716.32\n",
      "[205]\tvalid_0's rmse: 1716.21\n",
      "[206]\tvalid_0's rmse: 1716.19\n",
      "[207]\tvalid_0's rmse: 1716.15\n",
      "[208]\tvalid_0's rmse: 1715.96\n",
      "[209]\tvalid_0's rmse: 1715.83\n",
      "[210]\tvalid_0's rmse: 1715.81\n",
      "[211]\tvalid_0's rmse: 1715.46\n",
      "[212]\tvalid_0's rmse: 1715.27\n",
      "[213]\tvalid_0's rmse: 1714.87\n",
      "[214]\tvalid_0's rmse: 1714.77\n",
      "[215]\tvalid_0's rmse: 1714.42\n",
      "[216]\tvalid_0's rmse: 1714.42\n",
      "[217]\tvalid_0's rmse: 1714.32\n",
      "[218]\tvalid_0's rmse: 1714.25\n",
      "[219]\tvalid_0's rmse: 1714.12\n",
      "[220]\tvalid_0's rmse: 1714.16\n",
      "[221]\tvalid_0's rmse: 1713.84\n",
      "[222]\tvalid_0's rmse: 1713.62\n",
      "[223]\tvalid_0's rmse: 1713.41\n",
      "[224]\tvalid_0's rmse: 1713.24\n",
      "[225]\tvalid_0's rmse: 1712.33\n",
      "[226]\tvalid_0's rmse: 1712.04\n",
      "[227]\tvalid_0's rmse: 1711.9\n",
      "[228]\tvalid_0's rmse: 1711.88\n",
      "[229]\tvalid_0's rmse: 1711.75\n",
      "[230]\tvalid_0's rmse: 1711.65\n",
      "[231]\tvalid_0's rmse: 1711.71\n",
      "[232]\tvalid_0's rmse: 1711.52\n",
      "[233]\tvalid_0's rmse: 1711.46\n",
      "[234]\tvalid_0's rmse: 1711.28\n",
      "[235]\tvalid_0's rmse: 1710.7\n",
      "[236]\tvalid_0's rmse: 1710.56\n",
      "[237]\tvalid_0's rmse: 1710.52\n",
      "[238]\tvalid_0's rmse: 1710.49\n",
      "[239]\tvalid_0's rmse: 1710.37\n",
      "[240]\tvalid_0's rmse: 1710.23\n",
      "[241]\tvalid_0's rmse: 1710.1\n",
      "[242]\tvalid_0's rmse: 1710.03\n",
      "[243]\tvalid_0's rmse: 1709.74\n",
      "[244]\tvalid_0's rmse: 1709.66\n",
      "[245]\tvalid_0's rmse: 1709.67\n",
      "[246]\tvalid_0's rmse: 1709.67\n",
      "[247]\tvalid_0's rmse: 1709.54\n",
      "[248]\tvalid_0's rmse: 1709.57\n",
      "[249]\tvalid_0's rmse: 1709.44\n",
      "[250]\tvalid_0's rmse: 1709.27\n",
      "[251]\tvalid_0's rmse: 1709.25\n",
      "[252]\tvalid_0's rmse: 1708.99\n",
      "[253]\tvalid_0's rmse: 1708.87\n",
      "[254]\tvalid_0's rmse: 1708.69\n",
      "[255]\tvalid_0's rmse: 1708.5\n",
      "[256]\tvalid_0's rmse: 1708.46\n",
      "[257]\tvalid_0's rmse: 1708.42\n",
      "[258]\tvalid_0's rmse: 1708.31\n",
      "[259]\tvalid_0's rmse: 1708.28\n",
      "[260]\tvalid_0's rmse: 1708.23\n",
      "[261]\tvalid_0's rmse: 1708.19\n",
      "[262]\tvalid_0's rmse: 1708.06\n",
      "[263]\tvalid_0's rmse: 1708.1\n",
      "[264]\tvalid_0's rmse: 1707.68\n",
      "[265]\tvalid_0's rmse: 1707.34\n",
      "[266]\tvalid_0's rmse: 1707.27\n",
      "[267]\tvalid_0's rmse: 1707.22\n",
      "[268]\tvalid_0's rmse: 1707.07\n",
      "[269]\tvalid_0's rmse: 1707.01\n",
      "[270]\tvalid_0's rmse: 1706.6\n",
      "[271]\tvalid_0's rmse: 1706.57\n",
      "[272]\tvalid_0's rmse: 1706.39\n",
      "[273]\tvalid_0's rmse: 1706.33\n",
      "[274]\tvalid_0's rmse: 1706.24\n",
      "[275]\tvalid_0's rmse: 1706.05\n",
      "[276]\tvalid_0's rmse: 1706.16\n",
      "[277]\tvalid_0's rmse: 1706\n"
     ]
    },
    {
     "name": "stdout",
     "output_type": "stream",
     "text": [
      "[278]\tvalid_0's rmse: 1705.84\n",
      "[279]\tvalid_0's rmse: 1705.8\n",
      "[280]\tvalid_0's rmse: 1705.79\n",
      "[281]\tvalid_0's rmse: 1705.64\n",
      "[282]\tvalid_0's rmse: 1705.54\n",
      "[283]\tvalid_0's rmse: 1705.49\n",
      "[284]\tvalid_0's rmse: 1705.62\n",
      "[285]\tvalid_0's rmse: 1705.6\n",
      "[286]\tvalid_0's rmse: 1705.7\n",
      "[287]\tvalid_0's rmse: 1705.67\n",
      "[288]\tvalid_0's rmse: 1705.61\n",
      "[289]\tvalid_0's rmse: 1705.44\n",
      "[290]\tvalid_0's rmse: 1705.15\n",
      "[291]\tvalid_0's rmse: 1705.03\n",
      "[292]\tvalid_0's rmse: 1705.07\n",
      "[293]\tvalid_0's rmse: 1704.94\n",
      "[294]\tvalid_0's rmse: 1704.88\n",
      "[295]\tvalid_0's rmse: 1704.88\n",
      "[296]\tvalid_0's rmse: 1704.74\n",
      "[297]\tvalid_0's rmse: 1704.58\n",
      "[298]\tvalid_0's rmse: 1704.59\n",
      "[299]\tvalid_0's rmse: 1704.42\n",
      "[300]\tvalid_0's rmse: 1704.43\n",
      "Did not meet early stopping. Best iteration is:\n",
      "[299]\tvalid_0's rmse: 1704.42\n",
      "Learning rate:  0.095\n",
      "[1]\tvalid_0's rmse: 4204.44\n",
      "Training until validation scores don't improve for 10 rounds\n",
      "[2]\tvalid_0's rmse: 3943.81\n",
      "[3]\tvalid_0's rmse: 3707.54\n",
      "[4]\tvalid_0's rmse: 3499.93\n",
      "[5]\tvalid_0's rmse: 3316.67\n",
      "[6]\tvalid_0's rmse: 3154.93\n",
      "[7]\tvalid_0's rmse: 3009.04\n",
      "[8]\tvalid_0's rmse: 2881.18\n",
      "[9]\tvalid_0's rmse: 2769.74\n",
      "[10]\tvalid_0's rmse: 2665.91\n",
      "[11]\tvalid_0's rmse: 2575.99\n",
      "[12]\tvalid_0's rmse: 2494.74\n",
      "[13]\tvalid_0's rmse: 2423.2\n",
      "[14]\tvalid_0's rmse: 2357.1\n",
      "[15]\tvalid_0's rmse: 2299.3\n",
      "[16]\tvalid_0's rmse: 2248.63\n",
      "[17]\tvalid_0's rmse: 2203.68\n",
      "[18]\tvalid_0's rmse: 2162.85\n",
      "[19]\tvalid_0's rmse: 2126.95\n",
      "[20]\tvalid_0's rmse: 2093.05\n",
      "[21]\tvalid_0's rmse: 2063.51\n",
      "[22]\tvalid_0's rmse: 2037.47\n",
      "[23]\tvalid_0's rmse: 2011.83\n",
      "[24]\tvalid_0's rmse: 1989.83\n",
      "[25]\tvalid_0's rmse: 1970.07\n",
      "[26]\tvalid_0's rmse: 1952.64\n",
      "[27]\tvalid_0's rmse: 1936.74\n",
      "[28]\tvalid_0's rmse: 1922.49\n",
      "[29]\tvalid_0's rmse: 1909.19\n",
      "[30]\tvalid_0's rmse: 1897.39\n",
      "[31]\tvalid_0's rmse: 1887.18\n",
      "[32]\tvalid_0's rmse: 1877.45\n",
      "[33]\tvalid_0's rmse: 1867.33\n",
      "[34]\tvalid_0's rmse: 1859.53\n",
      "[35]\tvalid_0's rmse: 1852.33\n",
      "[36]\tvalid_0's rmse: 1845.5\n",
      "[37]\tvalid_0's rmse: 1838.86\n",
      "[38]\tvalid_0's rmse: 1833.73\n",
      "[39]\tvalid_0's rmse: 1828.15\n",
      "[40]\tvalid_0's rmse: 1823\n",
      "[41]\tvalid_0's rmse: 1818.79\n",
      "[42]\tvalid_0's rmse: 1814.36\n",
      "[43]\tvalid_0's rmse: 1810.7\n",
      "[44]\tvalid_0's rmse: 1806.85\n",
      "[45]\tvalid_0's rmse: 1803.65\n",
      "[46]\tvalid_0's rmse: 1801.41\n",
      "[47]\tvalid_0's rmse: 1798.92\n",
      "[48]\tvalid_0's rmse: 1796.24\n",
      "[49]\tvalid_0's rmse: 1794.02\n",
      "[50]\tvalid_0's rmse: 1791.41\n",
      "[51]\tvalid_0's rmse: 1789.54\n",
      "[52]\tvalid_0's rmse: 1786.52\n",
      "[53]\tvalid_0's rmse: 1785.33\n",
      "[54]\tvalid_0's rmse: 1784.09\n",
      "[55]\tvalid_0's rmse: 1782.28\n",
      "[56]\tvalid_0's rmse: 1780.93\n",
      "[57]\tvalid_0's rmse: 1777.56\n",
      "[58]\tvalid_0's rmse: 1775.85\n",
      "[59]\tvalid_0's rmse: 1773.86\n",
      "[60]\tvalid_0's rmse: 1773.05\n",
      "[61]\tvalid_0's rmse: 1772.52\n",
      "[62]\tvalid_0's rmse: 1770.6\n",
      "[63]\tvalid_0's rmse: 1769.28\n",
      "[64]\tvalid_0's rmse: 1767.98\n",
      "[65]\tvalid_0's rmse: 1766.83\n",
      "[66]\tvalid_0's rmse: 1766.51\n",
      "[67]\tvalid_0's rmse: 1765.52\n",
      "[68]\tvalid_0's rmse: 1764.31\n",
      "[69]\tvalid_0's rmse: 1763.26\n",
      "[70]\tvalid_0's rmse: 1762.21\n",
      "[71]\tvalid_0's rmse: 1759.59\n",
      "[72]\tvalid_0's rmse: 1759.19\n",
      "[73]\tvalid_0's rmse: 1757.99\n",
      "[74]\tvalid_0's rmse: 1756.65\n",
      "[75]\tvalid_0's rmse: 1755.78\n",
      "[76]\tvalid_0's rmse: 1754.64\n",
      "[77]\tvalid_0's rmse: 1753.71\n",
      "[78]\tvalid_0's rmse: 1752.41\n",
      "[79]\tvalid_0's rmse: 1752.2\n",
      "[80]\tvalid_0's rmse: 1750.78\n",
      "[81]\tvalid_0's rmse: 1749.26\n",
      "[82]\tvalid_0's rmse: 1748.51\n",
      "[83]\tvalid_0's rmse: 1747.46\n",
      "[84]\tvalid_0's rmse: 1747.09\n",
      "[85]\tvalid_0's rmse: 1747.07\n",
      "[86]\tvalid_0's rmse: 1745.45\n",
      "[87]\tvalid_0's rmse: 1744.42\n",
      "[88]\tvalid_0's rmse: 1743.28\n",
      "[89]\tvalid_0's rmse: 1742.43\n",
      "[90]\tvalid_0's rmse: 1741.22\n",
      "[91]\tvalid_0's rmse: 1740.58\n",
      "[92]\tvalid_0's rmse: 1739.2\n",
      "[93]\tvalid_0's rmse: 1739.17\n",
      "[94]\tvalid_0's rmse: 1738.87\n",
      "[95]\tvalid_0's rmse: 1738.23\n",
      "[96]\tvalid_0's rmse: 1737.63\n",
      "[97]\tvalid_0's rmse: 1736.97\n",
      "[98]\tvalid_0's rmse: 1736.07\n",
      "[99]\tvalid_0's rmse: 1735.56\n",
      "[100]\tvalid_0's rmse: 1734.98\n",
      "[101]\tvalid_0's rmse: 1734.87\n",
      "[102]\tvalid_0's rmse: 1734.61\n",
      "[103]\tvalid_0's rmse: 1733.95\n",
      "[104]\tvalid_0's rmse: 1733.81\n",
      "[105]\tvalid_0's rmse: 1733.73\n",
      "[106]\tvalid_0's rmse: 1733.1\n",
      "[107]\tvalid_0's rmse: 1732.73\n",
      "[108]\tvalid_0's rmse: 1731.75\n",
      "[109]\tvalid_0's rmse: 1731.44\n",
      "[110]\tvalid_0's rmse: 1731.36\n",
      "[111]\tvalid_0's rmse: 1731.17\n",
      "[112]\tvalid_0's rmse: 1730.83\n",
      "[113]\tvalid_0's rmse: 1729.99\n",
      "[114]\tvalid_0's rmse: 1729.74\n",
      "[115]\tvalid_0's rmse: 1729.12\n",
      "[116]\tvalid_0's rmse: 1728.73\n",
      "[117]\tvalid_0's rmse: 1728.59\n",
      "[118]\tvalid_0's rmse: 1727.81\n",
      "[119]\tvalid_0's rmse: 1727.77\n",
      "[120]\tvalid_0's rmse: 1727.28\n",
      "[121]\tvalid_0's rmse: 1727.07\n",
      "[122]\tvalid_0's rmse: 1726.78\n",
      "[123]\tvalid_0's rmse: 1726.29\n",
      "[124]\tvalid_0's rmse: 1725.63\n",
      "[125]\tvalid_0's rmse: 1724.88\n",
      "[126]\tvalid_0's rmse: 1724.74\n",
      "[127]\tvalid_0's rmse: 1724.68\n",
      "[128]\tvalid_0's rmse: 1724.03\n",
      "[129]\tvalid_0's rmse: 1723.75\n",
      "[130]\tvalid_0's rmse: 1723.32\n",
      "[131]\tvalid_0's rmse: 1722.61\n",
      "[132]\tvalid_0's rmse: 1722.65\n",
      "[133]\tvalid_0's rmse: 1722.61\n",
      "[134]\tvalid_0's rmse: 1722.71\n",
      "[135]\tvalid_0's rmse: 1722.61\n",
      "[136]\tvalid_0's rmse: 1722.09\n",
      "[137]\tvalid_0's rmse: 1721.58\n",
      "[138]\tvalid_0's rmse: 1721.34\n",
      "[139]\tvalid_0's rmse: 1721.2\n",
      "[140]\tvalid_0's rmse: 1720.73\n",
      "[141]\tvalid_0's rmse: 1720.58\n",
      "[142]\tvalid_0's rmse: 1720.34\n",
      "[143]\tvalid_0's rmse: 1720.19\n",
      "[144]\tvalid_0's rmse: 1719.64\n",
      "[145]\tvalid_0's rmse: 1719.2\n",
      "[146]\tvalid_0's rmse: 1719.09\n",
      "[147]\tvalid_0's rmse: 1718.83\n",
      "[148]\tvalid_0's rmse: 1718.34\n",
      "[149]\tvalid_0's rmse: 1717.98\n",
      "[150]\tvalid_0's rmse: 1717.62\n",
      "[151]\tvalid_0's rmse: 1717.58\n",
      "[152]\tvalid_0's rmse: 1717.3\n",
      "[153]\tvalid_0's rmse: 1717.21\n",
      "[154]\tvalid_0's rmse: 1717.12\n",
      "[155]\tvalid_0's rmse: 1716.78\n",
      "[156]\tvalid_0's rmse: 1716.88\n",
      "[157]\tvalid_0's rmse: 1716.84\n",
      "[158]\tvalid_0's rmse: 1716.67\n",
      "[159]\tvalid_0's rmse: 1716.56\n",
      "[160]\tvalid_0's rmse: 1715.94\n",
      "[161]\tvalid_0's rmse: 1715.74\n",
      "[162]\tvalid_0's rmse: 1715.68\n",
      "[163]\tvalid_0's rmse: 1715.42\n",
      "[164]\tvalid_0's rmse: 1715.18\n",
      "[165]\tvalid_0's rmse: 1714.85\n",
      "[166]\tvalid_0's rmse: 1714.61\n",
      "[167]\tvalid_0's rmse: 1714.5\n",
      "[168]\tvalid_0's rmse: 1714.47\n",
      "[169]\tvalid_0's rmse: 1714.3\n",
      "[170]\tvalid_0's rmse: 1713.9\n",
      "[171]\tvalid_0's rmse: 1713.71\n",
      "[172]\tvalid_0's rmse: 1713.36\n",
      "[173]\tvalid_0's rmse: 1713.08\n",
      "[174]\tvalid_0's rmse: 1712.61\n",
      "[175]\tvalid_0's rmse: 1712.62\n",
      "[176]\tvalid_0's rmse: 1712.35\n",
      "[177]\tvalid_0's rmse: 1712.19\n",
      "[178]\tvalid_0's rmse: 1712.09\n",
      "[179]\tvalid_0's rmse: 1711.73\n",
      "[180]\tvalid_0's rmse: 1711.71\n",
      "[181]\tvalid_0's rmse: 1711.62\n",
      "[182]\tvalid_0's rmse: 1711.53\n",
      "[183]\tvalid_0's rmse: 1711.54\n",
      "[184]\tvalid_0's rmse: 1711.29\n",
      "[185]\tvalid_0's rmse: 1711.21\n",
      "[186]\tvalid_0's rmse: 1711.14\n",
      "[187]\tvalid_0's rmse: 1711.19\n",
      "[188]\tvalid_0's rmse: 1711.18\n",
      "[189]\tvalid_0's rmse: 1710.93\n",
      "[190]\tvalid_0's rmse: 1711.03\n",
      "[191]\tvalid_0's rmse: 1710.94\n",
      "[192]\tvalid_0's rmse: 1711.01\n",
      "[193]\tvalid_0's rmse: 1711.04\n",
      "[194]\tvalid_0's rmse: 1710.96\n",
      "[195]\tvalid_0's rmse: 1710.74\n",
      "[196]\tvalid_0's rmse: 1710.71\n",
      "[197]\tvalid_0's rmse: 1710.79\n",
      "[198]\tvalid_0's rmse: 1710.71\n",
      "[199]\tvalid_0's rmse: 1710.27\n",
      "[200]\tvalid_0's rmse: 1709.35\n",
      "[201]\tvalid_0's rmse: 1709.42\n",
      "[202]\tvalid_0's rmse: 1709.32\n",
      "[203]\tvalid_0's rmse: 1709.39\n",
      "[204]\tvalid_0's rmse: 1709.18\n",
      "[205]\tvalid_0's rmse: 1709.21\n",
      "[206]\tvalid_0's rmse: 1709.27\n",
      "[207]\tvalid_0's rmse: 1709.18\n",
      "[208]\tvalid_0's rmse: 1709.12\n",
      "[209]\tvalid_0's rmse: 1709.09\n",
      "[210]\tvalid_0's rmse: 1709.06\n",
      "[211]\tvalid_0's rmse: 1708.79\n",
      "[212]\tvalid_0's rmse: 1708.46\n",
      "[213]\tvalid_0's rmse: 1708.15\n",
      "[214]\tvalid_0's rmse: 1707.38\n",
      "[215]\tvalid_0's rmse: 1707.32\n",
      "[216]\tvalid_0's rmse: 1707.2\n",
      "[217]\tvalid_0's rmse: 1707.37\n",
      "[218]\tvalid_0's rmse: 1707.41\n",
      "[219]\tvalid_0's rmse: 1707.43\n",
      "[220]\tvalid_0's rmse: 1707.46\n",
      "[221]\tvalid_0's rmse: 1707.34\n",
      "[222]\tvalid_0's rmse: 1706.94\n",
      "[223]\tvalid_0's rmse: 1706.93\n",
      "[224]\tvalid_0's rmse: 1706.82\n",
      "[225]\tvalid_0's rmse: 1706.58\n",
      "[226]\tvalid_0's rmse: 1706.54\n",
      "[227]\tvalid_0's rmse: 1706.49\n",
      "[228]\tvalid_0's rmse: 1706.52\n",
      "[229]\tvalid_0's rmse: 1706.16\n",
      "[230]\tvalid_0's rmse: 1706.16\n",
      "[231]\tvalid_0's rmse: 1706.16\n",
      "[232]\tvalid_0's rmse: 1705.75\n",
      "[233]\tvalid_0's rmse: 1705.44\n",
      "[234]\tvalid_0's rmse: 1705.12\n",
      "[235]\tvalid_0's rmse: 1705.15\n",
      "[236]\tvalid_0's rmse: 1704.93\n",
      "[237]\tvalid_0's rmse: 1704.67\n",
      "[238]\tvalid_0's rmse: 1704.68\n",
      "[239]\tvalid_0's rmse: 1704.57\n",
      "[240]\tvalid_0's rmse: 1704.47\n",
      "[241]\tvalid_0's rmse: 1704.4\n",
      "[242]\tvalid_0's rmse: 1704.24\n",
      "[243]\tvalid_0's rmse: 1704.28\n",
      "[244]\tvalid_0's rmse: 1704.4\n",
      "[245]\tvalid_0's rmse: 1704.09\n",
      "[246]\tvalid_0's rmse: 1704.04\n",
      "[247]\tvalid_0's rmse: 1703.97\n",
      "[248]\tvalid_0's rmse: 1703.89\n",
      "[249]\tvalid_0's rmse: 1703.77\n",
      "[250]\tvalid_0's rmse: 1703.6\n"
     ]
    },
    {
     "name": "stdout",
     "output_type": "stream",
     "text": [
      "[251]\tvalid_0's rmse: 1703.4\n",
      "[252]\tvalid_0's rmse: 1703.04\n",
      "[253]\tvalid_0's rmse: 1703.01\n",
      "[254]\tvalid_0's rmse: 1702.99\n",
      "[255]\tvalid_0's rmse: 1703.11\n",
      "[256]\tvalid_0's rmse: 1703.05\n",
      "[257]\tvalid_0's rmse: 1702.93\n",
      "[258]\tvalid_0's rmse: 1702.54\n",
      "[259]\tvalid_0's rmse: 1702.45\n",
      "[260]\tvalid_0's rmse: 1702.39\n",
      "[261]\tvalid_0's rmse: 1702.39\n",
      "[262]\tvalid_0's rmse: 1702.26\n",
      "[263]\tvalid_0's rmse: 1702.3\n",
      "[264]\tvalid_0's rmse: 1702.17\n",
      "[265]\tvalid_0's rmse: 1702.07\n",
      "[266]\tvalid_0's rmse: 1702.13\n",
      "[267]\tvalid_0's rmse: 1702.07\n",
      "[268]\tvalid_0's rmse: 1701.89\n",
      "[269]\tvalid_0's rmse: 1701.78\n",
      "[270]\tvalid_0's rmse: 1701.76\n",
      "[271]\tvalid_0's rmse: 1701.55\n",
      "[272]\tvalid_0's rmse: 1701.63\n",
      "[273]\tvalid_0's rmse: 1701.63\n",
      "[274]\tvalid_0's rmse: 1701.54\n",
      "[275]\tvalid_0's rmse: 1701.23\n",
      "[276]\tvalid_0's rmse: 1701.16\n",
      "[277]\tvalid_0's rmse: 1700.86\n",
      "[278]\tvalid_0's rmse: 1700.55\n",
      "[279]\tvalid_0's rmse: 1700.31\n",
      "[280]\tvalid_0's rmse: 1700.14\n",
      "[281]\tvalid_0's rmse: 1700.05\n",
      "[282]\tvalid_0's rmse: 1699.85\n",
      "[283]\tvalid_0's rmse: 1699.85\n",
      "[284]\tvalid_0's rmse: 1699.84\n",
      "[285]\tvalid_0's rmse: 1699.9\n",
      "[286]\tvalid_0's rmse: 1699.87\n",
      "[287]\tvalid_0's rmse: 1699.7\n",
      "[288]\tvalid_0's rmse: 1699.68\n",
      "[289]\tvalid_0's rmse: 1699.79\n",
      "[290]\tvalid_0's rmse: 1699.85\n",
      "[291]\tvalid_0's rmse: 1699.73\n",
      "[292]\tvalid_0's rmse: 1699.69\n",
      "[293]\tvalid_0's rmse: 1699.44\n",
      "[294]\tvalid_0's rmse: 1699.4\n",
      "[295]\tvalid_0's rmse: 1699.49\n",
      "[296]\tvalid_0's rmse: 1699.55\n",
      "[297]\tvalid_0's rmse: 1699.52\n",
      "[298]\tvalid_0's rmse: 1699.54\n",
      "[299]\tvalid_0's rmse: 1699.48\n",
      "[300]\tvalid_0's rmse: 1699.36\n",
      "Did not meet early stopping. Best iteration is:\n",
      "[300]\tvalid_0's rmse: 1699.36\n",
      "Learning rate:  0.1\n",
      "[1]\tvalid_0's rmse: 4189.21\n",
      "Training until validation scores don't improve for 10 rounds\n",
      "[2]\tvalid_0's rmse: 3917.01\n",
      "[3]\tvalid_0's rmse: 3671.63\n",
      "[4]\tvalid_0's rmse: 3457.59\n",
      "[5]\tvalid_0's rmse: 3269.79\n",
      "[6]\tvalid_0's rmse: 3103.94\n",
      "[7]\tvalid_0's rmse: 2958.11\n",
      "[8]\tvalid_0's rmse: 2829.81\n",
      "[9]\tvalid_0's rmse: 2712.11\n",
      "[10]\tvalid_0's rmse: 2610.45\n",
      "[11]\tvalid_0's rmse: 2520.91\n",
      "[12]\tvalid_0's rmse: 2443.45\n",
      "[13]\tvalid_0's rmse: 2374.41\n",
      "[14]\tvalid_0's rmse: 2314.1\n",
      "[15]\tvalid_0's rmse: 2260.09\n",
      "[16]\tvalid_0's rmse: 2210.95\n",
      "[17]\tvalid_0's rmse: 2168.15\n",
      "[18]\tvalid_0's rmse: 2130.79\n",
      "[19]\tvalid_0's rmse: 2094.34\n",
      "[20]\tvalid_0's rmse: 2063.37\n",
      "[21]\tvalid_0's rmse: 2036.53\n",
      "[22]\tvalid_0's rmse: 2010.58\n",
      "[23]\tvalid_0's rmse: 1988.41\n",
      "[24]\tvalid_0's rmse: 1967.87\n",
      "[25]\tvalid_0's rmse: 1951.08\n",
      "[26]\tvalid_0's rmse: 1934.61\n",
      "[27]\tvalid_0's rmse: 1919.46\n",
      "[28]\tvalid_0's rmse: 1906.98\n",
      "[29]\tvalid_0's rmse: 1894.83\n",
      "[30]\tvalid_0's rmse: 1884.67\n",
      "[31]\tvalid_0's rmse: 1875.01\n",
      "[32]\tvalid_0's rmse: 1865.07\n",
      "[33]\tvalid_0's rmse: 1857.4\n",
      "[34]\tvalid_0's rmse: 1849.9\n",
      "[35]\tvalid_0's rmse: 1842.58\n",
      "[36]\tvalid_0's rmse: 1836.6\n",
      "[37]\tvalid_0's rmse: 1830.5\n",
      "[38]\tvalid_0's rmse: 1825.8\n",
      "[39]\tvalid_0's rmse: 1820.49\n",
      "[40]\tvalid_0's rmse: 1815.55\n",
      "[41]\tvalid_0's rmse: 1811.79\n",
      "[42]\tvalid_0's rmse: 1807.45\n",
      "[43]\tvalid_0's rmse: 1803.9\n",
      "[44]\tvalid_0's rmse: 1801.48\n",
      "[45]\tvalid_0's rmse: 1797.94\n",
      "[46]\tvalid_0's rmse: 1796.2\n",
      "[47]\tvalid_0's rmse: 1793.64\n",
      "[48]\tvalid_0's rmse: 1789.84\n",
      "[49]\tvalid_0's rmse: 1788.46\n",
      "[50]\tvalid_0's rmse: 1786.65\n",
      "[51]\tvalid_0's rmse: 1785.29\n",
      "[52]\tvalid_0's rmse: 1782.22\n",
      "[53]\tvalid_0's rmse: 1779.4\n",
      "[54]\tvalid_0's rmse: 1778.54\n",
      "[55]\tvalid_0's rmse: 1776.97\n",
      "[56]\tvalid_0's rmse: 1775.95\n",
      "[57]\tvalid_0's rmse: 1773.91\n",
      "[58]\tvalid_0's rmse: 1773.45\n",
      "[59]\tvalid_0's rmse: 1771.64\n",
      "[60]\tvalid_0's rmse: 1770.65\n",
      "[61]\tvalid_0's rmse: 1769.09\n",
      "[62]\tvalid_0's rmse: 1768.28\n",
      "[63]\tvalid_0's rmse: 1767.73\n",
      "[64]\tvalid_0's rmse: 1766.02\n",
      "[65]\tvalid_0's rmse: 1764.17\n",
      "[66]\tvalid_0's rmse: 1762.36\n",
      "[67]\tvalid_0's rmse: 1759.54\n",
      "[68]\tvalid_0's rmse: 1759.7\n",
      "[69]\tvalid_0's rmse: 1758.6\n",
      "[70]\tvalid_0's rmse: 1758.37\n",
      "[71]\tvalid_0's rmse: 1756.36\n",
      "[72]\tvalid_0's rmse: 1755.19\n",
      "[73]\tvalid_0's rmse: 1753.78\n",
      "[74]\tvalid_0's rmse: 1752.54\n",
      "[75]\tvalid_0's rmse: 1751.08\n",
      "[76]\tvalid_0's rmse: 1750.16\n",
      "[77]\tvalid_0's rmse: 1748.83\n",
      "[78]\tvalid_0's rmse: 1748.5\n",
      "[79]\tvalid_0's rmse: 1748.1\n",
      "[80]\tvalid_0's rmse: 1747.18\n",
      "[81]\tvalid_0's rmse: 1745.38\n",
      "[82]\tvalid_0's rmse: 1745.08\n",
      "[83]\tvalid_0's rmse: 1744.65\n",
      "[84]\tvalid_0's rmse: 1743.78\n",
      "[85]\tvalid_0's rmse: 1742.17\n",
      "[86]\tvalid_0's rmse: 1741.76\n",
      "[87]\tvalid_0's rmse: 1740.66\n",
      "[88]\tvalid_0's rmse: 1740.56\n",
      "[89]\tvalid_0's rmse: 1740.75\n",
      "[90]\tvalid_0's rmse: 1740.01\n",
      "[91]\tvalid_0's rmse: 1739.3\n",
      "[92]\tvalid_0's rmse: 1738.33\n",
      "[93]\tvalid_0's rmse: 1737.94\n",
      "[94]\tvalid_0's rmse: 1737.61\n",
      "[95]\tvalid_0's rmse: 1736.92\n",
      "[96]\tvalid_0's rmse: 1736.87\n",
      "[97]\tvalid_0's rmse: 1736.31\n",
      "[98]\tvalid_0's rmse: 1735.93\n",
      "[99]\tvalid_0's rmse: 1735.69\n",
      "[100]\tvalid_0's rmse: 1734.61\n",
      "[101]\tvalid_0's rmse: 1734.36\n",
      "[102]\tvalid_0's rmse: 1733.81\n",
      "[103]\tvalid_0's rmse: 1733.22\n",
      "[104]\tvalid_0's rmse: 1732.96\n",
      "[105]\tvalid_0's rmse: 1732.98\n",
      "[106]\tvalid_0's rmse: 1732.63\n",
      "[107]\tvalid_0's rmse: 1731.65\n",
      "[108]\tvalid_0's rmse: 1731.31\n",
      "[109]\tvalid_0's rmse: 1730.95\n",
      "[110]\tvalid_0's rmse: 1730.76\n",
      "[111]\tvalid_0's rmse: 1730.4\n",
      "[112]\tvalid_0's rmse: 1729.77\n",
      "[113]\tvalid_0's rmse: 1729.44\n",
      "[114]\tvalid_0's rmse: 1729.13\n",
      "[115]\tvalid_0's rmse: 1728.97\n",
      "[116]\tvalid_0's rmse: 1728.88\n",
      "[117]\tvalid_0's rmse: 1728.43\n",
      "[118]\tvalid_0's rmse: 1728.28\n",
      "[119]\tvalid_0's rmse: 1727.41\n",
      "[120]\tvalid_0's rmse: 1726.84\n",
      "[121]\tvalid_0's rmse: 1726.59\n",
      "[122]\tvalid_0's rmse: 1726.39\n",
      "[123]\tvalid_0's rmse: 1725.95\n",
      "[124]\tvalid_0's rmse: 1725.95\n",
      "[125]\tvalid_0's rmse: 1726.01\n",
      "[126]\tvalid_0's rmse: 1725.5\n",
      "[127]\tvalid_0's rmse: 1725.2\n",
      "[128]\tvalid_0's rmse: 1724.85\n",
      "[129]\tvalid_0's rmse: 1724.57\n",
      "[130]\tvalid_0's rmse: 1724.48\n",
      "[131]\tvalid_0's rmse: 1724.38\n",
      "[132]\tvalid_0's rmse: 1723.91\n",
      "[133]\tvalid_0's rmse: 1723.36\n",
      "[134]\tvalid_0's rmse: 1723.05\n",
      "[135]\tvalid_0's rmse: 1723\n",
      "[136]\tvalid_0's rmse: 1722.96\n",
      "[137]\tvalid_0's rmse: 1722.69\n",
      "[138]\tvalid_0's rmse: 1722.8\n",
      "[139]\tvalid_0's rmse: 1722.35\n",
      "[140]\tvalid_0's rmse: 1721.59\n",
      "[141]\tvalid_0's rmse: 1721.16\n",
      "[142]\tvalid_0's rmse: 1721.02\n",
      "[143]\tvalid_0's rmse: 1721.05\n",
      "[144]\tvalid_0's rmse: 1720.98\n",
      "[145]\tvalid_0's rmse: 1720.74\n",
      "[146]\tvalid_0's rmse: 1720.24\n",
      "[147]\tvalid_0's rmse: 1719.74\n",
      "[148]\tvalid_0's rmse: 1719.34\n",
      "[149]\tvalid_0's rmse: 1718.92\n",
      "[150]\tvalid_0's rmse: 1718.67\n",
      "[151]\tvalid_0's rmse: 1718.33\n",
      "[152]\tvalid_0's rmse: 1718.37\n",
      "[153]\tvalid_0's rmse: 1718.3\n",
      "[154]\tvalid_0's rmse: 1718.23\n",
      "[155]\tvalid_0's rmse: 1717.89\n",
      "[156]\tvalid_0's rmse: 1717.82\n",
      "[157]\tvalid_0's rmse: 1716.62\n",
      "[158]\tvalid_0's rmse: 1716.17\n",
      "[159]\tvalid_0's rmse: 1716.13\n",
      "[160]\tvalid_0's rmse: 1716.11\n",
      "[161]\tvalid_0's rmse: 1715.98\n",
      "[162]\tvalid_0's rmse: 1715.61\n",
      "[163]\tvalid_0's rmse: 1715.16\n",
      "[164]\tvalid_0's rmse: 1714.99\n",
      "[165]\tvalid_0's rmse: 1714.7\n",
      "[166]\tvalid_0's rmse: 1714.63\n",
      "[167]\tvalid_0's rmse: 1714.49\n",
      "[168]\tvalid_0's rmse: 1714.46\n",
      "[169]\tvalid_0's rmse: 1714.06\n",
      "[170]\tvalid_0's rmse: 1713.91\n",
      "[171]\tvalid_0's rmse: 1713.52\n",
      "[172]\tvalid_0's rmse: 1713.44\n",
      "[173]\tvalid_0's rmse: 1713.32\n",
      "[174]\tvalid_0's rmse: 1713.19\n",
      "[175]\tvalid_0's rmse: 1713.26\n",
      "[176]\tvalid_0's rmse: 1713.1\n",
      "[177]\tvalid_0's rmse: 1713.07\n",
      "[178]\tvalid_0's rmse: 1712.94\n",
      "[179]\tvalid_0's rmse: 1712.89\n",
      "[180]\tvalid_0's rmse: 1712.63\n",
      "[181]\tvalid_0's rmse: 1712.6\n",
      "[182]\tvalid_0's rmse: 1712.5\n",
      "[183]\tvalid_0's rmse: 1712.52\n",
      "[184]\tvalid_0's rmse: 1712.24\n",
      "[185]\tvalid_0's rmse: 1712.16\n",
      "[186]\tvalid_0's rmse: 1712.15\n",
      "[187]\tvalid_0's rmse: 1711.75\n",
      "[188]\tvalid_0's rmse: 1711.02\n",
      "[189]\tvalid_0's rmse: 1711.07\n",
      "[190]\tvalid_0's rmse: 1710.21\n",
      "[191]\tvalid_0's rmse: 1709.85\n",
      "[192]\tvalid_0's rmse: 1709.73\n",
      "[193]\tvalid_0's rmse: 1709.6\n",
      "[194]\tvalid_0's rmse: 1709.48\n",
      "[195]\tvalid_0's rmse: 1709.57\n",
      "[196]\tvalid_0's rmse: 1709.25\n",
      "[197]\tvalid_0's rmse: 1709.28\n",
      "[198]\tvalid_0's rmse: 1709.3\n",
      "[199]\tvalid_0's rmse: 1709.11\n",
      "[200]\tvalid_0's rmse: 1709.12\n",
      "[201]\tvalid_0's rmse: 1709.06\n",
      "[202]\tvalid_0's rmse: 1708.89\n",
      "[203]\tvalid_0's rmse: 1708.85\n",
      "[204]\tvalid_0's rmse: 1708.82\n",
      "[205]\tvalid_0's rmse: 1708.71\n",
      "[206]\tvalid_0's rmse: 1708.48\n",
      "[207]\tvalid_0's rmse: 1708.52\n",
      "[208]\tvalid_0's rmse: 1708.56\n",
      "[209]\tvalid_0's rmse: 1708.5\n",
      "[210]\tvalid_0's rmse: 1708.56\n",
      "[211]\tvalid_0's rmse: 1708.64\n",
      "[212]\tvalid_0's rmse: 1708.47\n",
      "[213]\tvalid_0's rmse: 1708.52\n",
      "[214]\tvalid_0's rmse: 1708.17\n",
      "[215]\tvalid_0's rmse: 1708.28\n",
      "[216]\tvalid_0's rmse: 1708.07\n",
      "[217]\tvalid_0's rmse: 1707.91\n",
      "[218]\tvalid_0's rmse: 1707.84\n",
      "[219]\tvalid_0's rmse: 1707.9\n",
      "[220]\tvalid_0's rmse: 1707.9\n",
      "[221]\tvalid_0's rmse: 1707.73\n",
      "[222]\tvalid_0's rmse: 1707.76\n",
      "[223]\tvalid_0's rmse: 1707.87\n",
      "[224]\tvalid_0's rmse: 1707.37\n"
     ]
    },
    {
     "name": "stdout",
     "output_type": "stream",
     "text": [
      "[225]\tvalid_0's rmse: 1707.48\n",
      "[226]\tvalid_0's rmse: 1707.34\n",
      "[227]\tvalid_0's rmse: 1707.11\n",
      "[228]\tvalid_0's rmse: 1706.71\n",
      "[229]\tvalid_0's rmse: 1706.42\n",
      "[230]\tvalid_0's rmse: 1706.38\n",
      "[231]\tvalid_0's rmse: 1706.29\n",
      "[232]\tvalid_0's rmse: 1706.08\n",
      "[233]\tvalid_0's rmse: 1705.92\n",
      "[234]\tvalid_0's rmse: 1705.74\n",
      "[235]\tvalid_0's rmse: 1705.24\n",
      "[236]\tvalid_0's rmse: 1705.16\n",
      "[237]\tvalid_0's rmse: 1704.82\n",
      "[238]\tvalid_0's rmse: 1704.72\n",
      "[239]\tvalid_0's rmse: 1704.71\n",
      "[240]\tvalid_0's rmse: 1704.59\n",
      "[241]\tvalid_0's rmse: 1704.08\n",
      "[242]\tvalid_0's rmse: 1703.99\n",
      "[243]\tvalid_0's rmse: 1703.77\n",
      "[244]\tvalid_0's rmse: 1703.6\n",
      "[245]\tvalid_0's rmse: 1703.5\n",
      "[246]\tvalid_0's rmse: 1703.42\n",
      "[247]\tvalid_0's rmse: 1702.96\n",
      "[248]\tvalid_0's rmse: 1702.76\n",
      "[249]\tvalid_0's rmse: 1702.85\n",
      "[250]\tvalid_0's rmse: 1702.84\n",
      "[251]\tvalid_0's rmse: 1702.65\n",
      "[252]\tvalid_0's rmse: 1702.69\n",
      "[253]\tvalid_0's rmse: 1702.61\n",
      "[254]\tvalid_0's rmse: 1702.55\n",
      "[255]\tvalid_0's rmse: 1702.54\n",
      "[256]\tvalid_0's rmse: 1702.54\n",
      "[257]\tvalid_0's rmse: 1702.41\n",
      "[258]\tvalid_0's rmse: 1702.42\n",
      "[259]\tvalid_0's rmse: 1702.53\n",
      "[260]\tvalid_0's rmse: 1702.33\n",
      "[261]\tvalid_0's rmse: 1702.37\n",
      "[262]\tvalid_0's rmse: 1702.36\n",
      "[263]\tvalid_0's rmse: 1702.33\n",
      "[264]\tvalid_0's rmse: 1701.96\n",
      "[265]\tvalid_0's rmse: 1701.63\n",
      "[266]\tvalid_0's rmse: 1701.57\n",
      "[267]\tvalid_0's rmse: 1701.6\n",
      "[268]\tvalid_0's rmse: 1701.68\n",
      "[269]\tvalid_0's rmse: 1701.63\n",
      "[270]\tvalid_0's rmse: 1701.7\n",
      "[271]\tvalid_0's rmse: 1701.62\n",
      "[272]\tvalid_0's rmse: 1701.57\n",
      "[273]\tvalid_0's rmse: 1701.47\n",
      "[274]\tvalid_0's rmse: 1701.24\n",
      "[275]\tvalid_0's rmse: 1700.97\n",
      "[276]\tvalid_0's rmse: 1701.09\n",
      "[277]\tvalid_0's rmse: 1701.3\n",
      "[278]\tvalid_0's rmse: 1701.43\n",
      "[279]\tvalid_0's rmse: 1701.33\n",
      "[280]\tvalid_0's rmse: 1701.25\n",
      "[281]\tvalid_0's rmse: 1701.1\n",
      "[282]\tvalid_0's rmse: 1701.06\n",
      "[283]\tvalid_0's rmse: 1701.07\n",
      "[284]\tvalid_0's rmse: 1700.84\n",
      "[285]\tvalid_0's rmse: 1700.67\n",
      "[286]\tvalid_0's rmse: 1700.4\n",
      "[287]\tvalid_0's rmse: 1700.35\n",
      "[288]\tvalid_0's rmse: 1700.38\n",
      "[289]\tvalid_0's rmse: 1700.35\n",
      "[290]\tvalid_0's rmse: 1700.31\n",
      "[291]\tvalid_0's rmse: 1700.19\n",
      "[292]\tvalid_0's rmse: 1700.09\n",
      "[293]\tvalid_0's rmse: 1699.96\n",
      "[294]\tvalid_0's rmse: 1699.99\n",
      "[295]\tvalid_0's rmse: 1699.93\n",
      "[296]\tvalid_0's rmse: 1699.99\n",
      "[297]\tvalid_0's rmse: 1699.93\n",
      "[298]\tvalid_0's rmse: 1699.94\n",
      "[299]\tvalid_0's rmse: 1700.07\n",
      "[300]\tvalid_0's rmse: 1700.11\n",
      "Did not meet early stopping. Best iteration is:\n",
      "[297]\tvalid_0's rmse: 1699.93\n",
      "Learning rate:  0.11\n",
      "[1]\tvalid_0's rmse: 4158.82\n",
      "Training until validation scores don't improve for 10 rounds\n",
      "[2]\tvalid_0's rmse: 3863.83\n",
      "[3]\tvalid_0's rmse: 3603.04\n",
      "[4]\tvalid_0's rmse: 3375.9\n",
      "[5]\tvalid_0's rmse: 3180.4\n",
      "[6]\tvalid_0's rmse: 3010.84\n",
      "[7]\tvalid_0's rmse: 2861.96\n",
      "[8]\tvalid_0's rmse: 2732.78\n",
      "[9]\tvalid_0's rmse: 2618.42\n",
      "[10]\tvalid_0's rmse: 2520.63\n",
      "[11]\tvalid_0's rmse: 2433.55\n",
      "[12]\tvalid_0's rmse: 2360.21\n",
      "[13]\tvalid_0's rmse: 2294.7\n",
      "[14]\tvalid_0's rmse: 2236.11\n",
      "[15]\tvalid_0's rmse: 2186.24\n",
      "[16]\tvalid_0's rmse: 2140.39\n",
      "[17]\tvalid_0's rmse: 2100.84\n",
      "[18]\tvalid_0's rmse: 2065.73\n",
      "[19]\tvalid_0's rmse: 2032.94\n",
      "[20]\tvalid_0's rmse: 2006.79\n",
      "[21]\tvalid_0's rmse: 1982.9\n",
      "[22]\tvalid_0's rmse: 1962.08\n",
      "[23]\tvalid_0's rmse: 1942.99\n",
      "[24]\tvalid_0's rmse: 1925.14\n",
      "[25]\tvalid_0's rmse: 1910.56\n",
      "[26]\tvalid_0's rmse: 1898.2\n",
      "[27]\tvalid_0's rmse: 1885.95\n",
      "[28]\tvalid_0's rmse: 1875.47\n",
      "[29]\tvalid_0's rmse: 1865.52\n",
      "[30]\tvalid_0's rmse: 1857.27\n",
      "[31]\tvalid_0's rmse: 1848.5\n",
      "[32]\tvalid_0's rmse: 1841.88\n",
      "[33]\tvalid_0's rmse: 1835.45\n",
      "[34]\tvalid_0's rmse: 1829.2\n",
      "[35]\tvalid_0's rmse: 1824.42\n",
      "[36]\tvalid_0's rmse: 1818.75\n",
      "[37]\tvalid_0's rmse: 1813.82\n",
      "[38]\tvalid_0's rmse: 1810.49\n",
      "[39]\tvalid_0's rmse: 1807.12\n",
      "[40]\tvalid_0's rmse: 1802.57\n",
      "[41]\tvalid_0's rmse: 1798.56\n",
      "[42]\tvalid_0's rmse: 1796.68\n",
      "[43]\tvalid_0's rmse: 1794.64\n",
      "[44]\tvalid_0's rmse: 1790.89\n",
      "[45]\tvalid_0's rmse: 1789.75\n",
      "[46]\tvalid_0's rmse: 1785.91\n",
      "[47]\tvalid_0's rmse: 1784.23\n",
      "[48]\tvalid_0's rmse: 1782.23\n",
      "[49]\tvalid_0's rmse: 1779.96\n",
      "[50]\tvalid_0's rmse: 1779.28\n",
      "[51]\tvalid_0's rmse: 1776.44\n",
      "[52]\tvalid_0's rmse: 1775.85\n",
      "[53]\tvalid_0's rmse: 1773.16\n",
      "[54]\tvalid_0's rmse: 1771.25\n",
      "[55]\tvalid_0's rmse: 1770.02\n",
      "[56]\tvalid_0's rmse: 1769.66\n",
      "[57]\tvalid_0's rmse: 1767.74\n",
      "[58]\tvalid_0's rmse: 1766.27\n",
      "[59]\tvalid_0's rmse: 1765.58\n",
      "[60]\tvalid_0's rmse: 1764.74\n",
      "[61]\tvalid_0's rmse: 1762.08\n",
      "[62]\tvalid_0's rmse: 1760.54\n",
      "[63]\tvalid_0's rmse: 1760.47\n",
      "[64]\tvalid_0's rmse: 1759.41\n",
      "[65]\tvalid_0's rmse: 1756.44\n",
      "[66]\tvalid_0's rmse: 1755.41\n",
      "[67]\tvalid_0's rmse: 1755.1\n",
      "[68]\tvalid_0's rmse: 1753.88\n",
      "[69]\tvalid_0's rmse: 1752.95\n",
      "[70]\tvalid_0's rmse: 1751.94\n",
      "[71]\tvalid_0's rmse: 1749.78\n",
      "[72]\tvalid_0's rmse: 1748.36\n",
      "[73]\tvalid_0's rmse: 1748.2\n",
      "[74]\tvalid_0's rmse: 1747.61\n",
      "[75]\tvalid_0's rmse: 1746.29\n",
      "[76]\tvalid_0's rmse: 1744.97\n",
      "[77]\tvalid_0's rmse: 1744.65\n",
      "[78]\tvalid_0's rmse: 1744.13\n",
      "[79]\tvalid_0's rmse: 1743.09\n",
      "[80]\tvalid_0's rmse: 1742.28\n",
      "[81]\tvalid_0's rmse: 1741.29\n",
      "[82]\tvalid_0's rmse: 1741.09\n",
      "[83]\tvalid_0's rmse: 1740.08\n",
      "[84]\tvalid_0's rmse: 1739.73\n",
      "[85]\tvalid_0's rmse: 1739.08\n",
      "[86]\tvalid_0's rmse: 1738.93\n",
      "[87]\tvalid_0's rmse: 1738.49\n",
      "[88]\tvalid_0's rmse: 1737.91\n",
      "[89]\tvalid_0's rmse: 1737.78\n",
      "[90]\tvalid_0's rmse: 1737.44\n",
      "[91]\tvalid_0's rmse: 1736.99\n",
      "[92]\tvalid_0's rmse: 1736.87\n",
      "[93]\tvalid_0's rmse: 1736.65\n",
      "[94]\tvalid_0's rmse: 1736.12\n",
      "[95]\tvalid_0's rmse: 1735.38\n",
      "[96]\tvalid_0's rmse: 1735.02\n",
      "[97]\tvalid_0's rmse: 1734.44\n",
      "[98]\tvalid_0's rmse: 1734.42\n",
      "[99]\tvalid_0's rmse: 1734.42\n",
      "[100]\tvalid_0's rmse: 1733.96\n",
      "[101]\tvalid_0's rmse: 1733.01\n",
      "[102]\tvalid_0's rmse: 1732.44\n",
      "[103]\tvalid_0's rmse: 1731.4\n",
      "[104]\tvalid_0's rmse: 1731.43\n",
      "[105]\tvalid_0's rmse: 1730.82\n",
      "[106]\tvalid_0's rmse: 1730.22\n",
      "[107]\tvalid_0's rmse: 1729.83\n",
      "[108]\tvalid_0's rmse: 1729.19\n",
      "[109]\tvalid_0's rmse: 1728.69\n",
      "[110]\tvalid_0's rmse: 1728.31\n",
      "[111]\tvalid_0's rmse: 1728.08\n",
      "[112]\tvalid_0's rmse: 1728.1\n",
      "[113]\tvalid_0's rmse: 1727.47\n",
      "[114]\tvalid_0's rmse: 1727.21\n",
      "[115]\tvalid_0's rmse: 1727.08\n",
      "[116]\tvalid_0's rmse: 1726.64\n",
      "[117]\tvalid_0's rmse: 1726.18\n",
      "[118]\tvalid_0's rmse: 1725.9\n",
      "[119]\tvalid_0's rmse: 1725.55\n",
      "[120]\tvalid_0's rmse: 1725.48\n",
      "[121]\tvalid_0's rmse: 1725.4\n",
      "[122]\tvalid_0's rmse: 1724.82\n",
      "[123]\tvalid_0's rmse: 1725.01\n",
      "[124]\tvalid_0's rmse: 1724.51\n",
      "[125]\tvalid_0's rmse: 1724.53\n",
      "[126]\tvalid_0's rmse: 1724.37\n",
      "[127]\tvalid_0's rmse: 1724.2\n",
      "[128]\tvalid_0's rmse: 1723.93\n",
      "[129]\tvalid_0's rmse: 1724.11\n",
      "[130]\tvalid_0's rmse: 1724.19\n",
      "[131]\tvalid_0's rmse: 1723.91\n",
      "[132]\tvalid_0's rmse: 1723.92\n",
      "[133]\tvalid_0's rmse: 1723.74\n",
      "[134]\tvalid_0's rmse: 1722.98\n",
      "[135]\tvalid_0's rmse: 1722.32\n",
      "[136]\tvalid_0's rmse: 1722.14\n",
      "[137]\tvalid_0's rmse: 1721.9\n",
      "[138]\tvalid_0's rmse: 1721.64\n",
      "[139]\tvalid_0's rmse: 1721.62\n",
      "[140]\tvalid_0's rmse: 1721.25\n",
      "[141]\tvalid_0's rmse: 1721.08\n",
      "[142]\tvalid_0's rmse: 1720.64\n",
      "[143]\tvalid_0's rmse: 1719.93\n",
      "[144]\tvalid_0's rmse: 1719.75\n",
      "[145]\tvalid_0's rmse: 1719.59\n",
      "[146]\tvalid_0's rmse: 1719.36\n",
      "[147]\tvalid_0's rmse: 1719.1\n",
      "[148]\tvalid_0's rmse: 1718.38\n",
      "[149]\tvalid_0's rmse: 1718.18\n",
      "[150]\tvalid_0's rmse: 1718.19\n",
      "[151]\tvalid_0's rmse: 1718.13\n",
      "[152]\tvalid_0's rmse: 1718.36\n",
      "[153]\tvalid_0's rmse: 1718.22\n",
      "[154]\tvalid_0's rmse: 1718.24\n",
      "[155]\tvalid_0's rmse: 1717.88\n",
      "[156]\tvalid_0's rmse: 1717.67\n",
      "[157]\tvalid_0's rmse: 1717.38\n",
      "[158]\tvalid_0's rmse: 1716.59\n",
      "[159]\tvalid_0's rmse: 1716.58\n",
      "[160]\tvalid_0's rmse: 1716.4\n",
      "[161]\tvalid_0's rmse: 1716.16\n",
      "[162]\tvalid_0's rmse: 1715.18\n",
      "[163]\tvalid_0's rmse: 1714.68\n",
      "[164]\tvalid_0's rmse: 1714.57\n",
      "[165]\tvalid_0's rmse: 1714.55\n",
      "[166]\tvalid_0's rmse: 1714.46\n",
      "[167]\tvalid_0's rmse: 1714.35\n",
      "[168]\tvalid_0's rmse: 1714.25\n",
      "[169]\tvalid_0's rmse: 1714.09\n",
      "[170]\tvalid_0's rmse: 1713.84\n",
      "[171]\tvalid_0's rmse: 1713.84\n",
      "[172]\tvalid_0's rmse: 1713.01\n",
      "[173]\tvalid_0's rmse: 1712.92\n",
      "[174]\tvalid_0's rmse: 1712.66\n",
      "[175]\tvalid_0's rmse: 1712.33\n",
      "[176]\tvalid_0's rmse: 1712.04\n",
      "[177]\tvalid_0's rmse: 1711.77\n",
      "[178]\tvalid_0's rmse: 1711.44\n",
      "[179]\tvalid_0's rmse: 1711.19\n",
      "[180]\tvalid_0's rmse: 1711.03\n",
      "[181]\tvalid_0's rmse: 1711\n",
      "[182]\tvalid_0's rmse: 1710.97\n",
      "[183]\tvalid_0's rmse: 1710.72\n",
      "[184]\tvalid_0's rmse: 1710.56\n",
      "[185]\tvalid_0's rmse: 1710.61\n",
      "[186]\tvalid_0's rmse: 1710.44\n",
      "[187]\tvalid_0's rmse: 1710.51\n",
      "[188]\tvalid_0's rmse: 1710.63\n",
      "[189]\tvalid_0's rmse: 1710.6\n",
      "[190]\tvalid_0's rmse: 1710.51\n",
      "[191]\tvalid_0's rmse: 1710.53\n",
      "[192]\tvalid_0's rmse: 1710.56\n",
      "[193]\tvalid_0's rmse: 1710.62\n",
      "[194]\tvalid_0's rmse: 1710.67\n",
      "[195]\tvalid_0's rmse: 1710.67\n",
      "[196]\tvalid_0's rmse: 1710.36\n",
      "[197]\tvalid_0's rmse: 1709.85\n",
      "[198]\tvalid_0's rmse: 1709.61\n"
     ]
    },
    {
     "name": "stdout",
     "output_type": "stream",
     "text": [
      "[199]\tvalid_0's rmse: 1709.48\n",
      "[200]\tvalid_0's rmse: 1709.2\n",
      "[201]\tvalid_0's rmse: 1708.83\n",
      "[202]\tvalid_0's rmse: 1708.76\n",
      "[203]\tvalid_0's rmse: 1708.69\n",
      "[204]\tvalid_0's rmse: 1708.8\n",
      "[205]\tvalid_0's rmse: 1708.83\n",
      "[206]\tvalid_0's rmse: 1708.91\n",
      "[207]\tvalid_0's rmse: 1708.38\n",
      "[208]\tvalid_0's rmse: 1708.38\n",
      "[209]\tvalid_0's rmse: 1708.23\n",
      "[210]\tvalid_0's rmse: 1708.33\n",
      "[211]\tvalid_0's rmse: 1707.96\n",
      "[212]\tvalid_0's rmse: 1707.75\n",
      "[213]\tvalid_0's rmse: 1707.45\n",
      "[214]\tvalid_0's rmse: 1707.34\n",
      "[215]\tvalid_0's rmse: 1707.29\n",
      "[216]\tvalid_0's rmse: 1706.99\n",
      "[217]\tvalid_0's rmse: 1706.99\n",
      "[218]\tvalid_0's rmse: 1706.74\n",
      "[219]\tvalid_0's rmse: 1706.54\n",
      "[220]\tvalid_0's rmse: 1706.32\n",
      "[221]\tvalid_0's rmse: 1706.36\n",
      "[222]\tvalid_0's rmse: 1706.46\n",
      "[223]\tvalid_0's rmse: 1706.17\n",
      "[224]\tvalid_0's rmse: 1706.04\n",
      "[225]\tvalid_0's rmse: 1705.61\n",
      "[226]\tvalid_0's rmse: 1705.23\n",
      "[227]\tvalid_0's rmse: 1705.13\n",
      "[228]\tvalid_0's rmse: 1705.05\n",
      "[229]\tvalid_0's rmse: 1705.05\n",
      "[230]\tvalid_0's rmse: 1705.18\n",
      "[231]\tvalid_0's rmse: 1704.9\n",
      "[232]\tvalid_0's rmse: 1704.79\n",
      "[233]\tvalid_0's rmse: 1704.64\n",
      "[234]\tvalid_0's rmse: 1704.76\n",
      "[235]\tvalid_0's rmse: 1704.66\n",
      "[236]\tvalid_0's rmse: 1704.68\n",
      "[237]\tvalid_0's rmse: 1704.21\n",
      "[238]\tvalid_0's rmse: 1703.84\n",
      "[239]\tvalid_0's rmse: 1703.68\n",
      "[240]\tvalid_0's rmse: 1703.55\n",
      "[241]\tvalid_0's rmse: 1703.5\n",
      "[242]\tvalid_0's rmse: 1703.12\n",
      "[243]\tvalid_0's rmse: 1702.79\n",
      "[244]\tvalid_0's rmse: 1702.59\n",
      "[245]\tvalid_0's rmse: 1702.37\n",
      "[246]\tvalid_0's rmse: 1702.29\n",
      "[247]\tvalid_0's rmse: 1702.07\n",
      "[248]\tvalid_0's rmse: 1702.02\n",
      "[249]\tvalid_0's rmse: 1702\n",
      "[250]\tvalid_0's rmse: 1701.89\n",
      "[251]\tvalid_0's rmse: 1701.87\n",
      "[252]\tvalid_0's rmse: 1701.8\n",
      "[253]\tvalid_0's rmse: 1701.76\n",
      "[254]\tvalid_0's rmse: 1701.61\n",
      "[255]\tvalid_0's rmse: 1701.68\n",
      "[256]\tvalid_0's rmse: 1701.68\n",
      "[257]\tvalid_0's rmse: 1701.67\n",
      "[258]\tvalid_0's rmse: 1701.43\n",
      "[259]\tvalid_0's rmse: 1701.39\n",
      "[260]\tvalid_0's rmse: 1701.18\n",
      "[261]\tvalid_0's rmse: 1701.14\n",
      "[262]\tvalid_0's rmse: 1701.33\n",
      "[263]\tvalid_0's rmse: 1701.29\n",
      "[264]\tvalid_0's rmse: 1701.27\n",
      "[265]\tvalid_0's rmse: 1701.17\n",
      "[266]\tvalid_0's rmse: 1701.07\n",
      "[267]\tvalid_0's rmse: 1701.17\n",
      "[268]\tvalid_0's rmse: 1700.96\n",
      "[269]\tvalid_0's rmse: 1700.84\n",
      "[270]\tvalid_0's rmse: 1700.85\n",
      "[271]\tvalid_0's rmse: 1700.96\n",
      "[272]\tvalid_0's rmse: 1700.97\n",
      "[273]\tvalid_0's rmse: 1700.76\n",
      "[274]\tvalid_0's rmse: 1700.63\n",
      "[275]\tvalid_0's rmse: 1700.6\n",
      "[276]\tvalid_0's rmse: 1700.72\n",
      "[277]\tvalid_0's rmse: 1700.63\n",
      "[278]\tvalid_0's rmse: 1700.58\n",
      "[279]\tvalid_0's rmse: 1700.53\n",
      "[280]\tvalid_0's rmse: 1700.52\n",
      "[281]\tvalid_0's rmse: 1700.2\n",
      "[282]\tvalid_0's rmse: 1700.13\n",
      "[283]\tvalid_0's rmse: 1699.98\n",
      "[284]\tvalid_0's rmse: 1699.99\n",
      "[285]\tvalid_0's rmse: 1699.83\n",
      "[286]\tvalid_0's rmse: 1699.81\n",
      "[287]\tvalid_0's rmse: 1699.79\n",
      "[288]\tvalid_0's rmse: 1699.74\n",
      "[289]\tvalid_0's rmse: 1699.8\n",
      "[290]\tvalid_0's rmse: 1699.64\n",
      "[291]\tvalid_0's rmse: 1699.39\n",
      "[292]\tvalid_0's rmse: 1699.18\n",
      "[293]\tvalid_0's rmse: 1699.11\n",
      "[294]\tvalid_0's rmse: 1699\n",
      "[295]\tvalid_0's rmse: 1699.18\n",
      "[296]\tvalid_0's rmse: 1699.23\n",
      "[297]\tvalid_0's rmse: 1699.28\n",
      "[298]\tvalid_0's rmse: 1699.12\n",
      "[299]\tvalid_0's rmse: 1698.94\n",
      "[300]\tvalid_0's rmse: 1698.89\n",
      "Did not meet early stopping. Best iteration is:\n",
      "[300]\tvalid_0's rmse: 1698.89\n",
      "Learning rate:  0.2\n",
      "[1]\tvalid_0's rmse: 3890.92\n",
      "Training until validation scores don't improve for 10 rounds\n",
      "[2]\tvalid_0's rmse: 3417.69\n",
      "[3]\tvalid_0's rmse: 3067.49\n",
      "[4]\tvalid_0's rmse: 2791.56\n",
      "[5]\tvalid_0's rmse: 2583.2\n",
      "[6]\tvalid_0's rmse: 2419.4\n",
      "[7]\tvalid_0's rmse: 2289.17\n",
      "[8]\tvalid_0's rmse: 2187.58\n",
      "[9]\tvalid_0's rmse: 2110.01\n",
      "[10]\tvalid_0's rmse: 2048.75\n",
      "[11]\tvalid_0's rmse: 2000.06\n",
      "[12]\tvalid_0's rmse: 1958.9\n",
      "[13]\tvalid_0's rmse: 1927.04\n",
      "[14]\tvalid_0's rmse: 1903.08\n",
      "[15]\tvalid_0's rmse: 1882.29\n",
      "[16]\tvalid_0's rmse: 1865.83\n",
      "[17]\tvalid_0's rmse: 1852.47\n",
      "[18]\tvalid_0's rmse: 1841.03\n",
      "[19]\tvalid_0's rmse: 1831.32\n",
      "[20]\tvalid_0's rmse: 1821.6\n",
      "[21]\tvalid_0's rmse: 1815.55\n",
      "[22]\tvalid_0's rmse: 1811.77\n",
      "[23]\tvalid_0's rmse: 1805.83\n",
      "[24]\tvalid_0's rmse: 1800.72\n",
      "[25]\tvalid_0's rmse: 1797.89\n",
      "[26]\tvalid_0's rmse: 1792.3\n",
      "[27]\tvalid_0's rmse: 1786.2\n",
      "[28]\tvalid_0's rmse: 1783.34\n",
      "[29]\tvalid_0's rmse: 1781.39\n",
      "[30]\tvalid_0's rmse: 1778.01\n",
      "[31]\tvalid_0's rmse: 1775.02\n",
      "[32]\tvalid_0's rmse: 1772.14\n",
      "[33]\tvalid_0's rmse: 1767.95\n",
      "[34]\tvalid_0's rmse: 1766.34\n",
      "[35]\tvalid_0's rmse: 1765.35\n",
      "[36]\tvalid_0's rmse: 1762.85\n",
      "[37]\tvalid_0's rmse: 1761.34\n",
      "[38]\tvalid_0's rmse: 1760.9\n",
      "[39]\tvalid_0's rmse: 1758.7\n",
      "[40]\tvalid_0's rmse: 1756.94\n",
      "[41]\tvalid_0's rmse: 1755.53\n",
      "[42]\tvalid_0's rmse: 1753.83\n",
      "[43]\tvalid_0's rmse: 1752.52\n",
      "[44]\tvalid_0's rmse: 1750.87\n",
      "[45]\tvalid_0's rmse: 1749.06\n",
      "[46]\tvalid_0's rmse: 1748.75\n",
      "[47]\tvalid_0's rmse: 1748.36\n",
      "[48]\tvalid_0's rmse: 1748.15\n",
      "[49]\tvalid_0's rmse: 1747.19\n",
      "[50]\tvalid_0's rmse: 1746.23\n",
      "[51]\tvalid_0's rmse: 1745.01\n",
      "[52]\tvalid_0's rmse: 1744.06\n",
      "[53]\tvalid_0's rmse: 1743.57\n",
      "[54]\tvalid_0's rmse: 1743.2\n",
      "[55]\tvalid_0's rmse: 1742.99\n",
      "[56]\tvalid_0's rmse: 1740.67\n",
      "[57]\tvalid_0's rmse: 1740.46\n",
      "[58]\tvalid_0's rmse: 1738.9\n",
      "[59]\tvalid_0's rmse: 1738.34\n",
      "[60]\tvalid_0's rmse: 1738.07\n",
      "[61]\tvalid_0's rmse: 1737.16\n",
      "[62]\tvalid_0's rmse: 1736.47\n",
      "[63]\tvalid_0's rmse: 1736.55\n",
      "[64]\tvalid_0's rmse: 1735.53\n",
      "[65]\tvalid_0's rmse: 1734.88\n",
      "[66]\tvalid_0's rmse: 1733.93\n",
      "[67]\tvalid_0's rmse: 1732.41\n",
      "[68]\tvalid_0's rmse: 1732.41\n",
      "[69]\tvalid_0's rmse: 1732.04\n",
      "[70]\tvalid_0's rmse: 1732.12\n",
      "[71]\tvalid_0's rmse: 1732.05\n",
      "[72]\tvalid_0's rmse: 1731.21\n",
      "[73]\tvalid_0's rmse: 1730.73\n",
      "[74]\tvalid_0's rmse: 1729.98\n",
      "[75]\tvalid_0's rmse: 1729.05\n",
      "[76]\tvalid_0's rmse: 1729.26\n",
      "[77]\tvalid_0's rmse: 1728.85\n",
      "[78]\tvalid_0's rmse: 1727.64\n",
      "[79]\tvalid_0's rmse: 1727.57\n",
      "[80]\tvalid_0's rmse: 1726.11\n",
      "[81]\tvalid_0's rmse: 1725.71\n",
      "[82]\tvalid_0's rmse: 1725.73\n",
      "[83]\tvalid_0's rmse: 1725.46\n",
      "[84]\tvalid_0's rmse: 1725.03\n",
      "[85]\tvalid_0's rmse: 1723.86\n",
      "[86]\tvalid_0's rmse: 1723.69\n",
      "[87]\tvalid_0's rmse: 1723.63\n",
      "[88]\tvalid_0's rmse: 1723.23\n",
      "[89]\tvalid_0's rmse: 1723.42\n",
      "[90]\tvalid_0's rmse: 1723.06\n",
      "[91]\tvalid_0's rmse: 1723.12\n",
      "[92]\tvalid_0's rmse: 1721.59\n",
      "[93]\tvalid_0's rmse: 1721.23\n",
      "[94]\tvalid_0's rmse: 1720.83\n",
      "[95]\tvalid_0's rmse: 1720.78\n",
      "[96]\tvalid_0's rmse: 1720.44\n",
      "[97]\tvalid_0's rmse: 1720.41\n",
      "[98]\tvalid_0's rmse: 1720.26\n",
      "[99]\tvalid_0's rmse: 1720.32\n",
      "[100]\tvalid_0's rmse: 1720.45\n",
      "[101]\tvalid_0's rmse: 1720.07\n",
      "[102]\tvalid_0's rmse: 1720.04\n",
      "[103]\tvalid_0's rmse: 1720.19\n",
      "[104]\tvalid_0's rmse: 1720.41\n",
      "[105]\tvalid_0's rmse: 1720.24\n",
      "[106]\tvalid_0's rmse: 1720.16\n",
      "[107]\tvalid_0's rmse: 1720.27\n",
      "[108]\tvalid_0's rmse: 1720.21\n",
      "[109]\tvalid_0's rmse: 1719.92\n",
      "[110]\tvalid_0's rmse: 1719.72\n",
      "[111]\tvalid_0's rmse: 1719.58\n",
      "[112]\tvalid_0's rmse: 1719.48\n",
      "[113]\tvalid_0's rmse: 1719.2\n",
      "[114]\tvalid_0's rmse: 1718.66\n",
      "[115]\tvalid_0's rmse: 1718.23\n",
      "[116]\tvalid_0's rmse: 1718.16\n",
      "[117]\tvalid_0's rmse: 1717.79\n",
      "[118]\tvalid_0's rmse: 1718.1\n",
      "[119]\tvalid_0's rmse: 1718.32\n",
      "[120]\tvalid_0's rmse: 1718.55\n",
      "[121]\tvalid_0's rmse: 1718.5\n",
      "[122]\tvalid_0's rmse: 1718.46\n",
      "[123]\tvalid_0's rmse: 1718.25\n",
      "[124]\tvalid_0's rmse: 1718.39\n",
      "[125]\tvalid_0's rmse: 1718.09\n",
      "[126]\tvalid_0's rmse: 1717.97\n",
      "[127]\tvalid_0's rmse: 1717.88\n",
      "Early stopping, best iteration is:\n",
      "[117]\tvalid_0's rmse: 1717.79\n",
      "Learning rate:  0.5\n",
      "[1]\tvalid_0's rmse: 3097.85\n",
      "Training until validation scores don't improve for 10 rounds\n",
      "[2]\tvalid_0's rmse: 2476.7\n",
      "[3]\tvalid_0's rmse: 2187.69\n",
      "[4]\tvalid_0's rmse: 2040.17\n",
      "[5]\tvalid_0's rmse: 1972.37\n",
      "[6]\tvalid_0's rmse: 1930.29\n",
      "[7]\tvalid_0's rmse: 1904\n",
      "[8]\tvalid_0's rmse: 1893.25\n",
      "[9]\tvalid_0's rmse: 1872.03\n",
      "[10]\tvalid_0's rmse: 1856.12\n",
      "[11]\tvalid_0's rmse: 1852.29\n",
      "[12]\tvalid_0's rmse: 1849.63\n",
      "[13]\tvalid_0's rmse: 1845.82\n",
      "[14]\tvalid_0's rmse: 1839.85\n",
      "[15]\tvalid_0's rmse: 1834.15\n",
      "[16]\tvalid_0's rmse: 1832.96\n",
      "[17]\tvalid_0's rmse: 1827.08\n",
      "[18]\tvalid_0's rmse: 1823\n",
      "[19]\tvalid_0's rmse: 1822.69\n",
      "[20]\tvalid_0's rmse: 1822.08\n",
      "[21]\tvalid_0's rmse: 1822.26\n",
      "[22]\tvalid_0's rmse: 1820.17\n",
      "[23]\tvalid_0's rmse: 1818.91\n",
      "[24]\tvalid_0's rmse: 1815.65\n",
      "[25]\tvalid_0's rmse: 1811.74\n",
      "[26]\tvalid_0's rmse: 1808.94\n",
      "[27]\tvalid_0's rmse: 1807.95\n",
      "[28]\tvalid_0's rmse: 1807.89\n",
      "[29]\tvalid_0's rmse: 1807.43\n",
      "[30]\tvalid_0's rmse: 1808.31\n",
      "[31]\tvalid_0's rmse: 1808.07\n",
      "[32]\tvalid_0's rmse: 1808.07\n",
      "[33]\tvalid_0's rmse: 1807.1\n",
      "[34]\tvalid_0's rmse: 1807.37\n",
      "[35]\tvalid_0's rmse: 1806.55\n",
      "[36]\tvalid_0's rmse: 1804.03\n",
      "[37]\tvalid_0's rmse: 1802.75\n",
      "[38]\tvalid_0's rmse: 1801.27\n",
      "[39]\tvalid_0's rmse: 1799.72\n",
      "[40]\tvalid_0's rmse: 1799.72\n",
      "[41]\tvalid_0's rmse: 1799.53\n",
      "[42]\tvalid_0's rmse: 1797.89\n"
     ]
    },
    {
     "name": "stdout",
     "output_type": "stream",
     "text": [
      "[43]\tvalid_0's rmse: 1797.23\n",
      "[44]\tvalid_0's rmse: 1796.33\n",
      "[45]\tvalid_0's rmse: 1795.53\n",
      "[46]\tvalid_0's rmse: 1794.16\n",
      "[47]\tvalid_0's rmse: 1794.49\n",
      "[48]\tvalid_0's rmse: 1793.99\n",
      "[49]\tvalid_0's rmse: 1794.82\n",
      "[50]\tvalid_0's rmse: 1795.08\n",
      "[51]\tvalid_0's rmse: 1795.12\n",
      "[52]\tvalid_0's rmse: 1795.89\n",
      "[53]\tvalid_0's rmse: 1795.22\n",
      "[54]\tvalid_0's rmse: 1795.78\n",
      "[55]\tvalid_0's rmse: 1796.21\n",
      "[56]\tvalid_0's rmse: 1796.73\n",
      "[57]\tvalid_0's rmse: 1796.82\n",
      "[58]\tvalid_0's rmse: 1796.95\n",
      "Early stopping, best iteration is:\n",
      "[48]\tvalid_0's rmse: 1793.99\n",
      "CPU times: user 1min 50s, sys: 326 ms, total: 1min 50s\n",
      "Wall time: 1min 51s\n"
     ]
    }
   ],
   "source": [
    "%%time\n",
    "# Train the model\n",
    "for l in learning_rates:\n",
    "    # Set parameters for regression\n",
    "    print(\"Learning rate: \", l)\n",
    "    params = {\n",
    "        'objective': 'regression',\n",
    "        'metric': 'rmse',\n",
    "        'verbosity': -1,\n",
    "        'seed': rs,\n",
    "        'learning_rate': l\n",
    "    }\n",
    "    lgb_model = lgb.train(params, lgb_train, num_round, valid_sets=[lgb_val], early_stopping_rounds=10)\n",
    "    models.append({\"learning_rate\": l,\n",
    "                   \"model\": lgb_model,\n",
    "                   \"rmse\": lgb_model.best_score[\"valid_0\"][\"rmse\"],\n",
    "                   \"best_iteration\": lgb_model.best_iteration})"
   ]
  },
  {
   "cell_type": "code",
   "execution_count": 32,
   "metadata": {},
   "outputs": [
    {
     "data": {
      "text/html": [
       "<div>\n",
       "<style scoped>\n",
       "    .dataframe tbody tr th:only-of-type {\n",
       "        vertical-align: middle;\n",
       "    }\n",
       "\n",
       "    .dataframe tbody tr th {\n",
       "        vertical-align: top;\n",
       "    }\n",
       "\n",
       "    .dataframe thead th {\n",
       "        text-align: right;\n",
       "    }\n",
       "</style>\n",
       "<table border=\"1\" class=\"dataframe\">\n",
       "  <thead>\n",
       "    <tr style=\"text-align: right;\">\n",
       "      <th></th>\n",
       "      <th>learning_rate</th>\n",
       "      <th>model</th>\n",
       "      <th>rmse</th>\n",
       "      <th>best_iteration</th>\n",
       "    </tr>\n",
       "  </thead>\n",
       "  <tbody>\n",
       "    <tr>\n",
       "      <th>0</th>\n",
       "      <td>0.080</td>\n",
       "      <td>&lt;lightgbm.basic.Booster object at 0x7fd5f1edabb0&gt;</td>\n",
       "      <td>1704.421871</td>\n",
       "      <td>299</td>\n",
       "    </tr>\n",
       "    <tr>\n",
       "      <th>1</th>\n",
       "      <td>0.095</td>\n",
       "      <td>&lt;lightgbm.basic.Booster object at 0x7fd5f1edaa60&gt;</td>\n",
       "      <td>1699.359598</td>\n",
       "      <td>300</td>\n",
       "    </tr>\n",
       "    <tr>\n",
       "      <th>2</th>\n",
       "      <td>0.100</td>\n",
       "      <td>&lt;lightgbm.basic.Booster object at 0x7fd5f2745d60&gt;</td>\n",
       "      <td>1699.927057</td>\n",
       "      <td>297</td>\n",
       "    </tr>\n",
       "    <tr>\n",
       "      <th>3</th>\n",
       "      <td>0.110</td>\n",
       "      <td>&lt;lightgbm.basic.Booster object at 0x7fd5f27459d0&gt;</td>\n",
       "      <td>1698.888414</td>\n",
       "      <td>300</td>\n",
       "    </tr>\n",
       "    <tr>\n",
       "      <th>4</th>\n",
       "      <td>0.200</td>\n",
       "      <td>&lt;lightgbm.basic.Booster object at 0x7fd5f1edaaf0&gt;</td>\n",
       "      <td>1717.792937</td>\n",
       "      <td>117</td>\n",
       "    </tr>\n",
       "    <tr>\n",
       "      <th>5</th>\n",
       "      <td>0.500</td>\n",
       "      <td>&lt;lightgbm.basic.Booster object at 0x7fd5f2745ac0&gt;</td>\n",
       "      <td>1793.985077</td>\n",
       "      <td>48</td>\n",
       "    </tr>\n",
       "  </tbody>\n",
       "</table>\n",
       "</div>"
      ],
      "text/plain": [
       "   learning_rate                                              model  \\\n",
       "0          0.080  <lightgbm.basic.Booster object at 0x7fd5f1edabb0>   \n",
       "1          0.095  <lightgbm.basic.Booster object at 0x7fd5f1edaa60>   \n",
       "2          0.100  <lightgbm.basic.Booster object at 0x7fd5f2745d60>   \n",
       "3          0.110  <lightgbm.basic.Booster object at 0x7fd5f27459d0>   \n",
       "4          0.200  <lightgbm.basic.Booster object at 0x7fd5f1edaaf0>   \n",
       "5          0.500  <lightgbm.basic.Booster object at 0x7fd5f2745ac0>   \n",
       "\n",
       "          rmse  best_iteration  \n",
       "0  1704.421871             299  \n",
       "1  1699.359598             300  \n",
       "2  1699.927057             297  \n",
       "3  1698.888414             300  \n",
       "4  1717.792937             117  \n",
       "5  1793.985077              48  "
      ]
     },
     "execution_count": 32,
     "metadata": {},
     "output_type": "execute_result"
    }
   ],
   "source": [
    "# Mostramos los resultados de los mejores modelos por cada learning rate.\n",
    "pd.DataFrame(models)"
   ]
  },
  {
   "cell_type": "code",
   "execution_count": 33,
   "metadata": {
    "scrolled": true
   },
   "outputs": [
    {
     "data": {
      "text/plain": [
       "{'learning_rate': 0.11,\n",
       " 'model': <lightgbm.basic.Booster at 0x7fd5f27459d0>,\n",
       " 'rmse': 1698.8884136734573,\n",
       " 'best_iteration': 300}"
      ]
     },
     "execution_count": 33,
     "metadata": {},
     "output_type": "execute_result"
    }
   ],
   "source": [
    "# Elegimos el modelo con el mejor desempeño.\n",
    "boosted_best_model = min(models, key=lambda x:x['rmse'])\n",
    "boosted_best_model"
   ]
  },
  {
   "cell_type": "code",
   "execution_count": 34,
   "metadata": {},
   "outputs": [
    {
     "name": "stdout",
     "output_type": "stream",
     "text": [
      "CPU times: user 3.09 s, sys: 0 ns, total: 3.09 s\n",
      "Wall time: 3.09 s\n"
     ]
    }
   ],
   "source": [
    "%%time\n",
    "# Predicción con el conjunto de prueba\n",
    "lgb_y_pred = boosted_best_model[\"model\"].predict(X2_test)"
   ]
  },
  {
   "cell_type": "code",
   "execution_count": 35,
   "metadata": {},
   "outputs": [
    {
     "name": "stdout",
     "output_type": "stream",
     "text": [
      "RMSE: 1746.2611315835313\n"
     ]
    }
   ],
   "source": [
    "# Calcular el RMSE\n",
    "lgb_rmse = mean_squared_error(y_test, lgb_y_pred, squared=False)\n",
    "print(f'RMSE: {lgb_rmse}')"
   ]
  },
  {
   "cell_type": "markdown",
   "metadata": {},
   "source": [
    "## Análisis del modelo"
   ]
  },
  {
   "cell_type": "markdown",
   "metadata": {},
   "source": [
    "En el presente proyecto se crearon distintos modelos de regresión para el servicio de venta de autos usados Rusty Bargain. Los modelos a probar fueron los siguientes:\n",
    "* Regresión Lineal\n",
    "* Árbol de decisión (Decision Tree)\n",
    "* Bosque aleatorio (Random Forest)\n",
    "* Árbol con potenciación de gradiente (Gradient Boosted Tree)\n",
    "\n",
    "A continuación se presentarán los resultados de acuerdo a las métricas de interés de la empresa."
   ]
  },
  {
   "cell_type": "markdown",
   "metadata": {},
   "source": [
    "### Calidad de la Predicción\n",
    "\n",
    "Para medir la calidad de la predicción se utilizó la métrica de raíz del error cuadrado medio o RMSE, por sus siglas en inglés. Los resultados fueron los siguientes:\n",
    "\n",
    "| Modelo | RMSE |\n",
    "|---|---|\n",
    "| Regresión Lineal | 3166.84 |\n",
    "| Árbol de Decisión | 2139.10 |\n",
    "| Bosque Aleatorio | 1768.09 |\n",
    "| Árbol Potenciado por Gradiente | 1746.26 |\n",
    "\n",
    "Por lo que podemos concluir que el árbol potenciado por gradiente es el que presenta un mejor desempeño."
   ]
  },
  {
   "cell_type": "markdown",
   "metadata": {},
   "source": [
    "### Tiempo de Ejecución del Entrenamiento\n",
    "\n",
    "Para medir el tiempo de ejecución del entrenamiento y validación de los modelos, que incluye la búsqueda de hiperparámetros se utilizó el comando %%time para medir el tiempo de ejecución de la celda en Jupyter. Los resultados fueron los siguientes:\n",
    "\n",
    "| Modelo | Tiempo de Ejecución del Entrenamiento |\n",
    "|---|---|\n",
    "| Regresión Lineal | 8.14 s |\n",
    "| Árbol de Decisión | 31.7 s |\n",
    "| Bosque Aleatorio | 11min 27s |\n",
    "| Árbol Potenciado por Gradiente | 1min 46s |\n",
    "\n",
    "El modelo de regresión lineal es el que presenta un menor tiempo de ejecución al entrenar. Sin embargo, si tomamos en cuenta la complejidad de cada modelo, podemos concluir que el árbol potenciado por gradiente es el que presenta un menor tiempo de ejecución en relación a su desempeño y complejidad."
   ]
  },
  {
   "cell_type": "markdown",
   "metadata": {},
   "source": [
    "### Tiempo de Ejecución de la Predicción\n",
    "\n",
    "Para el tiempo de ejecución de la predicción de los modelos con el conjunto de datos de prueba se utilizó el comando %%time para medir el tiempo de ejecución de la celda en Jupyter. Los resultados fueron los siguientes:\n",
    "\n",
    "| Modelo | Tiempo de Ejecución de la Predicción |\n",
    "|---|---|\n",
    "| Regresión Lineal | 86.2 ms |\n",
    "| Árbol de Decisión | 58.2 ms |\n",
    "| Bosque Aleatorio | 1.26 s |\n",
    "| Árbol Potenciado por Gradiente | 2.99 s |\n",
    "\n",
    "El modelo de árbol de decisión es el que presenta un menor tiempo de ejecución al entrenar. Sin embargo, los tiempos de ejecución en el conjunto de entrenamiento son lo suficientemente pequeños como para que sea razonable restarles importancia."
   ]
  },
  {
   "cell_type": "markdown",
   "metadata": {},
   "source": [
    "## Conclusión\n",
    "\n",
    "Dados los resultados presentados anteriormente, podemos concluir que el modelo de árbol potenciado por gradiente es el más indicado para la tarea que Rusty Bargain desea realizar, ya que presenta el mejor desempeño en cuanto a la relación calidad/tiempo de ejecución. Esperamos seguir contando con su confianza para la realización de más modelos que sean de utilidad para su organización."
   ]
  },
  {
   "cell_type": "markdown",
   "metadata": {},
   "source": [
    "<div class=\"alert alert-block alert-success\">\n",
    "<b>Éxito</b> <a class=\"tocSkip\"></a>\n",
    "¡Felicidades por un proyecto bien estructurado y ejecutado! Has seguido los pasos de preparación de datos, entrenamiento y análisis de modelos correctamente. </div>\n"
   ]
  },
  {
   "cell_type": "markdown",
   "metadata": {},
   "source": [
    "# Lista de control"
   ]
  },
  {
   "cell_type": "markdown",
   "metadata": {},
   "source": [
    "Escribe 'x' para verificar. Luego presiona Shift+Enter"
   ]
  },
  {
   "cell_type": "markdown",
   "metadata": {},
   "source": [
    "- [x]  Jupyter Notebook está abierto\n",
    "- [ ]  El código no tiene errores- [ ]  Las celdas con el código han sido colocadas en orden de ejecución- [ ]  Los datos han sido descargados y preparados- [ ]  Los modelos han sido entrenados\n",
    "- [ ]  Se realizó el análisis de velocidad y calidad de los modelos"
   ]
  }
 ],
 "metadata": {
  "ExecuteTimeLog": [
   {
    "duration": 794,
    "start_time": "2024-09-13T18:34:50.295Z"
   },
   {
    "duration": 2122,
    "start_time": "2024-09-13T18:43:12.966Z"
   },
   {
    "duration": 2091,
    "start_time": "2024-09-13T18:43:28.533Z"
   },
   {
    "duration": 91,
    "start_time": "2024-09-13T18:44:05.410Z"
   },
   {
    "duration": 62,
    "start_time": "2024-09-13T18:44:38.683Z"
   },
   {
    "duration": 89,
    "start_time": "2024-09-13T18:46:37.286Z"
   },
   {
    "duration": 186,
    "start_time": "2024-09-13T21:57:22.952Z"
   },
   {
    "duration": 828,
    "start_time": "2024-09-13T21:57:27.966Z"
   },
   {
    "duration": 2188,
    "start_time": "2024-09-13T21:57:28.796Z"
   },
   {
    "duration": 72,
    "start_time": "2024-09-13T21:57:30.986Z"
   },
   {
    "duration": 111,
    "start_time": "2024-09-13T21:57:31.060Z"
   },
   {
    "duration": 92,
    "start_time": "2024-09-13T21:57:31.173Z"
   },
   {
    "duration": 16,
    "start_time": "2024-09-13T21:57:38.551Z"
   },
   {
    "duration": 29,
    "start_time": "2024-09-13T21:57:54.929Z"
   },
   {
    "duration": 5,
    "start_time": "2024-09-13T21:58:03.857Z"
   },
   {
    "duration": 24,
    "start_time": "2024-09-13T21:58:54.872Z"
   },
   {
    "duration": 27,
    "start_time": "2024-09-13T21:59:19.955Z"
   },
   {
    "duration": 30,
    "start_time": "2024-09-13T22:00:49.909Z"
   },
   {
    "duration": 28,
    "start_time": "2024-09-13T22:01:06.156Z"
   },
   {
    "duration": 34,
    "start_time": "2024-09-13T22:01:25.944Z"
   },
   {
    "duration": 25,
    "start_time": "2024-09-13T22:01:51.983Z"
   },
   {
    "duration": 43,
    "start_time": "2024-09-13T22:11:13.344Z"
   },
   {
    "duration": 42,
    "start_time": "2024-09-13T22:12:06.347Z"
   },
   {
    "duration": 39,
    "start_time": "2024-09-13T22:12:46.160Z"
   },
   {
    "duration": 36,
    "start_time": "2024-09-13T22:20:32.890Z"
   },
   {
    "duration": 35,
    "start_time": "2024-09-13T22:21:11.666Z"
   },
   {
    "duration": 2243,
    "start_time": "2024-09-13T22:47:10.813Z"
   },
   {
    "duration": 4,
    "start_time": "2024-09-17T19:24:23.929Z"
   },
   {
    "duration": 2215,
    "start_time": "2024-09-17T19:24:23.934Z"
   },
   {
    "duration": 54,
    "start_time": "2024-09-17T19:24:26.151Z"
   },
   {
    "duration": 101,
    "start_time": "2024-09-17T19:24:26.207Z"
   },
   {
    "duration": 15,
    "start_time": "2024-09-17T19:24:26.310Z"
   },
   {
    "duration": 28,
    "start_time": "2024-09-17T19:24:26.326Z"
   },
   {
    "duration": 39,
    "start_time": "2024-09-17T19:24:26.358Z"
   },
   {
    "duration": 36,
    "start_time": "2024-09-17T19:24:26.401Z"
   },
   {
    "duration": 35,
    "start_time": "2024-09-17T19:24:26.439Z"
   },
   {
    "duration": 26,
    "start_time": "2024-09-17T19:24:26.475Z"
   },
   {
    "duration": 55,
    "start_time": "2024-09-17T19:24:26.502Z"
   },
   {
    "duration": 29,
    "start_time": "2024-09-17T19:24:26.558Z"
   },
   {
    "duration": 53,
    "start_time": "2024-09-17T19:24:26.588Z"
   },
   {
    "duration": 24,
    "start_time": "2024-09-17T19:24:26.642Z"
   },
   {
    "duration": 36,
    "start_time": "2024-09-17T19:24:26.668Z"
   },
   {
    "duration": 900,
    "start_time": "2024-09-17T19:30:26.084Z"
   },
   {
    "duration": 27,
    "start_time": "2024-09-17T19:31:10.972Z"
   },
   {
    "duration": 14,
    "start_time": "2024-09-17T19:31:29.349Z"
   },
   {
    "duration": 120,
    "start_time": "2024-09-17T19:31:35.441Z"
   },
   {
    "duration": 865,
    "start_time": "2024-09-17T19:32:00.316Z"
   },
   {
    "duration": 2275,
    "start_time": "2024-09-17T19:32:01.183Z"
   },
   {
    "duration": 81,
    "start_time": "2024-09-17T19:32:03.459Z"
   },
   {
    "duration": 112,
    "start_time": "2024-09-17T19:32:03.542Z"
   },
   {
    "duration": 7,
    "start_time": "2024-09-17T19:32:03.656Z"
   },
   {
    "duration": 36,
    "start_time": "2024-09-17T19:32:03.666Z"
   },
   {
    "duration": 58,
    "start_time": "2024-09-17T19:32:03.704Z"
   },
   {
    "duration": 26,
    "start_time": "2024-09-17T19:32:03.765Z"
   },
   {
    "duration": 48,
    "start_time": "2024-09-17T19:32:03.792Z"
   },
   {
    "duration": 34,
    "start_time": "2024-09-17T19:32:03.842Z"
   },
   {
    "duration": 50,
    "start_time": "2024-09-17T19:32:03.877Z"
   },
   {
    "duration": 26,
    "start_time": "2024-09-17T19:32:03.929Z"
   },
   {
    "duration": 35,
    "start_time": "2024-09-17T19:32:03.957Z"
   },
   {
    "duration": 37,
    "start_time": "2024-09-17T19:32:03.994Z"
   },
   {
    "duration": 37,
    "start_time": "2024-09-17T19:32:04.033Z"
   },
   {
    "duration": 160,
    "start_time": "2024-09-17T19:32:04.072Z"
   },
   {
    "duration": 908,
    "start_time": "2024-09-17T19:32:25.973Z"
   },
   {
    "duration": 2495,
    "start_time": "2024-09-17T19:32:26.884Z"
   },
   {
    "duration": 78,
    "start_time": "2024-09-17T19:32:29.382Z"
   },
   {
    "duration": 125,
    "start_time": "2024-09-17T19:32:29.462Z"
   },
   {
    "duration": 6,
    "start_time": "2024-09-17T19:32:29.590Z"
   },
   {
    "duration": 34,
    "start_time": "2024-09-17T19:32:29.598Z"
   },
   {
    "duration": 37,
    "start_time": "2024-09-17T19:32:29.634Z"
   },
   {
    "duration": 27,
    "start_time": "2024-09-17T19:32:29.672Z"
   },
   {
    "duration": 63,
    "start_time": "2024-09-17T19:32:29.702Z"
   },
   {
    "duration": 38,
    "start_time": "2024-09-17T19:32:29.767Z"
   },
   {
    "duration": 66,
    "start_time": "2024-09-17T19:32:29.806Z"
   },
   {
    "duration": 26,
    "start_time": "2024-09-17T19:32:29.874Z"
   },
   {
    "duration": 48,
    "start_time": "2024-09-17T19:32:29.901Z"
   },
   {
    "duration": 25,
    "start_time": "2024-09-17T19:32:29.952Z"
   },
   {
    "duration": 49,
    "start_time": "2024-09-17T19:32:29.979Z"
   },
   {
    "duration": 127,
    "start_time": "2024-09-17T19:32:30.030Z"
   },
   {
    "duration": 1080,
    "start_time": "2024-09-17T19:32:30.159Z"
   },
   {
    "duration": 792,
    "start_time": "2024-09-17T19:32:39.280Z"
   },
   {
    "duration": 2918,
    "start_time": "2024-09-17T22:05:27.059Z"
   },
   {
    "duration": 2218,
    "start_time": "2024-09-17T22:05:30.285Z"
   },
   {
    "duration": 87,
    "start_time": "2024-09-17T22:05:35.110Z"
   },
   {
    "duration": 134,
    "start_time": "2024-09-17T22:11:32.871Z"
   },
   {
    "duration": 72,
    "start_time": "2024-09-17T22:11:47.618Z"
   },
   {
    "duration": 114,
    "start_time": "2024-09-17T22:11:49.740Z"
   },
   {
    "duration": 4,
    "start_time": "2024-09-17T22:11:52.563Z"
   },
   {
    "duration": 27,
    "start_time": "2024-09-17T22:11:56.255Z"
   },
   {
    "duration": 37,
    "start_time": "2024-09-17T22:11:58.460Z"
   },
   {
    "duration": 25,
    "start_time": "2024-09-17T22:12:00.951Z"
   },
   {
    "duration": 41,
    "start_time": "2024-09-17T22:12:03.360Z"
   },
   {
    "duration": 30,
    "start_time": "2024-09-17T22:12:05.043Z"
   },
   {
    "duration": 45,
    "start_time": "2024-09-17T22:12:07.629Z"
   },
   {
    "duration": 26,
    "start_time": "2024-09-17T22:12:09.331Z"
   },
   {
    "duration": 36,
    "start_time": "2024-09-17T22:12:11.354Z"
   },
   {
    "duration": 26,
    "start_time": "2024-09-17T22:12:13.746Z"
   },
   {
    "duration": 38,
    "start_time": "2024-09-17T22:12:16.312Z"
   },
   {
    "duration": 9,
    "start_time": "2024-09-17T22:12:17.810Z"
   },
   {
    "duration": 6,
    "start_time": "2024-09-17T22:17:43.048Z"
   },
   {
    "duration": 105,
    "start_time": "2024-09-17T22:45:57.450Z"
   },
   {
    "duration": 135,
    "start_time": "2024-09-17T22:46:01.100Z"
   },
   {
    "duration": 711,
    "start_time": "2024-09-17T22:46:03.148Z"
   },
   {
    "duration": 872,
    "start_time": "2024-09-17T22:46:20.723Z"
   },
   {
    "duration": 2140,
    "start_time": "2024-09-17T22:46:21.598Z"
   },
   {
    "duration": 55,
    "start_time": "2024-09-17T22:46:23.739Z"
   },
   {
    "duration": 102,
    "start_time": "2024-09-17T22:46:23.797Z"
   },
   {
    "duration": 4,
    "start_time": "2024-09-17T22:46:23.901Z"
   },
   {
    "duration": 38,
    "start_time": "2024-09-17T22:46:23.907Z"
   },
   {
    "duration": 37,
    "start_time": "2024-09-17T22:46:23.947Z"
   },
   {
    "duration": 47,
    "start_time": "2024-09-17T22:46:23.986Z"
   },
   {
    "duration": 43,
    "start_time": "2024-09-17T22:46:24.035Z"
   },
   {
    "duration": 25,
    "start_time": "2024-09-17T22:46:24.081Z"
   },
   {
    "duration": 63,
    "start_time": "2024-09-17T22:46:24.108Z"
   },
   {
    "duration": 26,
    "start_time": "2024-09-17T22:46:24.173Z"
   },
   {
    "duration": 48,
    "start_time": "2024-09-17T22:46:24.200Z"
   },
   {
    "duration": 24,
    "start_time": "2024-09-17T22:46:24.250Z"
   },
   {
    "duration": 57,
    "start_time": "2024-09-17T22:46:24.276Z"
   },
   {
    "duration": 7,
    "start_time": "2024-09-17T22:46:24.335Z"
   },
   {
    "duration": 134,
    "start_time": "2024-09-17T22:46:24.344Z"
   },
   {
    "duration": 937,
    "start_time": "2024-09-17T22:46:24.480Z"
   },
   {
    "duration": 739,
    "start_time": "2024-09-17T22:46:44.821Z"
   },
   {
    "duration": 790,
    "start_time": "2024-09-17T22:47:18.106Z"
   },
   {
    "duration": 724,
    "start_time": "2024-09-17T22:47:25.840Z"
   },
   {
    "duration": 675,
    "start_time": "2024-09-17T22:48:40.064Z"
   },
   {
    "duration": 5,
    "start_time": "2024-09-17T22:48:44.307Z"
   },
   {
    "duration": 696,
    "start_time": "2024-09-17T22:48:58.970Z"
   },
   {
    "duration": 710,
    "start_time": "2024-09-17T22:49:19.391Z"
   },
   {
    "duration": 721,
    "start_time": "2024-09-17T22:49:37.577Z"
   },
   {
    "duration": 851,
    "start_time": "2024-09-17T22:50:25.952Z"
   },
   {
    "duration": 401,
    "start_time": "2024-09-17T22:50:31.718Z"
   },
   {
    "duration": 2641,
    "start_time": "2024-09-17T22:50:32.121Z"
   },
   {
    "duration": 91,
    "start_time": "2024-09-17T22:50:34.764Z"
   },
   {
    "duration": 103,
    "start_time": "2024-09-17T22:50:34.857Z"
   },
   {
    "duration": 4,
    "start_time": "2024-09-17T22:50:34.964Z"
   },
   {
    "duration": 25,
    "start_time": "2024-09-17T22:50:34.969Z"
   },
   {
    "duration": 59,
    "start_time": "2024-09-17T22:50:34.996Z"
   },
   {
    "duration": 28,
    "start_time": "2024-09-17T22:50:35.056Z"
   },
   {
    "duration": 49,
    "start_time": "2024-09-17T22:50:35.085Z"
   },
   {
    "duration": 26,
    "start_time": "2024-09-17T22:50:35.136Z"
   },
   {
    "duration": 36,
    "start_time": "2024-09-17T22:50:35.165Z"
   },
   {
    "duration": 38,
    "start_time": "2024-09-17T22:50:35.203Z"
   },
   {
    "duration": 37,
    "start_time": "2024-09-17T22:50:35.243Z"
   },
   {
    "duration": 48,
    "start_time": "2024-09-17T22:50:35.284Z"
   },
   {
    "duration": 36,
    "start_time": "2024-09-17T22:50:35.334Z"
   },
   {
    "duration": 19,
    "start_time": "2024-09-17T22:50:35.372Z"
   },
   {
    "duration": 145,
    "start_time": "2024-09-17T22:50:35.393Z"
   },
   {
    "duration": 768,
    "start_time": "2024-09-17T22:50:35.540Z"
   },
   {
    "duration": 635,
    "start_time": "2024-09-17T22:51:00.486Z"
   },
   {
    "duration": 562,
    "start_time": "2024-09-17T22:51:29.683Z"
   },
   {
    "duration": 630,
    "start_time": "2024-09-17T22:51:43.935Z"
   },
   {
    "duration": 38,
    "start_time": "2024-09-17T22:53:23.248Z"
   },
   {
    "duration": 418,
    "start_time": "2024-09-17T22:54:01.335Z"
   },
   {
    "duration": 369,
    "start_time": "2024-09-17T22:54:21.747Z"
   },
   {
    "duration": 531,
    "start_time": "2024-09-17T23:01:37.127Z"
   },
   {
    "duration": 884,
    "start_time": "2024-09-17T23:04:18.125Z"
   },
   {
    "duration": 2279,
    "start_time": "2024-09-17T23:04:19.011Z"
   },
   {
    "duration": 98,
    "start_time": "2024-09-17T23:04:21.292Z"
   },
   {
    "duration": 97,
    "start_time": "2024-09-17T23:04:21.392Z"
   },
   {
    "duration": 5,
    "start_time": "2024-09-17T23:04:21.491Z"
   },
   {
    "duration": 38,
    "start_time": "2024-09-17T23:04:21.498Z"
   },
   {
    "duration": 36,
    "start_time": "2024-09-17T23:04:21.538Z"
   },
   {
    "duration": 26,
    "start_time": "2024-09-17T23:04:21.576Z"
   },
   {
    "duration": 52,
    "start_time": "2024-09-17T23:04:21.604Z"
   },
   {
    "duration": 25,
    "start_time": "2024-09-17T23:04:21.658Z"
   },
   {
    "duration": 52,
    "start_time": "2024-09-17T23:04:21.685Z"
   },
   {
    "duration": 28,
    "start_time": "2024-09-17T23:04:21.739Z"
   },
   {
    "duration": 35,
    "start_time": "2024-09-17T23:04:21.769Z"
   },
   {
    "duration": 41,
    "start_time": "2024-09-17T23:04:21.807Z"
   },
   {
    "duration": 35,
    "start_time": "2024-09-17T23:04:21.849Z"
   },
   {
    "duration": 52,
    "start_time": "2024-09-17T23:04:21.886Z"
   },
   {
    "duration": 148,
    "start_time": "2024-09-17T23:04:21.941Z"
   },
   {
    "duration": 454,
    "start_time": "2024-09-17T23:04:22.091Z"
   },
   {
    "duration": 284,
    "start_time": "2024-09-17T23:11:29.606Z"
   },
   {
    "duration": 21,
    "start_time": "2024-09-17T23:11:42.016Z"
   },
   {
    "duration": 6,
    "start_time": "2024-09-17T23:12:19.235Z"
   },
   {
    "duration": 14,
    "start_time": "2024-09-17T23:12:26.035Z"
   },
   {
    "duration": 7,
    "start_time": "2024-09-17T23:12:33.447Z"
   },
   {
    "duration": 5,
    "start_time": "2024-09-17T23:13:48.793Z"
   },
   {
    "duration": 21,
    "start_time": "2024-09-17T23:13:56.474Z"
   },
   {
    "duration": 798,
    "start_time": "2024-09-17T23:15:38.393Z"
   },
   {
    "duration": 371,
    "start_time": "2024-09-17T23:15:42.626Z"
   },
   {
    "duration": 2238,
    "start_time": "2024-09-17T23:15:43.000Z"
   },
   {
    "duration": 56,
    "start_time": "2024-09-17T23:15:45.240Z"
   },
   {
    "duration": 116,
    "start_time": "2024-09-17T23:15:45.298Z"
   },
   {
    "duration": 6,
    "start_time": "2024-09-17T23:15:45.417Z"
   },
   {
    "duration": 29,
    "start_time": "2024-09-17T23:15:45.424Z"
   },
   {
    "duration": 36,
    "start_time": "2024-09-17T23:15:45.454Z"
   },
   {
    "duration": 43,
    "start_time": "2024-09-17T23:15:45.491Z"
   },
   {
    "duration": 36,
    "start_time": "2024-09-17T23:15:45.535Z"
   },
   {
    "duration": 26,
    "start_time": "2024-09-17T23:15:45.572Z"
   },
   {
    "duration": 55,
    "start_time": "2024-09-17T23:15:45.600Z"
   },
   {
    "duration": 26,
    "start_time": "2024-09-17T23:15:45.656Z"
   },
   {
    "duration": 49,
    "start_time": "2024-09-17T23:15:45.683Z"
   },
   {
    "duration": 24,
    "start_time": "2024-09-17T23:15:45.735Z"
   },
   {
    "duration": 36,
    "start_time": "2024-09-17T23:15:45.760Z"
   },
   {
    "duration": 52,
    "start_time": "2024-09-17T23:15:45.797Z"
   },
   {
    "duration": 149,
    "start_time": "2024-09-17T23:15:45.851Z"
   },
   {
    "duration": 538,
    "start_time": "2024-09-17T23:15:46.002Z"
   },
   {
    "duration": 946,
    "start_time": "2024-09-17T23:16:45.473Z"
   },
   {
    "duration": 2298,
    "start_time": "2024-09-17T23:16:46.423Z"
   },
   {
    "duration": 94,
    "start_time": "2024-09-17T23:16:48.723Z"
   },
   {
    "duration": 100,
    "start_time": "2024-09-17T23:16:48.819Z"
   },
   {
    "duration": 11,
    "start_time": "2024-09-17T23:16:48.921Z"
   },
   {
    "duration": 26,
    "start_time": "2024-09-17T23:16:48.933Z"
   },
   {
    "duration": 36,
    "start_time": "2024-09-17T23:16:48.961Z"
   },
   {
    "duration": 43,
    "start_time": "2024-09-17T23:16:48.999Z"
   },
   {
    "duration": 35,
    "start_time": "2024-09-17T23:16:49.044Z"
   },
   {
    "duration": 26,
    "start_time": "2024-09-17T23:16:49.082Z"
   },
   {
    "duration": 52,
    "start_time": "2024-09-17T23:16:49.110Z"
   },
   {
    "duration": 26,
    "start_time": "2024-09-17T23:16:49.163Z"
   },
   {
    "duration": 51,
    "start_time": "2024-09-17T23:16:49.191Z"
   },
   {
    "duration": 24,
    "start_time": "2024-09-17T23:16:49.244Z"
   },
   {
    "duration": 36,
    "start_time": "2024-09-17T23:16:49.270Z"
   },
   {
    "duration": 55,
    "start_time": "2024-09-17T23:16:49.308Z"
   },
   {
    "duration": 151,
    "start_time": "2024-09-17T23:16:49.364Z"
   },
   {
    "duration": 943,
    "start_time": "2024-09-17T23:17:27.080Z"
   },
   {
    "duration": 3712,
    "start_time": "2024-09-17T23:17:28.025Z"
   },
   {
    "duration": 95,
    "start_time": "2024-09-17T23:17:31.739Z"
   },
   {
    "duration": 95,
    "start_time": "2024-09-17T23:17:31.836Z"
   },
   {
    "duration": 4,
    "start_time": "2024-09-17T23:17:31.934Z"
   },
   {
    "duration": 35,
    "start_time": "2024-09-17T23:17:31.940Z"
   },
   {
    "duration": 58,
    "start_time": "2024-09-17T23:17:31.977Z"
   },
   {
    "duration": 26,
    "start_time": "2024-09-17T23:17:32.037Z"
   },
   {
    "duration": 35,
    "start_time": "2024-09-17T23:17:32.064Z"
   },
   {
    "duration": 42,
    "start_time": "2024-09-17T23:17:32.101Z"
   },
   {
    "duration": 35,
    "start_time": "2024-09-17T23:17:32.145Z"
   },
   {
    "duration": 24,
    "start_time": "2024-09-17T23:17:32.182Z"
   },
   {
    "duration": 50,
    "start_time": "2024-09-17T23:17:32.208Z"
   },
   {
    "duration": 24,
    "start_time": "2024-09-17T23:17:32.262Z"
   },
   {
    "duration": 53,
    "start_time": "2024-09-17T23:17:32.287Z"
   },
   {
    "duration": 37,
    "start_time": "2024-09-17T23:17:32.341Z"
   },
   {
    "duration": 152,
    "start_time": "2024-09-17T23:17:32.380Z"
   },
   {
    "duration": 426,
    "start_time": "2024-09-17T23:17:32.534Z"
   },
   {
    "duration": 3,
    "start_time": "2024-09-17T23:17:49.216Z"
   },
   {
    "duration": 289,
    "start_time": "2024-09-17T23:24:50.028Z"
   },
   {
    "duration": 4492,
    "start_time": "2024-09-17T23:25:45.670Z"
   },
   {
    "duration": 903,
    "start_time": "2024-09-17T23:26:16.089Z"
   },
   {
    "duration": 2228,
    "start_time": "2024-09-17T23:26:16.994Z"
   },
   {
    "duration": 84,
    "start_time": "2024-09-17T23:26:19.224Z"
   },
   {
    "duration": 106,
    "start_time": "2024-09-17T23:26:19.309Z"
   },
   {
    "duration": 4,
    "start_time": "2024-09-17T23:26:19.418Z"
   },
   {
    "duration": 25,
    "start_time": "2024-09-17T23:26:19.431Z"
   },
   {
    "duration": 35,
    "start_time": "2024-09-17T23:26:19.458Z"
   },
   {
    "duration": 39,
    "start_time": "2024-09-17T23:26:19.495Z"
   },
   {
    "duration": 36,
    "start_time": "2024-09-17T23:26:19.535Z"
   },
   {
    "duration": 26,
    "start_time": "2024-09-17T23:26:19.573Z"
   },
   {
    "duration": 54,
    "start_time": "2024-09-17T23:26:19.601Z"
   },
   {
    "duration": 27,
    "start_time": "2024-09-17T23:26:19.658Z"
   },
   {
    "duration": 48,
    "start_time": "2024-09-17T23:26:19.686Z"
   },
   {
    "duration": 32,
    "start_time": "2024-09-17T23:26:19.737Z"
   },
   {
    "duration": 46,
    "start_time": "2024-09-17T23:26:19.771Z"
   },
   {
    "duration": 50,
    "start_time": "2024-09-17T23:26:19.818Z"
   },
   {
    "duration": 160,
    "start_time": "2024-09-17T23:26:19.869Z"
   },
   {
    "duration": 450,
    "start_time": "2024-09-17T23:26:20.032Z"
   },
   {
    "duration": 3809,
    "start_time": "2024-09-17T23:26:20.484Z"
   },
   {
    "duration": 94,
    "start_time": "2024-09-17T23:27:41.677Z"
   },
   {
    "duration": 122,
    "start_time": "2024-09-17T23:32:11.733Z"
   },
   {
    "duration": 17086,
    "start_time": "2024-09-17T23:33:43.028Z"
   },
   {
    "duration": 34607,
    "start_time": "2024-09-17T23:34:36.109Z"
   },
   {
    "duration": 3,
    "start_time": "2024-09-17T23:35:19.170Z"
   },
   {
    "duration": 101,
    "start_time": "2024-09-17T23:35:56.943Z"
   },
   {
    "duration": 938,
    "start_time": "2024-09-17T23:36:11.169Z"
   },
   {
    "duration": 2254,
    "start_time": "2024-09-17T23:36:12.109Z"
   },
   {
    "duration": 57,
    "start_time": "2024-09-17T23:36:14.366Z"
   },
   {
    "duration": 95,
    "start_time": "2024-09-17T23:36:14.425Z"
   },
   {
    "duration": 4,
    "start_time": "2024-09-17T23:36:14.531Z"
   },
   {
    "duration": 35466,
    "start_time": "2024-09-17T23:36:14.537Z"
   },
   {
    "duration": 30,
    "start_time": "2024-09-17T23:36:50.005Z"
   },
   {
    "duration": 37,
    "start_time": "2024-09-17T23:36:50.037Z"
   },
   {
    "duration": 25,
    "start_time": "2024-09-17T23:36:50.076Z"
   },
   {
    "duration": 57,
    "start_time": "2024-09-17T23:36:50.103Z"
   },
   {
    "duration": 27,
    "start_time": "2024-09-17T23:36:50.162Z"
   },
   {
    "duration": 48,
    "start_time": "2024-09-17T23:36:50.191Z"
   },
   {
    "duration": 25,
    "start_time": "2024-09-17T23:36:50.241Z"
   },
   {
    "duration": 35,
    "start_time": "2024-09-17T23:36:50.270Z"
   },
   {
    "duration": 42,
    "start_time": "2024-09-17T23:36:50.307Z"
   },
   {
    "duration": 36,
    "start_time": "2024-09-17T23:36:50.351Z"
   },
   {
    "duration": 12,
    "start_time": "2024-09-17T23:36:50.388Z"
   },
   {
    "duration": 137,
    "start_time": "2024-09-17T23:36:50.402Z"
   },
   {
    "duration": 357,
    "start_time": "2024-09-17T23:36:50.541Z"
   },
   {
    "duration": 2192,
    "start_time": "2024-09-17T23:36:50.900Z"
   },
   {
    "duration": 906,
    "start_time": "2024-09-17T23:38:38.070Z"
   },
   {
    "duration": 2275,
    "start_time": "2024-09-17T23:38:38.979Z"
   },
   {
    "duration": 58,
    "start_time": "2024-09-17T23:38:41.256Z"
   },
   {
    "duration": 103,
    "start_time": "2024-09-17T23:38:41.316Z"
   },
   {
    "duration": 13,
    "start_time": "2024-09-17T23:38:41.420Z"
   },
   {
    "duration": 36322,
    "start_time": "2024-09-17T23:38:41.435Z"
   },
   {
    "duration": 26,
    "start_time": "2024-09-17T23:39:17.759Z"
   },
   {
    "duration": 53,
    "start_time": "2024-09-17T23:39:17.787Z"
   },
   {
    "duration": 24,
    "start_time": "2024-09-17T23:39:17.842Z"
   },
   {
    "duration": 37,
    "start_time": "2024-09-17T23:39:17.870Z"
   },
   {
    "duration": 49,
    "start_time": "2024-09-17T23:39:17.909Z"
   },
   {
    "duration": 35,
    "start_time": "2024-09-17T23:39:17.961Z"
   },
   {
    "duration": 39,
    "start_time": "2024-09-17T23:39:17.998Z"
   },
   {
    "duration": 36,
    "start_time": "2024-09-17T23:39:18.040Z"
   },
   {
    "duration": 25,
    "start_time": "2024-09-17T23:39:18.078Z"
   },
   {
    "duration": 56,
    "start_time": "2024-09-17T23:39:18.104Z"
   },
   {
    "duration": 9,
    "start_time": "2024-09-17T23:39:18.161Z"
   },
   {
    "duration": 133,
    "start_time": "2024-09-17T23:39:18.172Z"
   },
   {
    "duration": 356,
    "start_time": "2024-09-17T23:39:18.307Z"
   },
   {
    "duration": 256,
    "start_time": "2024-09-17T23:39:18.665Z"
   },
   {
    "duration": 174,
    "start_time": "2024-09-17T23:40:17.874Z"
   },
   {
    "duration": 917,
    "start_time": "2024-09-17T23:40:57.180Z"
   },
   {
    "duration": 953,
    "start_time": "2024-09-17T23:59:16.737Z"
   },
   {
    "duration": 2338,
    "start_time": "2024-09-17T23:59:17.693Z"
   },
   {
    "duration": 88,
    "start_time": "2024-09-17T23:59:20.033Z"
   },
   {
    "duration": 95,
    "start_time": "2024-09-17T23:59:20.123Z"
   },
   {
    "duration": 12,
    "start_time": "2024-09-17T23:59:20.220Z"
   },
   {
    "duration": 35307,
    "start_time": "2024-09-17T23:59:20.234Z"
   },
   {
    "duration": 25,
    "start_time": "2024-09-17T23:59:55.543Z"
   },
   {
    "duration": 36,
    "start_time": "2024-09-17T23:59:55.569Z"
   },
   {
    "duration": 46,
    "start_time": "2024-09-17T23:59:55.607Z"
   },
   {
    "duration": 35,
    "start_time": "2024-09-17T23:59:55.656Z"
   },
   {
    "duration": 43,
    "start_time": "2024-09-17T23:59:55.693Z"
   },
   {
    "duration": 34,
    "start_time": "2024-09-17T23:59:55.737Z"
   },
   {
    "duration": 27,
    "start_time": "2024-09-17T23:59:55.773Z"
   },
   {
    "duration": 48,
    "start_time": "2024-09-17T23:59:55.801Z"
   },
   {
    "duration": 25,
    "start_time": "2024-09-17T23:59:55.851Z"
   },
   {
    "duration": 35,
    "start_time": "2024-09-17T23:59:55.877Z"
   },
   {
    "duration": 28,
    "start_time": "2024-09-17T23:59:55.932Z"
   },
   {
    "duration": 317,
    "start_time": "2024-09-18T00:00:12.556Z"
   },
   {
    "duration": 285,
    "start_time": "2024-09-18T00:03:02.987Z"
   },
   {
    "duration": 15,
    "start_time": "2024-09-18T00:03:09.556Z"
   },
   {
    "duration": 1067,
    "start_time": "2024-09-18T00:03:13.702Z"
   },
   {
    "duration": 202,
    "start_time": "2024-09-18T00:04:29.153Z"
   },
   {
    "duration": 335,
    "start_time": "2024-09-18T00:04:38.043Z"
   },
   {
    "duration": 24,
    "start_time": "2024-09-18T00:05:04.814Z"
   },
   {
    "duration": 161,
    "start_time": "2024-09-18T00:12:01.081Z"
   },
   {
    "duration": 920,
    "start_time": "2024-09-18T00:12:11.989Z"
   },
   {
    "duration": 4479,
    "start_time": "2024-09-18T00:12:12.911Z"
   },
   {
    "duration": 62,
    "start_time": "2024-09-18T00:12:17.392Z"
   },
   {
    "duration": 100,
    "start_time": "2024-09-18T00:12:17.456Z"
   },
   {
    "duration": 4,
    "start_time": "2024-09-18T00:12:17.559Z"
   },
   {
    "duration": 34776,
    "start_time": "2024-09-18T00:12:17.564Z"
   },
   {
    "duration": 25,
    "start_time": "2024-09-18T00:12:52.341Z"
   },
   {
    "duration": 36,
    "start_time": "2024-09-18T00:12:52.368Z"
   },
   {
    "duration": 42,
    "start_time": "2024-09-18T00:12:52.406Z"
   },
   {
    "duration": 35,
    "start_time": "2024-09-18T00:12:52.449Z"
   },
   {
    "duration": 27,
    "start_time": "2024-09-18T00:12:52.485Z"
   },
   {
    "duration": 51,
    "start_time": "2024-09-18T00:12:52.513Z"
   },
   {
    "duration": 25,
    "start_time": "2024-09-18T00:12:52.566Z"
   },
   {
    "duration": 55,
    "start_time": "2024-09-18T00:12:52.594Z"
   },
   {
    "duration": 24,
    "start_time": "2024-09-18T00:12:52.651Z"
   },
   {
    "duration": 35,
    "start_time": "2024-09-18T00:12:52.677Z"
   },
   {
    "duration": 34,
    "start_time": "2024-09-18T00:12:52.714Z"
   },
   {
    "duration": 324,
    "start_time": "2024-09-18T00:12:52.751Z"
   },
   {
    "duration": 1041,
    "start_time": "2024-09-18T00:12:53.077Z"
   },
   {
    "duration": 320,
    "start_time": "2024-09-18T00:12:54.120Z"
   },
   {
    "duration": 8750,
    "start_time": "2024-09-18T00:12:54.442Z"
   },
   {
    "duration": 1028,
    "start_time": "2024-09-18T00:13:14.528Z"
   },
   {
    "duration": 12196,
    "start_time": "2024-09-18T00:14:31.814Z"
   },
   {
    "duration": 9242,
    "start_time": "2024-09-18T00:15:20.013Z"
   },
   {
    "duration": 9291,
    "start_time": "2024-09-18T00:16:02.260Z"
   },
   {
    "duration": 9170,
    "start_time": "2024-09-18T00:16:41.709Z"
   },
   {
    "duration": 4,
    "start_time": "2024-09-18T00:18:39.678Z"
   },
   {
    "duration": 922,
    "start_time": "2024-09-18T00:19:32.672Z"
   },
   {
    "duration": 2290,
    "start_time": "2024-09-18T00:19:33.597Z"
   },
   {
    "duration": 60,
    "start_time": "2024-09-18T00:19:35.889Z"
   },
   {
    "duration": 96,
    "start_time": "2024-09-18T00:19:35.952Z"
   },
   {
    "duration": 4,
    "start_time": "2024-09-18T00:19:36.050Z"
   },
   {
    "duration": 37012,
    "start_time": "2024-09-18T00:19:36.055Z"
   },
   {
    "duration": 25,
    "start_time": "2024-09-18T00:20:13.069Z"
   },
   {
    "duration": 47,
    "start_time": "2024-09-18T00:20:13.096Z"
   },
   {
    "duration": 26,
    "start_time": "2024-09-18T00:20:13.144Z"
   },
   {
    "duration": 58,
    "start_time": "2024-09-18T00:20:13.174Z"
   },
   {
    "duration": 27,
    "start_time": "2024-09-18T00:20:13.234Z"
   },
   {
    "duration": 35,
    "start_time": "2024-09-18T00:20:13.263Z"
   },
   {
    "duration": 42,
    "start_time": "2024-09-18T00:20:13.300Z"
   },
   {
    "duration": 37,
    "start_time": "2024-09-18T00:20:13.344Z"
   },
   {
    "duration": 49,
    "start_time": "2024-09-18T00:20:13.383Z"
   },
   {
    "duration": 36,
    "start_time": "2024-09-18T00:20:13.434Z"
   },
   {
    "duration": 27,
    "start_time": "2024-09-18T00:20:13.472Z"
   },
   {
    "duration": 330,
    "start_time": "2024-09-18T00:20:13.501Z"
   },
   {
    "duration": 1051,
    "start_time": "2024-09-18T00:20:13.833Z"
   },
   {
    "duration": 319,
    "start_time": "2024-09-18T00:20:14.885Z"
   },
   {
    "duration": 796,
    "start_time": "2024-09-18T00:20:41.613Z"
   },
   {
    "duration": 929,
    "start_time": "2024-09-18T00:20:48.354Z"
   },
   {
    "duration": 2249,
    "start_time": "2024-09-18T00:20:49.286Z"
   },
   {
    "duration": 95,
    "start_time": "2024-09-18T00:20:51.536Z"
   },
   {
    "duration": 98,
    "start_time": "2024-09-18T00:20:51.634Z"
   },
   {
    "duration": 4,
    "start_time": "2024-09-18T00:20:51.734Z"
   },
   {
    "duration": 35453,
    "start_time": "2024-09-18T00:20:51.740Z"
   },
   {
    "duration": 26,
    "start_time": "2024-09-18T00:21:27.194Z"
   },
   {
    "duration": 39,
    "start_time": "2024-09-18T00:21:27.223Z"
   },
   {
    "duration": 25,
    "start_time": "2024-09-18T00:21:27.264Z"
   },
   {
    "duration": 55,
    "start_time": "2024-09-18T00:21:27.293Z"
   },
   {
    "duration": 27,
    "start_time": "2024-09-18T00:21:27.349Z"
   },
   {
    "duration": 34,
    "start_time": "2024-09-18T00:21:27.379Z"
   },
   {
    "duration": 37,
    "start_time": "2024-09-18T00:21:27.415Z"
   },
   {
    "duration": 35,
    "start_time": "2024-09-18T00:21:27.453Z"
   },
   {
    "duration": 45,
    "start_time": "2024-09-18T00:21:27.489Z"
   },
   {
    "duration": 37,
    "start_time": "2024-09-18T00:21:27.536Z"
   },
   {
    "duration": 22,
    "start_time": "2024-09-18T00:21:27.575Z"
   },
   {
    "duration": 356,
    "start_time": "2024-09-18T00:21:27.599Z"
   },
   {
    "duration": 889,
    "start_time": "2024-09-18T00:21:27.957Z"
   },
   {
    "duration": 0,
    "start_time": "2024-09-18T00:21:28.848Z"
   },
   {
    "duration": 0,
    "start_time": "2024-09-18T00:21:28.849Z"
   },
   {
    "duration": 1058,
    "start_time": "2024-09-18T00:21:41.773Z"
   },
   {
    "duration": 352,
    "start_time": "2024-09-18T00:21:47.937Z"
   },
   {
    "duration": 934,
    "start_time": "2024-09-18T00:22:14.376Z"
   },
   {
    "duration": 2205,
    "start_time": "2024-09-18T00:22:15.312Z"
   },
   {
    "duration": 65,
    "start_time": "2024-09-18T00:22:17.519Z"
   },
   {
    "duration": 105,
    "start_time": "2024-09-18T00:22:17.587Z"
   },
   {
    "duration": 4,
    "start_time": "2024-09-18T00:22:17.695Z"
   },
   {
    "duration": 35260,
    "start_time": "2024-09-18T00:22:17.701Z"
   },
   {
    "duration": 25,
    "start_time": "2024-09-18T00:22:52.964Z"
   },
   {
    "duration": 51,
    "start_time": "2024-09-18T00:22:52.991Z"
   },
   {
    "duration": 27,
    "start_time": "2024-09-18T00:22:53.044Z"
   },
   {
    "duration": 64,
    "start_time": "2024-09-18T00:22:53.075Z"
   },
   {
    "duration": 37,
    "start_time": "2024-09-18T00:22:53.141Z"
   },
   {
    "duration": 66,
    "start_time": "2024-09-18T00:22:53.181Z"
   },
   {
    "duration": 25,
    "start_time": "2024-09-18T00:22:53.249Z"
   },
   {
    "duration": 35,
    "start_time": "2024-09-18T00:22:53.279Z"
   },
   {
    "duration": 39,
    "start_time": "2024-09-18T00:22:53.316Z"
   },
   {
    "duration": 44,
    "start_time": "2024-09-18T00:22:53.359Z"
   },
   {
    "duration": 43,
    "start_time": "2024-09-18T00:22:53.405Z"
   },
   {
    "duration": 357,
    "start_time": "2024-09-18T00:22:53.449Z"
   },
   {
    "duration": 1075,
    "start_time": "2024-09-18T00:22:53.808Z"
   },
   {
    "duration": 316,
    "start_time": "2024-09-18T00:22:54.884Z"
   },
   {
    "duration": 9854,
    "start_time": "2024-09-18T00:22:55.202Z"
   },
   {
    "duration": 275,
    "start_time": "2024-09-18T00:34:13.656Z"
   },
   {
    "duration": 1426030,
    "start_time": "2024-09-18T00:34:35.059Z"
   },
   {
    "duration": 4,
    "start_time": "2024-09-18T00:59:06.747Z"
   },
   {
    "duration": 2293,
    "start_time": "2024-09-18T00:59:06.757Z"
   },
   {
    "duration": 55,
    "start_time": "2024-09-18T00:59:09.051Z"
   },
   {
    "duration": 94,
    "start_time": "2024-09-18T00:59:09.108Z"
   },
   {
    "duration": 5,
    "start_time": "2024-09-18T00:59:09.203Z"
   },
   {
    "duration": 36957,
    "start_time": "2024-09-18T00:59:09.212Z"
   },
   {
    "duration": 37,
    "start_time": "2024-09-18T00:59:46.171Z"
   },
   {
    "duration": 48,
    "start_time": "2024-09-18T00:59:46.209Z"
   },
   {
    "duration": 48,
    "start_time": "2024-09-18T00:59:46.259Z"
   },
   {
    "duration": 49,
    "start_time": "2024-09-18T00:59:46.309Z"
   },
   {
    "duration": 38,
    "start_time": "2024-09-18T00:59:46.360Z"
   },
   {
    "duration": 49,
    "start_time": "2024-09-18T00:59:46.400Z"
   },
   {
    "duration": 363,
    "start_time": "2024-09-18T00:59:46.450Z"
   },
   {
    "duration": 1150,
    "start_time": "2024-09-18T00:59:46.815Z"
   },
   {
    "duration": 343,
    "start_time": "2024-09-18T00:59:47.968Z"
   },
   {
    "duration": 9377,
    "start_time": "2024-09-18T00:59:48.313Z"
   },
   {
    "duration": 2062040,
    "start_time": "2024-09-18T00:59:57.697Z"
   },
   {
    "duration": 208459,
    "start_time": "2024-09-18T01:34:19.739Z"
   },
   {
    "duration": 206855,
    "start_time": "2024-09-18T02:39:36.148Z"
   },
   {
    "duration": 210682,
    "start_time": "2024-09-18T02:43:20.852Z"
   },
   {
    "duration": 17,
    "start_time": "2024-09-18T02:48:51.898Z"
   },
   {
    "duration": 4555,
    "start_time": "2024-09-18T02:49:05.978Z"
   },
   {
    "duration": 29059,
    "start_time": "2024-09-18T02:49:31.073Z"
   },
   {
    "duration": 0,
    "start_time": "2024-09-18T02:50:00.135Z"
   },
   {
    "duration": 28553,
    "start_time": "2024-09-18T02:50:29.391Z"
   },
   {
    "duration": 14,
    "start_time": "2024-09-18T02:50:57.946Z"
   },
   {
    "duration": 157,
    "start_time": "2024-09-18T02:51:10.721Z"
   },
   {
    "duration": 31809,
    "start_time": "2024-09-18T02:51:23.591Z"
   },
   {
    "duration": 130,
    "start_time": "2024-09-18T02:51:55.402Z"
   },
   {
    "duration": 124,
    "start_time": "2024-09-18T02:52:47.508Z"
   },
   {
    "duration": 1028,
    "start_time": "2024-09-18T03:15:53.844Z"
   },
   {
    "duration": 142,
    "start_time": "2024-09-18T03:23:42.239Z"
   },
   {
    "duration": 52,
    "start_time": "2024-09-18T03:23:50.055Z"
   },
   {
    "duration": 57,
    "start_time": "2024-09-18T03:23:59.394Z"
   },
   {
    "duration": 56,
    "start_time": "2024-09-18T03:24:25.249Z"
   },
   {
    "duration": 711,
    "start_time": "2024-09-18T03:25:48.538Z"
   },
   {
    "duration": 8,
    "start_time": "2024-09-18T03:26:38.350Z"
   },
   {
    "duration": 506,
    "start_time": "2024-09-18T03:26:53.812Z"
   },
   {
    "duration": 169,
    "start_time": "2024-09-18T03:30:16.410Z"
   },
   {
    "duration": 61,
    "start_time": "2024-09-18T03:31:07.066Z"
   },
   {
    "duration": 178,
    "start_time": "2024-09-18T03:31:13.089Z"
   },
   {
    "duration": 162,
    "start_time": "2024-09-18T03:31:29.927Z"
   },
   {
    "duration": 155,
    "start_time": "2024-09-18T15:09:14.385Z"
   },
   {
    "duration": 2642,
    "start_time": "2024-09-18T15:09:45.483Z"
   },
   {
    "duration": 2105,
    "start_time": "2024-09-18T15:09:48.127Z"
   },
   {
    "duration": 91,
    "start_time": "2024-09-18T15:09:50.235Z"
   },
   {
    "duration": 101,
    "start_time": "2024-09-18T15:09:50.328Z"
   },
   {
    "duration": 12,
    "start_time": "2024-09-18T15:09:50.432Z"
   },
   {
    "duration": 36644,
    "start_time": "2024-09-18T15:09:50.445Z"
   },
   {
    "duration": 36,
    "start_time": "2024-09-18T15:10:27.092Z"
   },
   {
    "duration": 44,
    "start_time": "2024-09-18T15:10:27.129Z"
   },
   {
    "duration": 35,
    "start_time": "2024-09-18T15:10:27.174Z"
   },
   {
    "duration": 55,
    "start_time": "2024-09-18T15:10:27.210Z"
   },
   {
    "duration": 36,
    "start_time": "2024-09-18T15:10:27.266Z"
   },
   {
    "duration": 22,
    "start_time": "2024-09-18T15:10:27.303Z"
   },
   {
    "duration": 351,
    "start_time": "2024-09-18T15:10:27.327Z"
   },
   {
    "duration": 1055,
    "start_time": "2024-09-18T15:10:27.681Z"
   },
   {
    "duration": 319,
    "start_time": "2024-09-18T15:10:28.737Z"
   },
   {
    "duration": 8989,
    "start_time": "2024-09-18T15:10:29.058Z"
   },
   {
    "duration": 31177,
    "start_time": "2024-09-18T15:10:38.049Z"
   },
   {
    "duration": 124,
    "start_time": "2024-09-18T15:11:09.228Z"
   },
   {
    "duration": 697558,
    "start_time": "2024-09-18T15:11:09.353Z"
   },
   {
    "duration": 180,
    "start_time": "2024-09-18T15:22:46.913Z"
   },
   {
    "duration": 2,
    "start_time": "2024-09-18T15:22:47.096Z"
   },
   {
    "duration": 719433,
    "start_time": "2024-09-18T15:36:17.286Z"
   },
   {
    "duration": 2749,
    "start_time": "2024-09-18T15:48:16.721Z"
   },
   {
    "duration": 735,
    "start_time": "2024-09-18T15:51:08.678Z"
   },
   {
    "duration": 179,
    "start_time": "2024-09-18T15:51:30.486Z"
   },
   {
    "duration": 8799,
    "start_time": "2024-09-18T15:51:34.428Z"
   },
   {
    "duration": 8647,
    "start_time": "2024-09-18T15:52:44.033Z"
   },
   {
    "duration": 8407,
    "start_time": "2024-09-18T16:00:24.076Z"
   },
   {
    "duration": 9297,
    "start_time": "2024-09-18T16:06:22.077Z"
   },
   {
    "duration": 120,
    "start_time": "2024-09-18T16:06:43.938Z"
   },
   {
    "duration": 35,
    "start_time": "2024-09-18T16:06:46.737Z"
   },
   {
    "duration": 8554,
    "start_time": "2024-09-18T16:07:10.226Z"
   },
   {
    "duration": 621,
    "start_time": "2024-09-18T16:14:22.079Z"
   },
   {
    "duration": 7468,
    "start_time": "2024-09-18T16:14:46.603Z"
   },
   {
    "duration": 796,
    "start_time": "2024-09-18T16:34:18.009Z"
   },
   {
    "duration": 9155,
    "start_time": "2024-09-18T16:34:35.742Z"
   },
   {
    "duration": 11048,
    "start_time": "2024-09-18T16:35:24.909Z"
   },
   {
    "duration": 20444,
    "start_time": "2024-09-18T16:35:47.421Z"
   },
   {
    "duration": 26016,
    "start_time": "2024-09-18T16:36:44.372Z"
   },
   {
    "duration": 861,
    "start_time": "2024-09-18T19:13:54.833Z"
   },
   {
    "duration": 819,
    "start_time": "2024-09-18T19:14:32.461Z"
   },
   {
    "duration": 112,
    "start_time": "2024-09-18T19:17:20.741Z"
   },
   {
    "duration": 4,
    "start_time": "2024-09-18T19:17:33.234Z"
   },
   {
    "duration": 3,
    "start_time": "2024-09-18T19:17:35.301Z"
   },
   {
    "duration": 3,
    "start_time": "2024-09-18T19:17:43.022Z"
   },
   {
    "duration": 110,
    "start_time": "2024-09-18T19:17:50.376Z"
   },
   {
    "duration": 828,
    "start_time": "2024-09-18T19:18:22.516Z"
   },
   {
    "duration": 2656,
    "start_time": "2024-09-18T22:24:51.790Z"
   },
   {
    "duration": 1955,
    "start_time": "2024-09-18T22:24:54.449Z"
   },
   {
    "duration": 64,
    "start_time": "2024-09-18T22:24:56.406Z"
   },
   {
    "duration": 98,
    "start_time": "2024-09-18T22:24:56.471Z"
   },
   {
    "duration": 5,
    "start_time": "2024-09-18T22:24:56.573Z"
   },
   {
    "duration": 34739,
    "start_time": "2024-09-18T22:24:56.580Z"
   },
   {
    "duration": 37,
    "start_time": "2024-09-18T22:25:31.321Z"
   },
   {
    "duration": 35,
    "start_time": "2024-09-18T22:25:31.359Z"
   },
   {
    "duration": 56,
    "start_time": "2024-09-18T22:25:31.395Z"
   },
   {
    "duration": 37,
    "start_time": "2024-09-18T22:25:31.453Z"
   },
   {
    "duration": 50,
    "start_time": "2024-09-18T22:25:31.492Z"
   },
   {
    "duration": 28,
    "start_time": "2024-09-18T22:25:31.544Z"
   },
   {
    "duration": 336,
    "start_time": "2024-09-18T22:25:31.574Z"
   },
   {
    "duration": 1047,
    "start_time": "2024-09-18T22:25:31.913Z"
   },
   {
    "duration": 325,
    "start_time": "2024-09-18T22:25:32.962Z"
   },
   {
    "duration": 8863,
    "start_time": "2024-09-18T22:25:33.288Z"
   },
   {
    "duration": 31875,
    "start_time": "2024-09-18T22:25:42.154Z"
   },
   {
    "duration": 123,
    "start_time": "2024-09-18T22:26:14.030Z"
   },
   {
    "duration": 19,
    "start_time": "2024-09-18T22:26:14.155Z"
   },
   {
    "duration": 2,
    "start_time": "2024-09-18T22:26:37.490Z"
   },
   {
    "duration": 3,
    "start_time": "2024-09-18T22:26:39.578Z"
   },
   {
    "duration": 288,
    "start_time": "2024-09-18T22:26:42.100Z"
   },
   {
    "duration": 847,
    "start_time": "2024-09-18T22:26:47.860Z"
   },
   {
    "duration": 39707,
    "start_time": "2024-09-18T22:26:53.327Z"
   },
   {
    "duration": 15,
    "start_time": "2024-09-18T22:30:29.287Z"
   },
   {
    "duration": 3,
    "start_time": "2024-09-18T22:30:35.463Z"
   },
   {
    "duration": 94,
    "start_time": "2024-09-18T22:31:07.284Z"
   },
   {
    "duration": 42,
    "start_time": "2024-09-18T22:31:19.514Z"
   },
   {
    "duration": 47,
    "start_time": "2024-09-18T22:31:20.409Z"
   },
   {
    "duration": 467768,
    "start_time": "2024-09-18T22:40:02.773Z"
   },
   {
    "duration": 7,
    "start_time": "2024-09-18T23:01:55.617Z"
   },
   {
    "duration": 59,
    "start_time": "2024-09-18T23:02:34.883Z"
   },
   {
    "duration": 3,
    "start_time": "2024-09-18T23:02:49.736Z"
   },
   {
    "duration": 7604,
    "start_time": "2024-09-18T23:03:17.151Z"
   },
   {
    "duration": 3,
    "start_time": "2024-09-18T23:06:07.852Z"
   },
   {
    "duration": 23079,
    "start_time": "2024-09-18T23:06:10.261Z"
   },
   {
    "duration": 27280,
    "start_time": "2024-09-18T23:06:53.467Z"
   },
   {
    "duration": 45266,
    "start_time": "2024-09-18T23:08:11.474Z"
   },
   {
    "duration": 76013,
    "start_time": "2024-09-18T23:09:25.736Z"
   },
   {
    "duration": 4,
    "start_time": "2024-09-18T23:10:46.535Z"
   },
   {
    "duration": 3,
    "start_time": "2024-09-18T23:11:46.383Z"
   },
   {
    "duration": 14,
    "start_time": "2024-09-18T23:11:51.610Z"
   },
   {
    "duration": 3,
    "start_time": "2024-09-18T23:11:56.464Z"
   },
   {
    "duration": 4,
    "start_time": "2024-09-18T23:13:46.126Z"
   },
   {
    "duration": 5,
    "start_time": "2024-09-18T23:14:17.669Z"
   },
   {
    "duration": 14,
    "start_time": "2024-09-18T23:14:25.726Z"
   },
   {
    "duration": 6,
    "start_time": "2024-09-18T23:14:28.839Z"
   },
   {
    "duration": 4,
    "start_time": "2024-09-18T23:14:34.298Z"
   },
   {
    "duration": 15875,
    "start_time": "2024-09-18T23:15:38.961Z"
   },
   {
    "duration": 15584,
    "start_time": "2024-09-18T23:16:29.558Z"
   },
   {
    "duration": 6,
    "start_time": "2024-09-18T23:18:07.669Z"
   },
   {
    "duration": 77565,
    "start_time": "2024-09-18T23:18:53.266Z"
   },
   {
    "duration": 4,
    "start_time": "2024-09-18T23:21:14.932Z"
   },
   {
    "duration": 2,
    "start_time": "2024-09-18T23:21:25.659Z"
   },
   {
    "duration": 4,
    "start_time": "2024-09-18T23:21:33.479Z"
   },
   {
    "duration": 1512,
    "start_time": "2024-09-18T23:22:03.457Z"
   },
   {
    "duration": 104573,
    "start_time": "2024-09-18T23:23:46.666Z"
   },
   {
    "duration": 102930,
    "start_time": "2024-09-18T23:26:59.201Z"
   },
   {
    "duration": 4,
    "start_time": "2024-09-18T23:28:47.137Z"
   },
   {
    "duration": 9,
    "start_time": "2024-09-18T23:28:59.419Z"
   },
   {
    "duration": 4,
    "start_time": "2024-09-18T23:29:29.512Z"
   },
   {
    "duration": 2715,
    "start_time": "2024-09-18T23:29:34.855Z"
   },
   {
    "duration": 2639,
    "start_time": "2024-09-19T01:38:44.262Z"
   },
   {
    "duration": 1921,
    "start_time": "2024-09-19T01:38:46.903Z"
   },
   {
    "duration": 84,
    "start_time": "2024-09-19T01:38:48.826Z"
   },
   {
    "duration": 101,
    "start_time": "2024-09-19T01:38:48.923Z"
   },
   {
    "duration": 5,
    "start_time": "2024-09-19T01:38:49.026Z"
   },
   {
    "duration": 35132,
    "start_time": "2024-09-19T01:38:49.033Z"
   },
   {
    "duration": 36,
    "start_time": "2024-09-19T01:39:24.167Z"
   },
   {
    "duration": 44,
    "start_time": "2024-09-19T01:39:24.204Z"
   },
   {
    "duration": 34,
    "start_time": "2024-09-19T01:39:24.249Z"
   },
   {
    "duration": 49,
    "start_time": "2024-09-19T01:39:24.286Z"
   },
   {
    "duration": 36,
    "start_time": "2024-09-19T01:39:24.336Z"
   },
   {
    "duration": 23,
    "start_time": "2024-09-19T01:39:24.373Z"
   },
   {
    "duration": 331,
    "start_time": "2024-09-19T01:39:24.397Z"
   },
   {
    "duration": 1046,
    "start_time": "2024-09-19T01:39:24.729Z"
   },
   {
    "duration": 343,
    "start_time": "2024-09-19T01:39:25.777Z"
   },
   {
    "duration": 8618,
    "start_time": "2024-09-19T01:39:26.123Z"
   },
   {
    "duration": 30590,
    "start_time": "2024-09-19T01:39:34.743Z"
   },
   {
    "duration": 124,
    "start_time": "2024-09-19T01:40:05.336Z"
   },
   {
    "duration": 688468,
    "start_time": "2024-09-19T01:40:05.462Z"
   },
   {
    "duration": 2535,
    "start_time": "2024-09-19T01:51:33.933Z"
   },
   {
    "duration": 805,
    "start_time": "2024-09-19T01:51:36.470Z"
   },
   {
    "duration": 27,
    "start_time": "2024-09-19T01:51:37.276Z"
   },
   {
    "duration": 102933,
    "start_time": "2024-09-19T01:51:37.304Z"
   },
   {
    "duration": 8,
    "start_time": "2024-09-19T01:53:20.240Z"
   },
   {
    "duration": 5,
    "start_time": "2024-09-19T01:53:20.249Z"
   },
   {
    "duration": 3017,
    "start_time": "2024-09-19T01:53:20.256Z"
   },
   {
    "duration": 4,
    "start_time": "2024-09-19T02:04:29.694Z"
   },
   {
    "duration": 324,
    "start_time": "2024-09-19T02:04:37.069Z"
   },
   {
    "duration": 923,
    "start_time": "2024-09-19T02:06:37.148Z"
   },
   {
    "duration": 2225,
    "start_time": "2024-09-19T02:06:38.074Z"
   },
   {
    "duration": 66,
    "start_time": "2024-09-19T02:06:40.300Z"
   },
   {
    "duration": 95,
    "start_time": "2024-09-19T02:06:40.368Z"
   },
   {
    "duration": 4,
    "start_time": "2024-09-19T02:06:40.465Z"
   },
   {
    "duration": 35806,
    "start_time": "2024-09-19T02:06:40.470Z"
   },
   {
    "duration": 45,
    "start_time": "2024-09-19T02:07:16.278Z"
   },
   {
    "duration": 35,
    "start_time": "2024-09-19T02:07:16.325Z"
   },
   {
    "duration": 35,
    "start_time": "2024-09-19T02:07:16.361Z"
   },
   {
    "duration": 49,
    "start_time": "2024-09-19T02:07:16.400Z"
   },
   {
    "duration": 36,
    "start_time": "2024-09-19T02:07:16.451Z"
   },
   {
    "duration": 38,
    "start_time": "2024-09-19T02:07:16.488Z"
   },
   {
    "duration": 306,
    "start_time": "2024-09-19T02:07:16.528Z"
   },
   {
    "duration": 1116,
    "start_time": "2024-09-19T02:07:16.836Z"
   },
   {
    "duration": 326,
    "start_time": "2024-09-19T02:07:17.953Z"
   },
   {
    "duration": 2,
    "start_time": "2024-09-19T02:07:18.281Z"
   },
   {
    "duration": 768,
    "start_time": "2024-09-19T02:07:30.760Z"
   },
   {
    "duration": 1967,
    "start_time": "2024-09-19T02:07:31.531Z"
   },
   {
    "duration": 65,
    "start_time": "2024-09-19T02:07:33.500Z"
   },
   {
    "duration": 98,
    "start_time": "2024-09-19T02:07:33.566Z"
   },
   {
    "duration": 4,
    "start_time": "2024-09-19T02:07:33.667Z"
   },
   {
    "duration": 35638,
    "start_time": "2024-09-19T02:07:33.673Z"
   },
   {
    "duration": 50,
    "start_time": "2024-09-19T02:08:09.313Z"
   },
   {
    "duration": 35,
    "start_time": "2024-09-19T02:08:09.365Z"
   },
   {
    "duration": 53,
    "start_time": "2024-09-19T02:08:09.402Z"
   },
   {
    "duration": 35,
    "start_time": "2024-09-19T02:08:09.457Z"
   },
   {
    "duration": 49,
    "start_time": "2024-09-19T02:08:09.493Z"
   },
   {
    "duration": 23,
    "start_time": "2024-09-19T02:08:09.544Z"
   },
   {
    "duration": 337,
    "start_time": "2024-09-19T02:08:09.568Z"
   },
   {
    "duration": 1047,
    "start_time": "2024-09-19T02:08:09.909Z"
   },
   {
    "duration": 330,
    "start_time": "2024-09-19T02:08:10.958Z"
   },
   {
    "duration": 3,
    "start_time": "2024-09-19T02:08:11.289Z"
   },
   {
    "duration": 8534,
    "start_time": "2024-09-19T02:08:11.294Z"
   },
   {
    "duration": 106,
    "start_time": "2024-09-19T02:08:19.831Z"
   },
   {
    "duration": 395,
    "start_time": "2024-09-19T02:08:19.939Z"
   },
   {
    "duration": 88,
    "start_time": "2024-09-19T02:08:20.336Z"
   },
   {
    "duration": 31946,
    "start_time": "2024-09-19T02:08:20.426Z"
   },
   {
    "duration": 68,
    "start_time": "2024-09-19T02:08:52.374Z"
   },
   {
    "duration": 61,
    "start_time": "2024-09-19T02:08:52.445Z"
   },
   {
    "duration": 23,
    "start_time": "2024-09-19T02:08:52.508Z"
   },
   {
    "duration": 691134,
    "start_time": "2024-09-19T02:08:52.533Z"
   },
   {
    "duration": 1313,
    "start_time": "2024-09-19T02:20:23.668Z"
   },
   {
    "duration": 1287,
    "start_time": "2024-09-19T02:20:24.982Z"
   },
   {
    "duration": 823,
    "start_time": "2024-09-19T02:20:26.271Z"
   },
   {
    "duration": 56,
    "start_time": "2024-09-19T02:20:27.097Z"
   },
   {
    "duration": 3,
    "start_time": "2024-09-19T02:20:27.155Z"
   },
   {
    "duration": 100784,
    "start_time": "2024-09-19T02:20:27.161Z"
   },
   {
    "duration": 83,
    "start_time": "2024-09-19T02:22:07.947Z"
   },
   {
    "duration": 3,
    "start_time": "2024-09-19T02:22:08.032Z"
   },
   {
    "duration": 2993,
    "start_time": "2024-09-19T02:22:08.037Z"
   },
   {
    "duration": 4,
    "start_time": "2024-09-19T02:22:11.033Z"
   },
   {
    "duration": 3,
    "start_time": "2024-09-19T02:45:22.030Z"
   },
   {
    "duration": 6157,
    "start_time": "2024-09-19T02:45:22.037Z"
   },
   {
    "duration": 63,
    "start_time": "2024-09-19T02:45:28.196Z"
   },
   {
    "duration": 100,
    "start_time": "2024-09-19T02:45:28.260Z"
   },
   {
    "duration": 5,
    "start_time": "2024-09-19T02:45:28.361Z"
   },
   {
    "duration": 34701,
    "start_time": "2024-09-19T02:45:28.368Z"
   },
   {
    "duration": 36,
    "start_time": "2024-09-19T02:46:03.071Z"
   },
   {
    "duration": 42,
    "start_time": "2024-09-19T02:46:03.108Z"
   },
   {
    "duration": 38,
    "start_time": "2024-09-19T02:46:03.152Z"
   },
   {
    "duration": 54,
    "start_time": "2024-09-19T02:46:03.192Z"
   },
   {
    "duration": 36,
    "start_time": "2024-09-19T02:46:03.247Z"
   },
   {
    "duration": 18,
    "start_time": "2024-09-19T02:46:03.285Z"
   },
   {
    "duration": 315,
    "start_time": "2024-09-19T02:46:03.304Z"
   },
   {
    "duration": 994,
    "start_time": "2024-09-19T02:46:03.625Z"
   },
   {
    "duration": 307,
    "start_time": "2024-09-19T02:46:04.622Z"
   },
   {
    "duration": 3,
    "start_time": "2024-09-19T02:46:04.930Z"
   },
   {
    "duration": 8108,
    "start_time": "2024-09-19T02:46:04.935Z"
   },
   {
    "duration": 117,
    "start_time": "2024-09-19T02:46:13.045Z"
   },
   {
    "duration": 321,
    "start_time": "2024-09-19T02:46:13.229Z"
   },
   {
    "duration": 4,
    "start_time": "2024-09-19T02:46:13.555Z"
   },
   {
    "duration": 31778,
    "start_time": "2024-09-19T02:46:13.626Z"
   },
   {
    "duration": 67,
    "start_time": "2024-09-19T02:46:45.405Z"
   },
   {
    "duration": 69,
    "start_time": "2024-09-19T02:46:45.474Z"
   },
   {
    "duration": 3,
    "start_time": "2024-09-19T02:46:45.545Z"
   },
   {
    "duration": 688729,
    "start_time": "2024-09-19T02:46:45.551Z"
   },
   {
    "duration": 1265,
    "start_time": "2024-09-19T02:58:14.282Z"
   },
   {
    "duration": 1287,
    "start_time": "2024-09-19T02:58:15.549Z"
   },
   {
    "duration": 817,
    "start_time": "2024-09-19T02:58:16.838Z"
   },
   {
    "duration": 3,
    "start_time": "2024-09-19T02:58:17.657Z"
   },
   {
    "duration": 3,
    "start_time": "2024-09-19T02:58:17.662Z"
   },
   {
    "duration": 107462,
    "start_time": "2024-09-19T02:58:17.667Z"
   },
   {
    "duration": 7,
    "start_time": "2024-09-19T03:00:05.133Z"
   },
   {
    "duration": 6,
    "start_time": "2024-09-19T03:00:05.142Z"
   },
   {
    "duration": 3009,
    "start_time": "2024-09-19T03:00:05.149Z"
   },
   {
    "duration": 64,
    "start_time": "2024-09-19T03:00:08.160Z"
   },
   {
    "duration": 804,
    "start_time": "2024-09-20T02:44:10.329Z"
   },
   {
    "duration": 1875,
    "start_time": "2024-09-20T02:44:11.136Z"
   },
   {
    "duration": 76,
    "start_time": "2024-09-20T02:44:13.013Z"
   },
   {
    "duration": 121,
    "start_time": "2024-09-20T02:44:13.091Z"
   },
   {
    "duration": 4,
    "start_time": "2024-09-20T02:44:13.214Z"
   },
   {
    "duration": 36685,
    "start_time": "2024-09-20T02:44:13.220Z"
   },
   {
    "duration": 36,
    "start_time": "2024-09-20T02:44:49.907Z"
   },
   {
    "duration": 48,
    "start_time": "2024-09-20T02:44:49.945Z"
   },
   {
    "duration": 41,
    "start_time": "2024-09-20T02:44:49.995Z"
   },
   {
    "duration": 54,
    "start_time": "2024-09-20T02:44:50.039Z"
   },
   {
    "duration": 37,
    "start_time": "2024-09-20T02:44:50.095Z"
   },
   {
    "duration": 22,
    "start_time": "2024-09-20T02:44:50.133Z"
   },
   {
    "duration": 370,
    "start_time": "2024-09-20T02:44:50.156Z"
   },
   {
    "duration": 1047,
    "start_time": "2024-09-20T02:44:50.528Z"
   },
   {
    "duration": 318,
    "start_time": "2024-09-20T02:44:51.577Z"
   },
   {
    "duration": 3,
    "start_time": "2024-09-20T02:44:51.897Z"
   },
   {
    "duration": 8907,
    "start_time": "2024-09-20T02:44:51.902Z"
   },
   {
    "duration": 110,
    "start_time": "2024-09-20T02:45:00.811Z"
   },
   {
    "duration": 394,
    "start_time": "2024-09-20T02:45:00.924Z"
   },
   {
    "duration": 78,
    "start_time": "2024-09-20T02:45:01.321Z"
   },
   {
    "duration": 32317,
    "start_time": "2024-09-20T02:45:01.401Z"
   },
   {
    "duration": 68,
    "start_time": "2024-09-20T02:45:33.720Z"
   },
   {
    "duration": 65,
    "start_time": "2024-09-20T02:45:33.789Z"
   },
   {
    "duration": 11,
    "start_time": "2024-09-20T02:45:33.855Z"
   },
   {
    "duration": 751061,
    "start_time": "2024-09-20T02:45:33.868Z"
   },
   {
    "duration": 1326,
    "start_time": "2024-09-20T02:58:04.930Z"
   },
   {
    "duration": 1353,
    "start_time": "2024-09-20T02:58:06.258Z"
   },
   {
    "duration": 840,
    "start_time": "2024-09-20T02:58:07.615Z"
   },
   {
    "duration": 53,
    "start_time": "2024-09-20T02:58:08.456Z"
   },
   {
    "duration": 2,
    "start_time": "2024-09-20T02:58:08.511Z"
   },
   {
    "duration": 111390,
    "start_time": "2024-09-20T02:58:08.515Z"
   },
   {
    "duration": 8,
    "start_time": "2024-09-20T02:59:59.986Z"
   },
   {
    "duration": 4,
    "start_time": "2024-09-20T02:59:59.996Z"
   },
   {
    "duration": 3093,
    "start_time": "2024-09-20T03:00:00.002Z"
   },
   {
    "duration": 4,
    "start_time": "2024-09-20T03:00:03.097Z"
   },
   {
    "duration": 5,
    "start_time": "2024-09-20T05:11:56.459Z"
   }
  ],
  "kernelspec": {
   "display_name": "Python 3 (ipykernel)",
   "language": "python",
   "name": "python3"
  },
  "language_info": {
   "codemirror_mode": {
    "name": "ipython",
    "version": 3
   },
   "file_extension": ".py",
   "mimetype": "text/x-python",
   "name": "python",
   "nbconvert_exporter": "python",
   "pygments_lexer": "ipython3",
   "version": "3.9.19"
  },
  "toc": {
   "base_numbering": 1,
   "nav_menu": {},
   "number_sections": true,
   "sideBar": true,
   "skip_h1_title": true,
   "title_cell": "Table of Contents",
   "title_sidebar": "Contents",
   "toc_cell": false,
   "toc_position": {},
   "toc_section_display": true,
   "toc_window_display": false
  }
 },
 "nbformat": 4,
 "nbformat_minor": 2
}
